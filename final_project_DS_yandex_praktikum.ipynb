{
 "cells": [
  {
   "cell_type": "markdown",
   "metadata": {},
   "source": [
    "# Промышленность — задача проекта\n",
    "\n",
    "Чтобы оптимизировать производственные расходы, металлургический комбинат ООО «Так закаляем сталь» решил уменьшить потребление электроэнергии на этапе обработки стали. Вам предстоит построить модель, которая предскажет температуру стали.\n",
    "\n",
    "****Описание этапа обработки****\n",
    "\n",
    "Сталь обрабатывают в металлическом ковше вместимостью около 100 тонн. Чтобы ковш выдерживал высокие температуры, изнутри его облицовывают огнеупорным кирпичом. Расплавленную сталь заливают в ковш и подогревают до нужной температуры графитовыми электродами. Они установлены в крышке ковша. \n",
    "\n",
    "Из сплава выводится сера (десульфурация), добавлением примесей корректируется химический состав и отбираются пробы. Сталь легируют — изменяют её состав — подавая куски сплава из бункера для сыпучих материалов или проволоку через специальный трайб-аппарат (англ. tribe, «масса»).\n",
    "\n",
    "Перед тем как первый раз ввести легирующие добавки, измеряют температуру стали и производят её химический анализ. Потом температуру на несколько минут повышают, добавляют легирующие материалы и продувают сплав инертным газом. Затем его перемешивают и снова проводят измерения. Такой цикл повторяется до достижения целевого химического состава и оптимальной температуры плавки.\n",
    "\n",
    "Тогда расплавленная сталь отправляется на доводку металла или поступает в машину непрерывной разливки. Оттуда готовый продукт выходит в виде заготовок-слябов (англ. *slab*, «плита»).\n",
    "\n",
    "****Описание данных****\n",
    "\n",
    "Данные состоят из файлов, полученных из разных источников:\n",
    "\n",
    "- `data_arc_new.csv` — данные об электродах;\n",
    "- `data_bulk_new.csv` — данные о подаче сыпучих материалов (объём);\n",
    "- `data_bulk_time_new.csv` *—* данные о подаче сыпучих материалов (время);\n",
    "- `data_gas_new.csv` — данные о продувке сплава газом;\n",
    "- `data_temp_new.csv` — результаты измерения температуры;\n",
    "- `data_wire_new.csv` — данные о проволочных материалах (объём);\n",
    "- `data_wire_time_new.csv` — данные о проволочных материалах (время).\n",
    "\n",
    "Во всех файлах столбец `key` содержит номер партии. В файлах может быть несколько строк с одинаковым значением `key`: они соответствуют разным итерациям обработки."
   ]
  },
  {
   "cell_type": "markdown",
   "metadata": {},
   "source": [
    "### План работы\n",
    "\n",
    "1. Загрузить и изучить имеющиеся данные.Обработать пропуски заполнением нолями данных о подаче сыпучих и о подаче сыпучих материалов (объём).Удалим строки с  температуры и подаче сыпучих и о подаче сыпучих материалов (объём) с аномальными данными. Столбец с температорой переведем из типа float в тип int.\n",
    "2. Создадим общий дата фрейм со всеми признаками путем группировки по столбцу \"key\" и далее сделаем данный столбец индексом для слияния датафремов,затем разделить на тренировачную и тестовую выборки в соотношении 1:3, выделив целевой признак-конечную температуру.\n",
    "\n",
    "3. Обучить несколько моделей на имеющихся данных (Линейная регрессия, Регрессор ЛГБМ, CatBoost Regressor)\n",
    "4. Оценить наиболее модель давшую наиболее точные резуальтыта на тестовой выборке.\n",
    "5. Написание отчета по проделанной работе.\n",
    "\n",
    "План необходимо основные действия, метод объединения таблиц написанть например или способ заполнения пропусков и т.д."
   ]
  },
  {
   "cell_type": "markdown",
   "metadata": {},
   "source": [
    "#### Загрузим необходимые библиотеки"
   ]
  },
  {
   "cell_type": "code",
   "execution_count": 1,
   "metadata": {},
   "outputs": [],
   "source": [
    "import pandas as pd\n",
    "import seaborn as sns\n",
    "import matplotlib.pyplot as plt\n",
    "import numpy as np\n",
    "from sklearn.model_selection import train_test_split\n",
    "from sklearn.metrics import mean_absolute_error\n",
    "from sklearn.model_selection import cross_val_score\n",
    "from sklearn.model_selection import GridSearchCV\n",
    "from sklearn.ensemble import IsolationForest\n",
    "from sklearn.linear_model import LinearRegression\n",
    "from lightgbm import LGBMRegressor\n",
    "from sklearn.ensemble import RandomForestRegressor\n",
    "from catboost import CatBoostRegressor\n",
    "import warnings\n",
    "warnings.filterwarnings('ignore')"
   ]
  },
  {
   "cell_type": "markdown",
   "metadata": {},
   "source": [
    "#### Обьявим переменные"
   ]
  },
  {
   "cell_type": "code",
   "execution_count": 2,
   "metadata": {},
   "outputs": [],
   "source": [
    "RANDOM_STATE = 240423\n",
    "CVC=5\n",
    "TEST_SIZE=0.25"
   ]
  },
  {
   "cell_type": "markdown",
   "metadata": {},
   "source": [
    "#### Загрузим датасеты"
   ]
  },
  {
   "cell_type": "code",
   "execution_count": 3,
   "metadata": {},
   "outputs": [],
   "source": [
    "try:\n",
    "    data_arc=pd.read_csv('datasets/final_steel/data_arc.csv')\n",
    "    data_bulk=pd.read_csv('datasets/final_steel/data_bulk.csv')\n",
    "    data_bulk_time=pd.read_csv('datasets/final_steel/data_bulk_time.csv')\n",
    "    data_gas=pd.read_csv('datasets/final_steel/data_gas.csv')\n",
    "    data_temp=pd.read_csv('datasets/final_steel/data_temp.csv')\n",
    "    data_wire=pd.read_csv('datasets/final_steel/data_wire.csv')\n",
    "    data_wire_time=pd.read_csv('datasets/final_steel/data_wire_time.csv')\n",
    "except:\n",
    "    data_arc=pd.read_csv('/datasets/final_steel/data_arc.csv')\n",
    "    data_bulk=pd.read_csv('/datasets/final_steel/data_bulk.csv')\n",
    "    data_bulk_time=pd.read_csv('/datasets/final_steel/data_bulk_time.csv')\n",
    "    data_gas=pd.read_csv('/datasets/final_steel/data_gas.csv')\n",
    "    data_temp=pd.read_csv('/datasets/final_steel/data_temp.csv')\n",
    "    data_wire=pd.read_csv('/datasets/final_steel/data_wire.csv')\n",
    "    data_wire_time=pd.read_csv('/datasets/final_steel/data_wire_time.csv')\n"
   ]
  },
  {
   "cell_type": "code",
   "execution_count": 4,
   "metadata": {},
   "outputs": [],
   "source": [
    "def show_info(scv):\n",
    "    display(scv.head(15))\n",
    "    display(scv.info())\n",
    "    display(scv.describe())\n",
    "    return\n"
   ]
  },
  {
   "cell_type": "markdown",
   "metadata": {},
   "source": [
    "#### Выведем статистические данные об электродах"
   ]
  },
  {
   "cell_type": "code",
   "execution_count": 5,
   "metadata": {},
   "outputs": [
    {
     "data": {
      "text/html": [
       "<div>\n",
       "<style scoped>\n",
       "    .dataframe tbody tr th:only-of-type {\n",
       "        vertical-align: middle;\n",
       "    }\n",
       "\n",
       "    .dataframe tbody tr th {\n",
       "        vertical-align: top;\n",
       "    }\n",
       "\n",
       "    .dataframe thead th {\n",
       "        text-align: right;\n",
       "    }\n",
       "</style>\n",
       "<table border=\"1\" class=\"dataframe\">\n",
       "  <thead>\n",
       "    <tr style=\"text-align: right;\">\n",
       "      <th></th>\n",
       "      <th>key</th>\n",
       "      <th>Начало нагрева дугой</th>\n",
       "      <th>Конец нагрева дугой</th>\n",
       "      <th>Активная мощность</th>\n",
       "      <th>Реактивная мощность</th>\n",
       "    </tr>\n",
       "  </thead>\n",
       "  <tbody>\n",
       "    <tr>\n",
       "      <th>0</th>\n",
       "      <td>1</td>\n",
       "      <td>2019-05-03 11:02:14</td>\n",
       "      <td>2019-05-03 11:06:02</td>\n",
       "      <td>0.976059</td>\n",
       "      <td>0.687084</td>\n",
       "    </tr>\n",
       "    <tr>\n",
       "      <th>1</th>\n",
       "      <td>1</td>\n",
       "      <td>2019-05-03 11:07:28</td>\n",
       "      <td>2019-05-03 11:10:33</td>\n",
       "      <td>0.805607</td>\n",
       "      <td>0.520285</td>\n",
       "    </tr>\n",
       "    <tr>\n",
       "      <th>2</th>\n",
       "      <td>1</td>\n",
       "      <td>2019-05-03 11:11:44</td>\n",
       "      <td>2019-05-03 11:14:36</td>\n",
       "      <td>0.744363</td>\n",
       "      <td>0.498805</td>\n",
       "    </tr>\n",
       "    <tr>\n",
       "      <th>3</th>\n",
       "      <td>1</td>\n",
       "      <td>2019-05-03 11:18:14</td>\n",
       "      <td>2019-05-03 11:24:19</td>\n",
       "      <td>1.659363</td>\n",
       "      <td>1.062669</td>\n",
       "    </tr>\n",
       "    <tr>\n",
       "      <th>4</th>\n",
       "      <td>1</td>\n",
       "      <td>2019-05-03 11:26:09</td>\n",
       "      <td>2019-05-03 11:28:37</td>\n",
       "      <td>0.692755</td>\n",
       "      <td>0.414397</td>\n",
       "    </tr>\n",
       "    <tr>\n",
       "      <th>5</th>\n",
       "      <td>2</td>\n",
       "      <td>2019-05-03 11:34:14</td>\n",
       "      <td>2019-05-03 11:36:31</td>\n",
       "      <td>0.438063</td>\n",
       "      <td>0.283043</td>\n",
       "    </tr>\n",
       "    <tr>\n",
       "      <th>6</th>\n",
       "      <td>2</td>\n",
       "      <td>2019-05-03 11:38:50</td>\n",
       "      <td>2019-05-03 11:44:28</td>\n",
       "      <td>1.296415</td>\n",
       "      <td>0.892914</td>\n",
       "    </tr>\n",
       "    <tr>\n",
       "      <th>7</th>\n",
       "      <td>2</td>\n",
       "      <td>2019-05-03 11:46:19</td>\n",
       "      <td>2019-05-03 11:48:25</td>\n",
       "      <td>0.490377</td>\n",
       "      <td>0.305281</td>\n",
       "    </tr>\n",
       "    <tr>\n",
       "      <th>8</th>\n",
       "      <td>2</td>\n",
       "      <td>2019-05-03 11:49:48</td>\n",
       "      <td>2019-05-03 11:53:18</td>\n",
       "      <td>0.827743</td>\n",
       "      <td>0.516874</td>\n",
       "    </tr>\n",
       "    <tr>\n",
       "      <th>9</th>\n",
       "      <td>3</td>\n",
       "      <td>2019-05-03 12:06:54</td>\n",
       "      <td>2019-05-03 12:11:34</td>\n",
       "      <td>1.062053</td>\n",
       "      <td>0.671494</td>\n",
       "    </tr>\n",
       "    <tr>\n",
       "      <th>10</th>\n",
       "      <td>3</td>\n",
       "      <td>2019-05-03 12:13:52</td>\n",
       "      <td>2019-05-03 12:15:56</td>\n",
       "      <td>0.484206</td>\n",
       "      <td>0.312100</td>\n",
       "    </tr>\n",
       "    <tr>\n",
       "      <th>11</th>\n",
       "      <td>3</td>\n",
       "      <td>2019-05-03 12:18:56</td>\n",
       "      <td>2019-05-03 12:20:45</td>\n",
       "      <td>0.429355</td>\n",
       "      <td>0.271774</td>\n",
       "    </tr>\n",
       "    <tr>\n",
       "      <th>12</th>\n",
       "      <td>3</td>\n",
       "      <td>2019-05-03 12:25:43</td>\n",
       "      <td>2019-05-03 12:27:00</td>\n",
       "      <td>0.299989</td>\n",
       "      <td>0.187806</td>\n",
       "    </tr>\n",
       "    <tr>\n",
       "      <th>13</th>\n",
       "      <td>3</td>\n",
       "      <td>2019-05-03 12:31:14</td>\n",
       "      <td>2019-05-03 12:32:19</td>\n",
       "      <td>0.250280</td>\n",
       "      <td>0.155901</td>\n",
       "    </tr>\n",
       "    <tr>\n",
       "      <th>14</th>\n",
       "      <td>4</td>\n",
       "      <td>2019-05-03 12:39:37</td>\n",
       "      <td>2019-05-03 12:43:04</td>\n",
       "      <td>0.875313</td>\n",
       "      <td>0.614404</td>\n",
       "    </tr>\n",
       "  </tbody>\n",
       "</table>\n",
       "</div>"
      ],
      "text/plain": [
       "    key Начало нагрева дугой  Конец нагрева дугой  Активная мощность  \\\n",
       "0     1  2019-05-03 11:02:14  2019-05-03 11:06:02           0.976059   \n",
       "1     1  2019-05-03 11:07:28  2019-05-03 11:10:33           0.805607   \n",
       "2     1  2019-05-03 11:11:44  2019-05-03 11:14:36           0.744363   \n",
       "3     1  2019-05-03 11:18:14  2019-05-03 11:24:19           1.659363   \n",
       "4     1  2019-05-03 11:26:09  2019-05-03 11:28:37           0.692755   \n",
       "5     2  2019-05-03 11:34:14  2019-05-03 11:36:31           0.438063   \n",
       "6     2  2019-05-03 11:38:50  2019-05-03 11:44:28           1.296415   \n",
       "7     2  2019-05-03 11:46:19  2019-05-03 11:48:25           0.490377   \n",
       "8     2  2019-05-03 11:49:48  2019-05-03 11:53:18           0.827743   \n",
       "9     3  2019-05-03 12:06:54  2019-05-03 12:11:34           1.062053   \n",
       "10    3  2019-05-03 12:13:52  2019-05-03 12:15:56           0.484206   \n",
       "11    3  2019-05-03 12:18:56  2019-05-03 12:20:45           0.429355   \n",
       "12    3  2019-05-03 12:25:43  2019-05-03 12:27:00           0.299989   \n",
       "13    3  2019-05-03 12:31:14  2019-05-03 12:32:19           0.250280   \n",
       "14    4  2019-05-03 12:39:37  2019-05-03 12:43:04           0.875313   \n",
       "\n",
       "    Реактивная мощность  \n",
       "0              0.687084  \n",
       "1              0.520285  \n",
       "2              0.498805  \n",
       "3              1.062669  \n",
       "4              0.414397  \n",
       "5              0.283043  \n",
       "6              0.892914  \n",
       "7              0.305281  \n",
       "8              0.516874  \n",
       "9              0.671494  \n",
       "10             0.312100  \n",
       "11             0.271774  \n",
       "12             0.187806  \n",
       "13             0.155901  \n",
       "14             0.614404  "
      ]
     },
     "metadata": {},
     "output_type": "display_data"
    },
    {
     "name": "stdout",
     "output_type": "stream",
     "text": [
      "<class 'pandas.core.frame.DataFrame'>\n",
      "RangeIndex: 14876 entries, 0 to 14875\n",
      "Data columns (total 5 columns):\n",
      " #   Column                Non-Null Count  Dtype  \n",
      "---  ------                --------------  -----  \n",
      " 0   key                   14876 non-null  int64  \n",
      " 1   Начало нагрева дугой  14876 non-null  object \n",
      " 2   Конец нагрева дугой   14876 non-null  object \n",
      " 3   Активная мощность     14876 non-null  float64\n",
      " 4   Реактивная мощность   14876 non-null  float64\n",
      "dtypes: float64(2), int64(1), object(2)\n",
      "memory usage: 581.2+ KB\n"
     ]
    },
    {
     "data": {
      "text/plain": [
       "None"
      ]
     },
     "metadata": {},
     "output_type": "display_data"
    },
    {
     "data": {
      "text/html": [
       "<div>\n",
       "<style scoped>\n",
       "    .dataframe tbody tr th:only-of-type {\n",
       "        vertical-align: middle;\n",
       "    }\n",
       "\n",
       "    .dataframe tbody tr th {\n",
       "        vertical-align: top;\n",
       "    }\n",
       "\n",
       "    .dataframe thead th {\n",
       "        text-align: right;\n",
       "    }\n",
       "</style>\n",
       "<table border=\"1\" class=\"dataframe\">\n",
       "  <thead>\n",
       "    <tr style=\"text-align: right;\">\n",
       "      <th></th>\n",
       "      <th>key</th>\n",
       "      <th>Активная мощность</th>\n",
       "      <th>Реактивная мощность</th>\n",
       "    </tr>\n",
       "  </thead>\n",
       "  <tbody>\n",
       "    <tr>\n",
       "      <th>count</th>\n",
       "      <td>14876.000000</td>\n",
       "      <td>14876.000000</td>\n",
       "      <td>14876.000000</td>\n",
       "    </tr>\n",
       "    <tr>\n",
       "      <th>mean</th>\n",
       "      <td>1615.220422</td>\n",
       "      <td>0.670441</td>\n",
       "      <td>0.452592</td>\n",
       "    </tr>\n",
       "    <tr>\n",
       "      <th>std</th>\n",
       "      <td>934.571502</td>\n",
       "      <td>0.408159</td>\n",
       "      <td>5.878702</td>\n",
       "    </tr>\n",
       "    <tr>\n",
       "      <th>min</th>\n",
       "      <td>1.000000</td>\n",
       "      <td>0.030002</td>\n",
       "      <td>-715.504924</td>\n",
       "    </tr>\n",
       "    <tr>\n",
       "      <th>25%</th>\n",
       "      <td>806.000000</td>\n",
       "      <td>0.395297</td>\n",
       "      <td>0.290991</td>\n",
       "    </tr>\n",
       "    <tr>\n",
       "      <th>50%</th>\n",
       "      <td>1617.000000</td>\n",
       "      <td>0.555517</td>\n",
       "      <td>0.415962</td>\n",
       "    </tr>\n",
       "    <tr>\n",
       "      <th>75%</th>\n",
       "      <td>2429.000000</td>\n",
       "      <td>0.857034</td>\n",
       "      <td>0.637371</td>\n",
       "    </tr>\n",
       "    <tr>\n",
       "      <th>max</th>\n",
       "      <td>3241.000000</td>\n",
       "      <td>3.731596</td>\n",
       "      <td>2.676388</td>\n",
       "    </tr>\n",
       "  </tbody>\n",
       "</table>\n",
       "</div>"
      ],
      "text/plain": [
       "                key  Активная мощность  Реактивная мощность\n",
       "count  14876.000000       14876.000000         14876.000000\n",
       "mean    1615.220422           0.670441             0.452592\n",
       "std      934.571502           0.408159             5.878702\n",
       "min        1.000000           0.030002          -715.504924\n",
       "25%      806.000000           0.395297             0.290991\n",
       "50%     1617.000000           0.555517             0.415962\n",
       "75%     2429.000000           0.857034             0.637371\n",
       "max     3241.000000           3.731596             2.676388"
      ]
     },
     "metadata": {},
     "output_type": "display_data"
    }
   ],
   "source": [
    "show_info(data_arc)"
   ]
  },
  {
   "cell_type": "markdown",
   "metadata": {},
   "source": [
    "#### Построим гистограмму для мощности"
   ]
  },
  {
   "cell_type": "code",
   "execution_count": 6,
   "metadata": {
    "scrolled": true
   },
   "outputs": [
    {
     "data": {
      "image/png": "[encoded data removed]",
      "text/plain": [
       "<Figure size 2000x800 with 1 Axes>"
      ]
     },
     "metadata": {},
     "output_type": "display_data"
    }
   ],
   "source": [
    "bins = np.linspace(0, 3, 100)\n",
    "plt.figure(figsize=(20,8),edgecolor='blue')\n",
    "plt.hist(data_arc['Активная мощность'], bins, alpha = 0.5, label='Активная мощность')\n",
    "plt.hist(data_arc['Реактивная мощность'], bins, alpha = 0.5, label='Реактивная мощность')\n",
    "plt.legend(loc='upper left')\n",
    "plt.show()"
   ]
  },
  {
   "cell_type": "markdown",
   "metadata": {},
   "source": [
    "##### Вывод:Распределение мощностей нормальное со смещением влево. При этом имеються аномальные значения реактивной мощности(-715.504924)"
   ]
  },
  {
   "cell_type": "markdown",
   "metadata": {},
   "source": [
    "#### Выведем статистические данные о подаче сыпучих материалов (объём)"
   ]
  },
  {
   "cell_type": "code",
   "execution_count": 7,
   "metadata": {},
   "outputs": [
    {
     "data": {
      "text/html": [
       "<div>\n",
       "<style scoped>\n",
       "    .dataframe tbody tr th:only-of-type {\n",
       "        vertical-align: middle;\n",
       "    }\n",
       "\n",
       "    .dataframe tbody tr th {\n",
       "        vertical-align: top;\n",
       "    }\n",
       "\n",
       "    .dataframe thead th {\n",
       "        text-align: right;\n",
       "    }\n",
       "</style>\n",
       "<table border=\"1\" class=\"dataframe\">\n",
       "  <thead>\n",
       "    <tr style=\"text-align: right;\">\n",
       "      <th></th>\n",
       "      <th>key</th>\n",
       "      <th>Bulk 1</th>\n",
       "      <th>Bulk 2</th>\n",
       "      <th>Bulk 3</th>\n",
       "      <th>Bulk 4</th>\n",
       "      <th>Bulk 5</th>\n",
       "      <th>Bulk 6</th>\n",
       "      <th>Bulk 7</th>\n",
       "      <th>Bulk 8</th>\n",
       "      <th>Bulk 9</th>\n",
       "      <th>Bulk 10</th>\n",
       "      <th>Bulk 11</th>\n",
       "      <th>Bulk 12</th>\n",
       "      <th>Bulk 13</th>\n",
       "      <th>Bulk 14</th>\n",
       "      <th>Bulk 15</th>\n",
       "    </tr>\n",
       "  </thead>\n",
       "  <tbody>\n",
       "    <tr>\n",
       "      <th>0</th>\n",
       "      <td>1</td>\n",
       "      <td>NaN</td>\n",
       "      <td>NaN</td>\n",
       "      <td>NaN</td>\n",
       "      <td>43.0</td>\n",
       "      <td>NaN</td>\n",
       "      <td>NaN</td>\n",
       "      <td>NaN</td>\n",
       "      <td>NaN</td>\n",
       "      <td>NaN</td>\n",
       "      <td>NaN</td>\n",
       "      <td>NaN</td>\n",
       "      <td>206.0</td>\n",
       "      <td>NaN</td>\n",
       "      <td>150.0</td>\n",
       "      <td>154.0</td>\n",
       "    </tr>\n",
       "    <tr>\n",
       "      <th>1</th>\n",
       "      <td>2</td>\n",
       "      <td>NaN</td>\n",
       "      <td>NaN</td>\n",
       "      <td>NaN</td>\n",
       "      <td>73.0</td>\n",
       "      <td>NaN</td>\n",
       "      <td>NaN</td>\n",
       "      <td>NaN</td>\n",
       "      <td>NaN</td>\n",
       "      <td>NaN</td>\n",
       "      <td>NaN</td>\n",
       "      <td>NaN</td>\n",
       "      <td>206.0</td>\n",
       "      <td>NaN</td>\n",
       "      <td>149.0</td>\n",
       "      <td>154.0</td>\n",
       "    </tr>\n",
       "    <tr>\n",
       "      <th>2</th>\n",
       "      <td>3</td>\n",
       "      <td>NaN</td>\n",
       "      <td>NaN</td>\n",
       "      <td>NaN</td>\n",
       "      <td>34.0</td>\n",
       "      <td>NaN</td>\n",
       "      <td>NaN</td>\n",
       "      <td>NaN</td>\n",
       "      <td>NaN</td>\n",
       "      <td>NaN</td>\n",
       "      <td>NaN</td>\n",
       "      <td>NaN</td>\n",
       "      <td>205.0</td>\n",
       "      <td>NaN</td>\n",
       "      <td>152.0</td>\n",
       "      <td>153.0</td>\n",
       "    </tr>\n",
       "    <tr>\n",
       "      <th>3</th>\n",
       "      <td>4</td>\n",
       "      <td>NaN</td>\n",
       "      <td>NaN</td>\n",
       "      <td>NaN</td>\n",
       "      <td>81.0</td>\n",
       "      <td>NaN</td>\n",
       "      <td>NaN</td>\n",
       "      <td>NaN</td>\n",
       "      <td>NaN</td>\n",
       "      <td>NaN</td>\n",
       "      <td>NaN</td>\n",
       "      <td>NaN</td>\n",
       "      <td>207.0</td>\n",
       "      <td>NaN</td>\n",
       "      <td>153.0</td>\n",
       "      <td>154.0</td>\n",
       "    </tr>\n",
       "    <tr>\n",
       "      <th>4</th>\n",
       "      <td>5</td>\n",
       "      <td>NaN</td>\n",
       "      <td>NaN</td>\n",
       "      <td>NaN</td>\n",
       "      <td>78.0</td>\n",
       "      <td>NaN</td>\n",
       "      <td>NaN</td>\n",
       "      <td>NaN</td>\n",
       "      <td>NaN</td>\n",
       "      <td>NaN</td>\n",
       "      <td>NaN</td>\n",
       "      <td>NaN</td>\n",
       "      <td>203.0</td>\n",
       "      <td>NaN</td>\n",
       "      <td>151.0</td>\n",
       "      <td>152.0</td>\n",
       "    </tr>\n",
       "    <tr>\n",
       "      <th>5</th>\n",
       "      <td>6</td>\n",
       "      <td>NaN</td>\n",
       "      <td>NaN</td>\n",
       "      <td>NaN</td>\n",
       "      <td>117.0</td>\n",
       "      <td>NaN</td>\n",
       "      <td>NaN</td>\n",
       "      <td>NaN</td>\n",
       "      <td>NaN</td>\n",
       "      <td>NaN</td>\n",
       "      <td>NaN</td>\n",
       "      <td>NaN</td>\n",
       "      <td>204.0</td>\n",
       "      <td>NaN</td>\n",
       "      <td>201.0</td>\n",
       "      <td>154.0</td>\n",
       "    </tr>\n",
       "    <tr>\n",
       "      <th>6</th>\n",
       "      <td>7</td>\n",
       "      <td>NaN</td>\n",
       "      <td>NaN</td>\n",
       "      <td>NaN</td>\n",
       "      <td>117.0</td>\n",
       "      <td>NaN</td>\n",
       "      <td>NaN</td>\n",
       "      <td>NaN</td>\n",
       "      <td>NaN</td>\n",
       "      <td>NaN</td>\n",
       "      <td>NaN</td>\n",
       "      <td>NaN</td>\n",
       "      <td>204.0</td>\n",
       "      <td>NaN</td>\n",
       "      <td>152.0</td>\n",
       "      <td>154.0</td>\n",
       "    </tr>\n",
       "    <tr>\n",
       "      <th>7</th>\n",
       "      <td>8</td>\n",
       "      <td>NaN</td>\n",
       "      <td>NaN</td>\n",
       "      <td>NaN</td>\n",
       "      <td>99.0</td>\n",
       "      <td>NaN</td>\n",
       "      <td>NaN</td>\n",
       "      <td>NaN</td>\n",
       "      <td>NaN</td>\n",
       "      <td>NaN</td>\n",
       "      <td>NaN</td>\n",
       "      <td>NaN</td>\n",
       "      <td>410.0</td>\n",
       "      <td>NaN</td>\n",
       "      <td>252.0</td>\n",
       "      <td>153.0</td>\n",
       "    </tr>\n",
       "    <tr>\n",
       "      <th>8</th>\n",
       "      <td>9</td>\n",
       "      <td>NaN</td>\n",
       "      <td>NaN</td>\n",
       "      <td>NaN</td>\n",
       "      <td>117.0</td>\n",
       "      <td>NaN</td>\n",
       "      <td>NaN</td>\n",
       "      <td>NaN</td>\n",
       "      <td>NaN</td>\n",
       "      <td>NaN</td>\n",
       "      <td>NaN</td>\n",
       "      <td>NaN</td>\n",
       "      <td>107.0</td>\n",
       "      <td>NaN</td>\n",
       "      <td>99.0</td>\n",
       "      <td>203.0</td>\n",
       "    </tr>\n",
       "    <tr>\n",
       "      <th>9</th>\n",
       "      <td>10</td>\n",
       "      <td>NaN</td>\n",
       "      <td>NaN</td>\n",
       "      <td>NaN</td>\n",
       "      <td>NaN</td>\n",
       "      <td>NaN</td>\n",
       "      <td>NaN</td>\n",
       "      <td>NaN</td>\n",
       "      <td>NaN</td>\n",
       "      <td>NaN</td>\n",
       "      <td>NaN</td>\n",
       "      <td>NaN</td>\n",
       "      <td>203.0</td>\n",
       "      <td>NaN</td>\n",
       "      <td>102.0</td>\n",
       "      <td>204.0</td>\n",
       "    </tr>\n",
       "    <tr>\n",
       "      <th>10</th>\n",
       "      <td>11</td>\n",
       "      <td>NaN</td>\n",
       "      <td>NaN</td>\n",
       "      <td>NaN</td>\n",
       "      <td>69.0</td>\n",
       "      <td>NaN</td>\n",
       "      <td>NaN</td>\n",
       "      <td>NaN</td>\n",
       "      <td>NaN</td>\n",
       "      <td>NaN</td>\n",
       "      <td>NaN</td>\n",
       "      <td>NaN</td>\n",
       "      <td>207.0</td>\n",
       "      <td>NaN</td>\n",
       "      <td>101.0</td>\n",
       "      <td>202.0</td>\n",
       "    </tr>\n",
       "    <tr>\n",
       "      <th>11</th>\n",
       "      <td>12</td>\n",
       "      <td>46.0</td>\n",
       "      <td>NaN</td>\n",
       "      <td>NaN</td>\n",
       "      <td>34.0</td>\n",
       "      <td>NaN</td>\n",
       "      <td>NaN</td>\n",
       "      <td>NaN</td>\n",
       "      <td>NaN</td>\n",
       "      <td>NaN</td>\n",
       "      <td>NaN</td>\n",
       "      <td>NaN</td>\n",
       "      <td>618.0</td>\n",
       "      <td>NaN</td>\n",
       "      <td>406.0</td>\n",
       "      <td>203.0</td>\n",
       "    </tr>\n",
       "    <tr>\n",
       "      <th>12</th>\n",
       "      <td>13</td>\n",
       "      <td>NaN</td>\n",
       "      <td>NaN</td>\n",
       "      <td>NaN</td>\n",
       "      <td>NaN</td>\n",
       "      <td>NaN</td>\n",
       "      <td>72.0</td>\n",
       "      <td>NaN</td>\n",
       "      <td>NaN</td>\n",
       "      <td>NaN</td>\n",
       "      <td>NaN</td>\n",
       "      <td>NaN</td>\n",
       "      <td>410.0</td>\n",
       "      <td>NaN</td>\n",
       "      <td>151.0</td>\n",
       "      <td>204.0</td>\n",
       "    </tr>\n",
       "    <tr>\n",
       "      <th>13</th>\n",
       "      <td>14</td>\n",
       "      <td>NaN</td>\n",
       "      <td>NaN</td>\n",
       "      <td>71.0</td>\n",
       "      <td>NaN</td>\n",
       "      <td>NaN</td>\n",
       "      <td>NaN</td>\n",
       "      <td>NaN</td>\n",
       "      <td>NaN</td>\n",
       "      <td>NaN</td>\n",
       "      <td>NaN</td>\n",
       "      <td>NaN</td>\n",
       "      <td>204.0</td>\n",
       "      <td>NaN</td>\n",
       "      <td>152.0</td>\n",
       "      <td>203.0</td>\n",
       "    </tr>\n",
       "    <tr>\n",
       "      <th>14</th>\n",
       "      <td>15</td>\n",
       "      <td>NaN</td>\n",
       "      <td>NaN</td>\n",
       "      <td>NaN</td>\n",
       "      <td>NaN</td>\n",
       "      <td>NaN</td>\n",
       "      <td>77.0</td>\n",
       "      <td>NaN</td>\n",
       "      <td>NaN</td>\n",
       "      <td>NaN</td>\n",
       "      <td>NaN</td>\n",
       "      <td>NaN</td>\n",
       "      <td>NaN</td>\n",
       "      <td>NaN</td>\n",
       "      <td>251.0</td>\n",
       "      <td>203.0</td>\n",
       "    </tr>\n",
       "  </tbody>\n",
       "</table>\n",
       "</div>"
      ],
      "text/plain": [
       "    key  Bulk 1  Bulk 2  Bulk 3  Bulk 4  Bulk 5  Bulk 6  Bulk 7  Bulk 8  \\\n",
       "0     1     NaN     NaN     NaN    43.0     NaN     NaN     NaN     NaN   \n",
       "1     2     NaN     NaN     NaN    73.0     NaN     NaN     NaN     NaN   \n",
       "2     3     NaN     NaN     NaN    34.0     NaN     NaN     NaN     NaN   \n",
       "3     4     NaN     NaN     NaN    81.0     NaN     NaN     NaN     NaN   \n",
       "4     5     NaN     NaN     NaN    78.0     NaN     NaN     NaN     NaN   \n",
       "5     6     NaN     NaN     NaN   117.0     NaN     NaN     NaN     NaN   \n",
       "6     7     NaN     NaN     NaN   117.0     NaN     NaN     NaN     NaN   \n",
       "7     8     NaN     NaN     NaN    99.0     NaN     NaN     NaN     NaN   \n",
       "8     9     NaN     NaN     NaN   117.0     NaN     NaN     NaN     NaN   \n",
       "9    10     NaN     NaN     NaN     NaN     NaN     NaN     NaN     NaN   \n",
       "10   11     NaN     NaN     NaN    69.0     NaN     NaN     NaN     NaN   \n",
       "11   12    46.0     NaN     NaN    34.0     NaN     NaN     NaN     NaN   \n",
       "12   13     NaN     NaN     NaN     NaN     NaN    72.0     NaN     NaN   \n",
       "13   14     NaN     NaN    71.0     NaN     NaN     NaN     NaN     NaN   \n",
       "14   15     NaN     NaN     NaN     NaN     NaN    77.0     NaN     NaN   \n",
       "\n",
       "    Bulk 9  Bulk 10  Bulk 11  Bulk 12  Bulk 13  Bulk 14  Bulk 15  \n",
       "0      NaN      NaN      NaN    206.0      NaN    150.0    154.0  \n",
       "1      NaN      NaN      NaN    206.0      NaN    149.0    154.0  \n",
       "2      NaN      NaN      NaN    205.0      NaN    152.0    153.0  \n",
       "3      NaN      NaN      NaN    207.0      NaN    153.0    154.0  \n",
       "4      NaN      NaN      NaN    203.0      NaN    151.0    152.0  \n",
       "5      NaN      NaN      NaN    204.0      NaN    201.0    154.0  \n",
       "6      NaN      NaN      NaN    204.0      NaN    152.0    154.0  \n",
       "7      NaN      NaN      NaN    410.0      NaN    252.0    153.0  \n",
       "8      NaN      NaN      NaN    107.0      NaN     99.0    203.0  \n",
       "9      NaN      NaN      NaN    203.0      NaN    102.0    204.0  \n",
       "10     NaN      NaN      NaN    207.0      NaN    101.0    202.0  \n",
       "11     NaN      NaN      NaN    618.0      NaN    406.0    203.0  \n",
       "12     NaN      NaN      NaN    410.0      NaN    151.0    204.0  \n",
       "13     NaN      NaN      NaN    204.0      NaN    152.0    203.0  \n",
       "14     NaN      NaN      NaN      NaN      NaN    251.0    203.0  "
      ]
     },
     "metadata": {},
     "output_type": "display_data"
    },
    {
     "name": "stdout",
     "output_type": "stream",
     "text": [
      "<class 'pandas.core.frame.DataFrame'>\n",
      "RangeIndex: 3129 entries, 0 to 3128\n",
      "Data columns (total 16 columns):\n",
      " #   Column   Non-Null Count  Dtype  \n",
      "---  ------   --------------  -----  \n",
      " 0   key      3129 non-null   int64  \n",
      " 1   Bulk 1   252 non-null    float64\n",
      " 2   Bulk 2   22 non-null     float64\n",
      " 3   Bulk 3   1298 non-null   float64\n",
      " 4   Bulk 4   1014 non-null   float64\n",
      " 5   Bulk 5   77 non-null     float64\n",
      " 6   Bulk 6   576 non-null    float64\n",
      " 7   Bulk 7   25 non-null     float64\n",
      " 8   Bulk 8   1 non-null      float64\n",
      " 9   Bulk 9   19 non-null     float64\n",
      " 10  Bulk 10  176 non-null    float64\n",
      " 11  Bulk 11  177 non-null    float64\n",
      " 12  Bulk 12  2450 non-null   float64\n",
      " 13  Bulk 13  18 non-null     float64\n",
      " 14  Bulk 14  2806 non-null   float64\n",
      " 15  Bulk 15  2248 non-null   float64\n",
      "dtypes: float64(15), int64(1)\n",
      "memory usage: 391.2 KB\n"
     ]
    },
    {
     "data": {
      "text/plain": [
       "None"
      ]
     },
     "metadata": {},
     "output_type": "display_data"
    },
    {
     "data": {
      "text/html": [
       "<div>\n",
       "<style scoped>\n",
       "    .dataframe tbody tr th:only-of-type {\n",
       "        vertical-align: middle;\n",
       "    }\n",
       "\n",
       "    .dataframe tbody tr th {\n",
       "        vertical-align: top;\n",
       "    }\n",
       "\n",
       "    .dataframe thead th {\n",
       "        text-align: right;\n",
       "    }\n",
       "</style>\n",
       "<table border=\"1\" class=\"dataframe\">\n",
       "  <thead>\n",
       "    <tr style=\"text-align: right;\">\n",
       "      <th></th>\n",
       "      <th>key</th>\n",
       "      <th>Bulk 1</th>\n",
       "      <th>Bulk 2</th>\n",
       "      <th>Bulk 3</th>\n",
       "      <th>Bulk 4</th>\n",
       "      <th>Bulk 5</th>\n",
       "      <th>Bulk 6</th>\n",
       "      <th>Bulk 7</th>\n",
       "      <th>Bulk 8</th>\n",
       "      <th>Bulk 9</th>\n",
       "      <th>Bulk 10</th>\n",
       "      <th>Bulk 11</th>\n",
       "      <th>Bulk 12</th>\n",
       "      <th>Bulk 13</th>\n",
       "      <th>Bulk 14</th>\n",
       "      <th>Bulk 15</th>\n",
       "    </tr>\n",
       "  </thead>\n",
       "  <tbody>\n",
       "    <tr>\n",
       "      <th>count</th>\n",
       "      <td>3129.000000</td>\n",
       "      <td>252.000000</td>\n",
       "      <td>22.000000</td>\n",
       "      <td>1298.000000</td>\n",
       "      <td>1014.000000</td>\n",
       "      <td>77.000000</td>\n",
       "      <td>576.000000</td>\n",
       "      <td>25.000000</td>\n",
       "      <td>1.0</td>\n",
       "      <td>19.000000</td>\n",
       "      <td>176.000000</td>\n",
       "      <td>177.000000</td>\n",
       "      <td>2450.000000</td>\n",
       "      <td>18.000000</td>\n",
       "      <td>2806.000000</td>\n",
       "      <td>2248.000000</td>\n",
       "    </tr>\n",
       "    <tr>\n",
       "      <th>mean</th>\n",
       "      <td>1624.383509</td>\n",
       "      <td>39.242063</td>\n",
       "      <td>253.045455</td>\n",
       "      <td>113.879045</td>\n",
       "      <td>104.394477</td>\n",
       "      <td>107.025974</td>\n",
       "      <td>118.925347</td>\n",
       "      <td>305.600000</td>\n",
       "      <td>49.0</td>\n",
       "      <td>76.315789</td>\n",
       "      <td>83.284091</td>\n",
       "      <td>76.819209</td>\n",
       "      <td>260.471020</td>\n",
       "      <td>181.111111</td>\n",
       "      <td>170.284747</td>\n",
       "      <td>160.513345</td>\n",
       "    </tr>\n",
       "    <tr>\n",
       "      <th>std</th>\n",
       "      <td>933.337642</td>\n",
       "      <td>18.277654</td>\n",
       "      <td>21.180578</td>\n",
       "      <td>75.483494</td>\n",
       "      <td>48.184126</td>\n",
       "      <td>81.790646</td>\n",
       "      <td>72.057776</td>\n",
       "      <td>191.022904</td>\n",
       "      <td>NaN</td>\n",
       "      <td>21.720581</td>\n",
       "      <td>26.060347</td>\n",
       "      <td>59.655365</td>\n",
       "      <td>120.649269</td>\n",
       "      <td>46.088009</td>\n",
       "      <td>65.868652</td>\n",
       "      <td>51.765319</td>\n",
       "    </tr>\n",
       "    <tr>\n",
       "      <th>min</th>\n",
       "      <td>1.000000</td>\n",
       "      <td>10.000000</td>\n",
       "      <td>228.000000</td>\n",
       "      <td>6.000000</td>\n",
       "      <td>12.000000</td>\n",
       "      <td>11.000000</td>\n",
       "      <td>17.000000</td>\n",
       "      <td>47.000000</td>\n",
       "      <td>49.0</td>\n",
       "      <td>63.000000</td>\n",
       "      <td>24.000000</td>\n",
       "      <td>8.000000</td>\n",
       "      <td>53.000000</td>\n",
       "      <td>151.000000</td>\n",
       "      <td>16.000000</td>\n",
       "      <td>1.000000</td>\n",
       "    </tr>\n",
       "    <tr>\n",
       "      <th>25%</th>\n",
       "      <td>816.000000</td>\n",
       "      <td>27.000000</td>\n",
       "      <td>242.000000</td>\n",
       "      <td>58.000000</td>\n",
       "      <td>72.000000</td>\n",
       "      <td>70.000000</td>\n",
       "      <td>69.750000</td>\n",
       "      <td>155.000000</td>\n",
       "      <td>49.0</td>\n",
       "      <td>66.000000</td>\n",
       "      <td>64.000000</td>\n",
       "      <td>25.000000</td>\n",
       "      <td>204.000000</td>\n",
       "      <td>153.250000</td>\n",
       "      <td>119.000000</td>\n",
       "      <td>105.000000</td>\n",
       "    </tr>\n",
       "    <tr>\n",
       "      <th>50%</th>\n",
       "      <td>1622.000000</td>\n",
       "      <td>31.000000</td>\n",
       "      <td>251.500000</td>\n",
       "      <td>97.500000</td>\n",
       "      <td>102.000000</td>\n",
       "      <td>86.000000</td>\n",
       "      <td>100.000000</td>\n",
       "      <td>298.000000</td>\n",
       "      <td>49.0</td>\n",
       "      <td>68.000000</td>\n",
       "      <td>86.500000</td>\n",
       "      <td>64.000000</td>\n",
       "      <td>208.000000</td>\n",
       "      <td>155.500000</td>\n",
       "      <td>151.000000</td>\n",
       "      <td>160.000000</td>\n",
       "    </tr>\n",
       "    <tr>\n",
       "      <th>75%</th>\n",
       "      <td>2431.000000</td>\n",
       "      <td>46.000000</td>\n",
       "      <td>257.750000</td>\n",
       "      <td>152.000000</td>\n",
       "      <td>133.000000</td>\n",
       "      <td>132.000000</td>\n",
       "      <td>157.000000</td>\n",
       "      <td>406.000000</td>\n",
       "      <td>49.0</td>\n",
       "      <td>70.500000</td>\n",
       "      <td>102.000000</td>\n",
       "      <td>106.000000</td>\n",
       "      <td>316.000000</td>\n",
       "      <td>203.500000</td>\n",
       "      <td>205.750000</td>\n",
       "      <td>205.000000</td>\n",
       "    </tr>\n",
       "    <tr>\n",
       "      <th>max</th>\n",
       "      <td>3241.000000</td>\n",
       "      <td>185.000000</td>\n",
       "      <td>325.000000</td>\n",
       "      <td>454.000000</td>\n",
       "      <td>281.000000</td>\n",
       "      <td>603.000000</td>\n",
       "      <td>503.000000</td>\n",
       "      <td>772.000000</td>\n",
       "      <td>49.0</td>\n",
       "      <td>147.000000</td>\n",
       "      <td>159.000000</td>\n",
       "      <td>313.000000</td>\n",
       "      <td>1849.000000</td>\n",
       "      <td>305.000000</td>\n",
       "      <td>636.000000</td>\n",
       "      <td>405.000000</td>\n",
       "    </tr>\n",
       "  </tbody>\n",
       "</table>\n",
       "</div>"
      ],
      "text/plain": [
       "               key      Bulk 1      Bulk 2       Bulk 3       Bulk 4  \\\n",
       "count  3129.000000  252.000000   22.000000  1298.000000  1014.000000   \n",
       "mean   1624.383509   39.242063  253.045455   113.879045   104.394477   \n",
       "std     933.337642   18.277654   21.180578    75.483494    48.184126   \n",
       "min       1.000000   10.000000  228.000000     6.000000    12.000000   \n",
       "25%     816.000000   27.000000  242.000000    58.000000    72.000000   \n",
       "50%    1622.000000   31.000000  251.500000    97.500000   102.000000   \n",
       "75%    2431.000000   46.000000  257.750000   152.000000   133.000000   \n",
       "max    3241.000000  185.000000  325.000000   454.000000   281.000000   \n",
       "\n",
       "           Bulk 5      Bulk 6      Bulk 7  Bulk 8      Bulk 9     Bulk 10  \\\n",
       "count   77.000000  576.000000   25.000000     1.0   19.000000  176.000000   \n",
       "mean   107.025974  118.925347  305.600000    49.0   76.315789   83.284091   \n",
       "std     81.790646   72.057776  191.022904     NaN   21.720581   26.060347   \n",
       "min     11.000000   17.000000   47.000000    49.0   63.000000   24.000000   \n",
       "25%     70.000000   69.750000  155.000000    49.0   66.000000   64.000000   \n",
       "50%     86.000000  100.000000  298.000000    49.0   68.000000   86.500000   \n",
       "75%    132.000000  157.000000  406.000000    49.0   70.500000  102.000000   \n",
       "max    603.000000  503.000000  772.000000    49.0  147.000000  159.000000   \n",
       "\n",
       "          Bulk 11      Bulk 12     Bulk 13      Bulk 14      Bulk 15  \n",
       "count  177.000000  2450.000000   18.000000  2806.000000  2248.000000  \n",
       "mean    76.819209   260.471020  181.111111   170.284747   160.513345  \n",
       "std     59.655365   120.649269   46.088009    65.868652    51.765319  \n",
       "min      8.000000    53.000000  151.000000    16.000000     1.000000  \n",
       "25%     25.000000   204.000000  153.250000   119.000000   105.000000  \n",
       "50%     64.000000   208.000000  155.500000   151.000000   160.000000  \n",
       "75%    106.000000   316.000000  203.500000   205.750000   205.000000  \n",
       "max    313.000000  1849.000000  305.000000   636.000000   405.000000  "
      ]
     },
     "metadata": {},
     "output_type": "display_data"
    }
   ],
   "source": [
    "show_info(data_bulk)"
   ]
  },
  {
   "cell_type": "markdown",
   "metadata": {},
   "source": [
    "#### Построим диаграммы размаха для данных о подаче сыпучих материалов (объём)"
   ]
  },
  {
   "cell_type": "code",
   "execution_count": 8,
   "metadata": {},
   "outputs": [
    {
     "data": {
      "text/plain": [
       "<AxesSubplot: >"
      ]
     },
     "execution_count": 8,
     "metadata": {},
     "output_type": "execute_result"
    },
    {
     "data": {
      "image/png": "[encoded data removed]",
      "text/plain": [
       "<Figure size 1800x800 with 1 Axes>"
      ]
     },
     "metadata": {},
     "output_type": "display_data"
    }
   ],
   "source": [
    "sns.set(rc={'figure.figsize':(18,8)})\n",
    "sns.boxplot(data=data_bulk.drop(['key'], axis=1))"
   ]
  },
  {
   "cell_type": "markdown",
   "metadata": {},
   "source": [
    "##### Вывод: На диаграммах рассеяния видны аномальные значения для столбцов \"Bulk 5\" и \"Bulk 12\". Данные выходящие за границы усов можно оставить, поскольку возможно они связаны с технологией производства. "
   ]
  },
  {
   "cell_type": "markdown",
   "metadata": {},
   "source": [
    "#### Выведем статистические данные о подаче сыпучих материалов (время)"
   ]
  },
  {
   "cell_type": "code",
   "execution_count": 9,
   "metadata": {},
   "outputs": [
    {
     "data": {
      "text/html": [
       "<div>\n",
       "<style scoped>\n",
       "    .dataframe tbody tr th:only-of-type {\n",
       "        vertical-align: middle;\n",
       "    }\n",
       "\n",
       "    .dataframe tbody tr th {\n",
       "        vertical-align: top;\n",
       "    }\n",
       "\n",
       "    .dataframe thead th {\n",
       "        text-align: right;\n",
       "    }\n",
       "</style>\n",
       "<table border=\"1\" class=\"dataframe\">\n",
       "  <thead>\n",
       "    <tr style=\"text-align: right;\">\n",
       "      <th></th>\n",
       "      <th>key</th>\n",
       "      <th>Bulk 1</th>\n",
       "      <th>Bulk 2</th>\n",
       "      <th>Bulk 3</th>\n",
       "      <th>Bulk 4</th>\n",
       "      <th>Bulk 5</th>\n",
       "      <th>Bulk 6</th>\n",
       "      <th>Bulk 7</th>\n",
       "      <th>Bulk 8</th>\n",
       "      <th>Bulk 9</th>\n",
       "      <th>Bulk 10</th>\n",
       "      <th>Bulk 11</th>\n",
       "      <th>Bulk 12</th>\n",
       "      <th>Bulk 13</th>\n",
       "      <th>Bulk 14</th>\n",
       "      <th>Bulk 15</th>\n",
       "    </tr>\n",
       "  </thead>\n",
       "  <tbody>\n",
       "    <tr>\n",
       "      <th>0</th>\n",
       "      <td>1</td>\n",
       "      <td>NaN</td>\n",
       "      <td>NaN</td>\n",
       "      <td>NaN</td>\n",
       "      <td>2019-05-03 11:21:30</td>\n",
       "      <td>NaN</td>\n",
       "      <td>NaN</td>\n",
       "      <td>NaN</td>\n",
       "      <td>NaN</td>\n",
       "      <td>NaN</td>\n",
       "      <td>NaN</td>\n",
       "      <td>NaN</td>\n",
       "      <td>2019-05-03 11:03:52</td>\n",
       "      <td>NaN</td>\n",
       "      <td>2019-05-03 11:03:52</td>\n",
       "      <td>2019-05-03 11:03:52</td>\n",
       "    </tr>\n",
       "    <tr>\n",
       "      <th>1</th>\n",
       "      <td>2</td>\n",
       "      <td>NaN</td>\n",
       "      <td>NaN</td>\n",
       "      <td>NaN</td>\n",
       "      <td>2019-05-03 11:46:38</td>\n",
       "      <td>NaN</td>\n",
       "      <td>NaN</td>\n",
       "      <td>NaN</td>\n",
       "      <td>NaN</td>\n",
       "      <td>NaN</td>\n",
       "      <td>NaN</td>\n",
       "      <td>NaN</td>\n",
       "      <td>2019-05-03 11:40:20</td>\n",
       "      <td>NaN</td>\n",
       "      <td>2019-05-03 11:40:20</td>\n",
       "      <td>2019-05-03 11:40:20</td>\n",
       "    </tr>\n",
       "    <tr>\n",
       "      <th>2</th>\n",
       "      <td>3</td>\n",
       "      <td>NaN</td>\n",
       "      <td>NaN</td>\n",
       "      <td>NaN</td>\n",
       "      <td>2019-05-03 12:31:06</td>\n",
       "      <td>NaN</td>\n",
       "      <td>NaN</td>\n",
       "      <td>NaN</td>\n",
       "      <td>NaN</td>\n",
       "      <td>NaN</td>\n",
       "      <td>NaN</td>\n",
       "      <td>NaN</td>\n",
       "      <td>2019-05-03 12:09:40</td>\n",
       "      <td>NaN</td>\n",
       "      <td>2019-05-03 12:09:40</td>\n",
       "      <td>2019-05-03 12:09:40</td>\n",
       "    </tr>\n",
       "    <tr>\n",
       "      <th>3</th>\n",
       "      <td>4</td>\n",
       "      <td>NaN</td>\n",
       "      <td>NaN</td>\n",
       "      <td>NaN</td>\n",
       "      <td>2019-05-03 12:48:43</td>\n",
       "      <td>NaN</td>\n",
       "      <td>NaN</td>\n",
       "      <td>NaN</td>\n",
       "      <td>NaN</td>\n",
       "      <td>NaN</td>\n",
       "      <td>NaN</td>\n",
       "      <td>NaN</td>\n",
       "      <td>2019-05-03 12:41:24</td>\n",
       "      <td>NaN</td>\n",
       "      <td>2019-05-03 12:41:24</td>\n",
       "      <td>2019-05-03 12:41:24</td>\n",
       "    </tr>\n",
       "    <tr>\n",
       "      <th>4</th>\n",
       "      <td>5</td>\n",
       "      <td>NaN</td>\n",
       "      <td>NaN</td>\n",
       "      <td>NaN</td>\n",
       "      <td>2019-05-03 13:18:50</td>\n",
       "      <td>NaN</td>\n",
       "      <td>NaN</td>\n",
       "      <td>NaN</td>\n",
       "      <td>NaN</td>\n",
       "      <td>NaN</td>\n",
       "      <td>NaN</td>\n",
       "      <td>NaN</td>\n",
       "      <td>2019-05-03 13:12:56</td>\n",
       "      <td>NaN</td>\n",
       "      <td>2019-05-03 13:12:56</td>\n",
       "      <td>2019-05-03 13:12:56</td>\n",
       "    </tr>\n",
       "    <tr>\n",
       "      <th>5</th>\n",
       "      <td>6</td>\n",
       "      <td>NaN</td>\n",
       "      <td>NaN</td>\n",
       "      <td>NaN</td>\n",
       "      <td>2019-05-03 13:59:24</td>\n",
       "      <td>NaN</td>\n",
       "      <td>NaN</td>\n",
       "      <td>NaN</td>\n",
       "      <td>NaN</td>\n",
       "      <td>NaN</td>\n",
       "      <td>NaN</td>\n",
       "      <td>NaN</td>\n",
       "      <td>2019-05-03 13:53:27</td>\n",
       "      <td>NaN</td>\n",
       "      <td>2019-05-03 13:53:27</td>\n",
       "      <td>2019-05-03 13:53:27</td>\n",
       "    </tr>\n",
       "    <tr>\n",
       "      <th>6</th>\n",
       "      <td>7</td>\n",
       "      <td>NaN</td>\n",
       "      <td>NaN</td>\n",
       "      <td>NaN</td>\n",
       "      <td>2019-05-03 14:29:14</td>\n",
       "      <td>NaN</td>\n",
       "      <td>NaN</td>\n",
       "      <td>NaN</td>\n",
       "      <td>NaN</td>\n",
       "      <td>NaN</td>\n",
       "      <td>NaN</td>\n",
       "      <td>NaN</td>\n",
       "      <td>2019-05-03 14:22:19</td>\n",
       "      <td>NaN</td>\n",
       "      <td>2019-05-03 14:22:19</td>\n",
       "      <td>2019-05-03 14:22:19</td>\n",
       "    </tr>\n",
       "    <tr>\n",
       "      <th>7</th>\n",
       "      <td>8</td>\n",
       "      <td>NaN</td>\n",
       "      <td>NaN</td>\n",
       "      <td>NaN</td>\n",
       "      <td>2019-05-03 15:04:05</td>\n",
       "      <td>NaN</td>\n",
       "      <td>NaN</td>\n",
       "      <td>NaN</td>\n",
       "      <td>NaN</td>\n",
       "      <td>NaN</td>\n",
       "      <td>NaN</td>\n",
       "      <td>NaN</td>\n",
       "      <td>2019-05-03 14:55:46</td>\n",
       "      <td>NaN</td>\n",
       "      <td>2019-05-03 14:55:46</td>\n",
       "      <td>2019-05-03 14:55:46</td>\n",
       "    </tr>\n",
       "    <tr>\n",
       "      <th>8</th>\n",
       "      <td>9</td>\n",
       "      <td>NaN</td>\n",
       "      <td>NaN</td>\n",
       "      <td>NaN</td>\n",
       "      <td>2019-05-03 15:47:34</td>\n",
       "      <td>NaN</td>\n",
       "      <td>NaN</td>\n",
       "      <td>NaN</td>\n",
       "      <td>NaN</td>\n",
       "      <td>NaN</td>\n",
       "      <td>NaN</td>\n",
       "      <td>NaN</td>\n",
       "      <td>2019-05-03 15:41:00</td>\n",
       "      <td>NaN</td>\n",
       "      <td>2019-05-03 15:41:00</td>\n",
       "      <td>2019-05-03 15:41:00</td>\n",
       "    </tr>\n",
       "    <tr>\n",
       "      <th>9</th>\n",
       "      <td>10</td>\n",
       "      <td>NaN</td>\n",
       "      <td>NaN</td>\n",
       "      <td>NaN</td>\n",
       "      <td>NaN</td>\n",
       "      <td>NaN</td>\n",
       "      <td>NaN</td>\n",
       "      <td>NaN</td>\n",
       "      <td>NaN</td>\n",
       "      <td>NaN</td>\n",
       "      <td>NaN</td>\n",
       "      <td>NaN</td>\n",
       "      <td>2019-05-03 16:18:52</td>\n",
       "      <td>NaN</td>\n",
       "      <td>2019-05-03 16:18:52</td>\n",
       "      <td>2019-05-03 16:18:52</td>\n",
       "    </tr>\n",
       "    <tr>\n",
       "      <th>10</th>\n",
       "      <td>11</td>\n",
       "      <td>NaN</td>\n",
       "      <td>NaN</td>\n",
       "      <td>NaN</td>\n",
       "      <td>2019-05-03 17:16:34</td>\n",
       "      <td>NaN</td>\n",
       "      <td>NaN</td>\n",
       "      <td>NaN</td>\n",
       "      <td>NaN</td>\n",
       "      <td>NaN</td>\n",
       "      <td>NaN</td>\n",
       "      <td>NaN</td>\n",
       "      <td>2019-05-03 17:03:52</td>\n",
       "      <td>NaN</td>\n",
       "      <td>2019-05-03 17:03:52</td>\n",
       "      <td>2019-05-03 17:03:52</td>\n",
       "    </tr>\n",
       "    <tr>\n",
       "      <th>11</th>\n",
       "      <td>12</td>\n",
       "      <td>2019-05-03 17:50:19</td>\n",
       "      <td>NaN</td>\n",
       "      <td>NaN</td>\n",
       "      <td>2019-05-03 18:03:59</td>\n",
       "      <td>NaN</td>\n",
       "      <td>NaN</td>\n",
       "      <td>NaN</td>\n",
       "      <td>NaN</td>\n",
       "      <td>NaN</td>\n",
       "      <td>NaN</td>\n",
       "      <td>NaN</td>\n",
       "      <td>2019-05-03 17:45:21</td>\n",
       "      <td>NaN</td>\n",
       "      <td>2019-05-03 17:45:21</td>\n",
       "      <td>2019-05-03 17:45:21</td>\n",
       "    </tr>\n",
       "    <tr>\n",
       "      <th>12</th>\n",
       "      <td>13</td>\n",
       "      <td>NaN</td>\n",
       "      <td>NaN</td>\n",
       "      <td>NaN</td>\n",
       "      <td>NaN</td>\n",
       "      <td>NaN</td>\n",
       "      <td>2019-05-03 18:52:57</td>\n",
       "      <td>NaN</td>\n",
       "      <td>NaN</td>\n",
       "      <td>NaN</td>\n",
       "      <td>NaN</td>\n",
       "      <td>NaN</td>\n",
       "      <td>2019-05-03 18:43:48</td>\n",
       "      <td>NaN</td>\n",
       "      <td>2019-05-03 18:43:48</td>\n",
       "      <td>2019-05-03 18:43:48</td>\n",
       "    </tr>\n",
       "    <tr>\n",
       "      <th>13</th>\n",
       "      <td>14</td>\n",
       "      <td>NaN</td>\n",
       "      <td>NaN</td>\n",
       "      <td>2019-05-03 20:13:36</td>\n",
       "      <td>NaN</td>\n",
       "      <td>NaN</td>\n",
       "      <td>NaN</td>\n",
       "      <td>NaN</td>\n",
       "      <td>NaN</td>\n",
       "      <td>NaN</td>\n",
       "      <td>NaN</td>\n",
       "      <td>NaN</td>\n",
       "      <td>2019-05-03 20:05:47</td>\n",
       "      <td>NaN</td>\n",
       "      <td>2019-05-03 20:05:47</td>\n",
       "      <td>2019-05-03 20:05:47</td>\n",
       "    </tr>\n",
       "    <tr>\n",
       "      <th>14</th>\n",
       "      <td>15</td>\n",
       "      <td>NaN</td>\n",
       "      <td>NaN</td>\n",
       "      <td>NaN</td>\n",
       "      <td>NaN</td>\n",
       "      <td>NaN</td>\n",
       "      <td>2019-05-03 21:15:20</td>\n",
       "      <td>NaN</td>\n",
       "      <td>NaN</td>\n",
       "      <td>NaN</td>\n",
       "      <td>NaN</td>\n",
       "      <td>NaN</td>\n",
       "      <td>NaN</td>\n",
       "      <td>NaN</td>\n",
       "      <td>2019-05-03 21:03:07</td>\n",
       "      <td>2019-05-03 21:03:07</td>\n",
       "    </tr>\n",
       "  </tbody>\n",
       "</table>\n",
       "</div>"
      ],
      "text/plain": [
       "    key               Bulk 1 Bulk 2               Bulk 3               Bulk 4  \\\n",
       "0     1                  NaN    NaN                  NaN  2019-05-03 11:21:30   \n",
       "1     2                  NaN    NaN                  NaN  2019-05-03 11:46:38   \n",
       "2     3                  NaN    NaN                  NaN  2019-05-03 12:31:06   \n",
       "3     4                  NaN    NaN                  NaN  2019-05-03 12:48:43   \n",
       "4     5                  NaN    NaN                  NaN  2019-05-03 13:18:50   \n",
       "5     6                  NaN    NaN                  NaN  2019-05-03 13:59:24   \n",
       "6     7                  NaN    NaN                  NaN  2019-05-03 14:29:14   \n",
       "7     8                  NaN    NaN                  NaN  2019-05-03 15:04:05   \n",
       "8     9                  NaN    NaN                  NaN  2019-05-03 15:47:34   \n",
       "9    10                  NaN    NaN                  NaN                  NaN   \n",
       "10   11                  NaN    NaN                  NaN  2019-05-03 17:16:34   \n",
       "11   12  2019-05-03 17:50:19    NaN                  NaN  2019-05-03 18:03:59   \n",
       "12   13                  NaN    NaN                  NaN                  NaN   \n",
       "13   14                  NaN    NaN  2019-05-03 20:13:36                  NaN   \n",
       "14   15                  NaN    NaN                  NaN                  NaN   \n",
       "\n",
       "   Bulk 5               Bulk 6 Bulk 7 Bulk 8 Bulk 9 Bulk 10 Bulk 11  \\\n",
       "0     NaN                  NaN    NaN    NaN    NaN     NaN     NaN   \n",
       "1     NaN                  NaN    NaN    NaN    NaN     NaN     NaN   \n",
       "2     NaN                  NaN    NaN    NaN    NaN     NaN     NaN   \n",
       "3     NaN                  NaN    NaN    NaN    NaN     NaN     NaN   \n",
       "4     NaN                  NaN    NaN    NaN    NaN     NaN     NaN   \n",
       "5     NaN                  NaN    NaN    NaN    NaN     NaN     NaN   \n",
       "6     NaN                  NaN    NaN    NaN    NaN     NaN     NaN   \n",
       "7     NaN                  NaN    NaN    NaN    NaN     NaN     NaN   \n",
       "8     NaN                  NaN    NaN    NaN    NaN     NaN     NaN   \n",
       "9     NaN                  NaN    NaN    NaN    NaN     NaN     NaN   \n",
       "10    NaN                  NaN    NaN    NaN    NaN     NaN     NaN   \n",
       "11    NaN                  NaN    NaN    NaN    NaN     NaN     NaN   \n",
       "12    NaN  2019-05-03 18:52:57    NaN    NaN    NaN     NaN     NaN   \n",
       "13    NaN                  NaN    NaN    NaN    NaN     NaN     NaN   \n",
       "14    NaN  2019-05-03 21:15:20    NaN    NaN    NaN     NaN     NaN   \n",
       "\n",
       "                Bulk 12 Bulk 13              Bulk 14              Bulk 15  \n",
       "0   2019-05-03 11:03:52     NaN  2019-05-03 11:03:52  2019-05-03 11:03:52  \n",
       "1   2019-05-03 11:40:20     NaN  2019-05-03 11:40:20  2019-05-03 11:40:20  \n",
       "2   2019-05-03 12:09:40     NaN  2019-05-03 12:09:40  2019-05-03 12:09:40  \n",
       "3   2019-05-03 12:41:24     NaN  2019-05-03 12:41:24  2019-05-03 12:41:24  \n",
       "4   2019-05-03 13:12:56     NaN  2019-05-03 13:12:56  2019-05-03 13:12:56  \n",
       "5   2019-05-03 13:53:27     NaN  2019-05-03 13:53:27  2019-05-03 13:53:27  \n",
       "6   2019-05-03 14:22:19     NaN  2019-05-03 14:22:19  2019-05-03 14:22:19  \n",
       "7   2019-05-03 14:55:46     NaN  2019-05-03 14:55:46  2019-05-03 14:55:46  \n",
       "8   2019-05-03 15:41:00     NaN  2019-05-03 15:41:00  2019-05-03 15:41:00  \n",
       "9   2019-05-03 16:18:52     NaN  2019-05-03 16:18:52  2019-05-03 16:18:52  \n",
       "10  2019-05-03 17:03:52     NaN  2019-05-03 17:03:52  2019-05-03 17:03:52  \n",
       "11  2019-05-03 17:45:21     NaN  2019-05-03 17:45:21  2019-05-03 17:45:21  \n",
       "12  2019-05-03 18:43:48     NaN  2019-05-03 18:43:48  2019-05-03 18:43:48  \n",
       "13  2019-05-03 20:05:47     NaN  2019-05-03 20:05:47  2019-05-03 20:05:47  \n",
       "14                  NaN     NaN  2019-05-03 21:03:07  2019-05-03 21:03:07  "
      ]
     },
     "metadata": {},
     "output_type": "display_data"
    },
    {
     "name": "stdout",
     "output_type": "stream",
     "text": [
      "<class 'pandas.core.frame.DataFrame'>\n",
      "RangeIndex: 3129 entries, 0 to 3128\n",
      "Data columns (total 16 columns):\n",
      " #   Column   Non-Null Count  Dtype \n",
      "---  ------   --------------  ----- \n",
      " 0   key      3129 non-null   int64 \n",
      " 1   Bulk 1   252 non-null    object\n",
      " 2   Bulk 2   22 non-null     object\n",
      " 3   Bulk 3   1298 non-null   object\n",
      " 4   Bulk 4   1014 non-null   object\n",
      " 5   Bulk 5   77 non-null     object\n",
      " 6   Bulk 6   576 non-null    object\n",
      " 7   Bulk 7   25 non-null     object\n",
      " 8   Bulk 8   1 non-null      object\n",
      " 9   Bulk 9   19 non-null     object\n",
      " 10  Bulk 10  176 non-null    object\n",
      " 11  Bulk 11  177 non-null    object\n",
      " 12  Bulk 12  2450 non-null   object\n",
      " 13  Bulk 13  18 non-null     object\n",
      " 14  Bulk 14  2806 non-null   object\n",
      " 15  Bulk 15  2248 non-null   object\n",
      "dtypes: int64(1), object(15)\n",
      "memory usage: 391.2+ KB\n"
     ]
    },
    {
     "data": {
      "text/plain": [
       "None"
      ]
     },
     "metadata": {},
     "output_type": "display_data"
    },
    {
     "data": {
      "text/html": [
       "<div>\n",
       "<style scoped>\n",
       "    .dataframe tbody tr th:only-of-type {\n",
       "        vertical-align: middle;\n",
       "    }\n",
       "\n",
       "    .dataframe tbody tr th {\n",
       "        vertical-align: top;\n",
       "    }\n",
       "\n",
       "    .dataframe thead th {\n",
       "        text-align: right;\n",
       "    }\n",
       "</style>\n",
       "<table border=\"1\" class=\"dataframe\">\n",
       "  <thead>\n",
       "    <tr style=\"text-align: right;\">\n",
       "      <th></th>\n",
       "      <th>key</th>\n",
       "    </tr>\n",
       "  </thead>\n",
       "  <tbody>\n",
       "    <tr>\n",
       "      <th>count</th>\n",
       "      <td>3129.000000</td>\n",
       "    </tr>\n",
       "    <tr>\n",
       "      <th>mean</th>\n",
       "      <td>1624.383509</td>\n",
       "    </tr>\n",
       "    <tr>\n",
       "      <th>std</th>\n",
       "      <td>933.337642</td>\n",
       "    </tr>\n",
       "    <tr>\n",
       "      <th>min</th>\n",
       "      <td>1.000000</td>\n",
       "    </tr>\n",
       "    <tr>\n",
       "      <th>25%</th>\n",
       "      <td>816.000000</td>\n",
       "    </tr>\n",
       "    <tr>\n",
       "      <th>50%</th>\n",
       "      <td>1622.000000</td>\n",
       "    </tr>\n",
       "    <tr>\n",
       "      <th>75%</th>\n",
       "      <td>2431.000000</td>\n",
       "    </tr>\n",
       "    <tr>\n",
       "      <th>max</th>\n",
       "      <td>3241.000000</td>\n",
       "    </tr>\n",
       "  </tbody>\n",
       "</table>\n",
       "</div>"
      ],
      "text/plain": [
       "               key\n",
       "count  3129.000000\n",
       "mean   1624.383509\n",
       "std     933.337642\n",
       "min       1.000000\n",
       "25%     816.000000\n",
       "50%    1622.000000\n",
       "75%    2431.000000\n",
       "max    3241.000000"
      ]
     },
     "metadata": {},
     "output_type": "display_data"
    }
   ],
   "source": [
    "show_info(data_bulk_time)"
   ]
  },
  {
   "cell_type": "markdown",
   "metadata": {},
   "source": [
    "##### Вывод: Время подачи сыпучих материалов в датафреме представлено в виде строки, необходим перевод в тип date."
   ]
  },
  {
   "cell_type": "markdown",
   "metadata": {},
   "source": [
    "#### Выведем статистические данные о продувке сплава газом"
   ]
  },
  {
   "cell_type": "code",
   "execution_count": 10,
   "metadata": {},
   "outputs": [
    {
     "data": {
      "text/html": [
       "<div>\n",
       "<style scoped>\n",
       "    .dataframe tbody tr th:only-of-type {\n",
       "        vertical-align: middle;\n",
       "    }\n",
       "\n",
       "    .dataframe tbody tr th {\n",
       "        vertical-align: top;\n",
       "    }\n",
       "\n",
       "    .dataframe thead th {\n",
       "        text-align: right;\n",
       "    }\n",
       "</style>\n",
       "<table border=\"1\" class=\"dataframe\">\n",
       "  <thead>\n",
       "    <tr style=\"text-align: right;\">\n",
       "      <th></th>\n",
       "      <th>key</th>\n",
       "      <th>Газ 1</th>\n",
       "    </tr>\n",
       "  </thead>\n",
       "  <tbody>\n",
       "    <tr>\n",
       "      <th>0</th>\n",
       "      <td>1</td>\n",
       "      <td>29.749986</td>\n",
       "    </tr>\n",
       "    <tr>\n",
       "      <th>1</th>\n",
       "      <td>2</td>\n",
       "      <td>12.555561</td>\n",
       "    </tr>\n",
       "    <tr>\n",
       "      <th>2</th>\n",
       "      <td>3</td>\n",
       "      <td>28.554793</td>\n",
       "    </tr>\n",
       "    <tr>\n",
       "      <th>3</th>\n",
       "      <td>4</td>\n",
       "      <td>18.841219</td>\n",
       "    </tr>\n",
       "    <tr>\n",
       "      <th>4</th>\n",
       "      <td>5</td>\n",
       "      <td>5.413692</td>\n",
       "    </tr>\n",
       "    <tr>\n",
       "      <th>5</th>\n",
       "      <td>6</td>\n",
       "      <td>11.273392</td>\n",
       "    </tr>\n",
       "    <tr>\n",
       "      <th>6</th>\n",
       "      <td>7</td>\n",
       "      <td>9.836267</td>\n",
       "    </tr>\n",
       "    <tr>\n",
       "      <th>7</th>\n",
       "      <td>8</td>\n",
       "      <td>15.171553</td>\n",
       "    </tr>\n",
       "    <tr>\n",
       "      <th>8</th>\n",
       "      <td>9</td>\n",
       "      <td>8.216623</td>\n",
       "    </tr>\n",
       "    <tr>\n",
       "      <th>9</th>\n",
       "      <td>10</td>\n",
       "      <td>6.529891</td>\n",
       "    </tr>\n",
       "    <tr>\n",
       "      <th>10</th>\n",
       "      <td>11</td>\n",
       "      <td>3.639128</td>\n",
       "    </tr>\n",
       "    <tr>\n",
       "      <th>11</th>\n",
       "      <td>12</td>\n",
       "      <td>11.026259</td>\n",
       "    </tr>\n",
       "    <tr>\n",
       "      <th>12</th>\n",
       "      <td>13</td>\n",
       "      <td>11.443643</td>\n",
       "    </tr>\n",
       "    <tr>\n",
       "      <th>13</th>\n",
       "      <td>14</td>\n",
       "      <td>5.098945</td>\n",
       "    </tr>\n",
       "    <tr>\n",
       "      <th>14</th>\n",
       "      <td>15</td>\n",
       "      <td>11.085451</td>\n",
       "    </tr>\n",
       "  </tbody>\n",
       "</table>\n",
       "</div>"
      ],
      "text/plain": [
       "    key      Газ 1\n",
       "0     1  29.749986\n",
       "1     2  12.555561\n",
       "2     3  28.554793\n",
       "3     4  18.841219\n",
       "4     5   5.413692\n",
       "5     6  11.273392\n",
       "6     7   9.836267\n",
       "7     8  15.171553\n",
       "8     9   8.216623\n",
       "9    10   6.529891\n",
       "10   11   3.639128\n",
       "11   12  11.026259\n",
       "12   13  11.443643\n",
       "13   14   5.098945\n",
       "14   15  11.085451"
      ]
     },
     "metadata": {},
     "output_type": "display_data"
    },
    {
     "name": "stdout",
     "output_type": "stream",
     "text": [
      "<class 'pandas.core.frame.DataFrame'>\n",
      "RangeIndex: 3239 entries, 0 to 3238\n",
      "Data columns (total 2 columns):\n",
      " #   Column  Non-Null Count  Dtype  \n",
      "---  ------  --------------  -----  \n",
      " 0   key     3239 non-null   int64  \n",
      " 1   Газ 1   3239 non-null   float64\n",
      "dtypes: float64(1), int64(1)\n",
      "memory usage: 50.7 KB\n"
     ]
    },
    {
     "data": {
      "text/plain": [
       "None"
      ]
     },
     "metadata": {},
     "output_type": "display_data"
    },
    {
     "data": {
      "text/html": [
       "<div>\n",
       "<style scoped>\n",
       "    .dataframe tbody tr th:only-of-type {\n",
       "        vertical-align: middle;\n",
       "    }\n",
       "\n",
       "    .dataframe tbody tr th {\n",
       "        vertical-align: top;\n",
       "    }\n",
       "\n",
       "    .dataframe thead th {\n",
       "        text-align: right;\n",
       "    }\n",
       "</style>\n",
       "<table border=\"1\" class=\"dataframe\">\n",
       "  <thead>\n",
       "    <tr style=\"text-align: right;\">\n",
       "      <th></th>\n",
       "      <th>key</th>\n",
       "      <th>Газ 1</th>\n",
       "    </tr>\n",
       "  </thead>\n",
       "  <tbody>\n",
       "    <tr>\n",
       "      <th>count</th>\n",
       "      <td>3239.000000</td>\n",
       "      <td>3239.000000</td>\n",
       "    </tr>\n",
       "    <tr>\n",
       "      <th>mean</th>\n",
       "      <td>1621.861377</td>\n",
       "      <td>11.002062</td>\n",
       "    </tr>\n",
       "    <tr>\n",
       "      <th>std</th>\n",
       "      <td>935.386334</td>\n",
       "      <td>6.220327</td>\n",
       "    </tr>\n",
       "    <tr>\n",
       "      <th>min</th>\n",
       "      <td>1.000000</td>\n",
       "      <td>0.008399</td>\n",
       "    </tr>\n",
       "    <tr>\n",
       "      <th>25%</th>\n",
       "      <td>812.500000</td>\n",
       "      <td>7.043089</td>\n",
       "    </tr>\n",
       "    <tr>\n",
       "      <th>50%</th>\n",
       "      <td>1622.000000</td>\n",
       "      <td>9.836267</td>\n",
       "    </tr>\n",
       "    <tr>\n",
       "      <th>75%</th>\n",
       "      <td>2431.500000</td>\n",
       "      <td>13.769915</td>\n",
       "    </tr>\n",
       "    <tr>\n",
       "      <th>max</th>\n",
       "      <td>3241.000000</td>\n",
       "      <td>77.995040</td>\n",
       "    </tr>\n",
       "  </tbody>\n",
       "</table>\n",
       "</div>"
      ],
      "text/plain": [
       "               key        Газ 1\n",
       "count  3239.000000  3239.000000\n",
       "mean   1621.861377    11.002062\n",
       "std     935.386334     6.220327\n",
       "min       1.000000     0.008399\n",
       "25%     812.500000     7.043089\n",
       "50%    1622.000000     9.836267\n",
       "75%    2431.500000    13.769915\n",
       "max    3241.000000    77.995040"
      ]
     },
     "metadata": {},
     "output_type": "display_data"
    }
   ],
   "source": [
    "show_info(data_gas)"
   ]
  },
  {
   "cell_type": "markdown",
   "metadata": {},
   "source": [
    "##### Посроим гистограмму о продувке сплава газом"
   ]
  },
  {
   "cell_type": "code",
   "execution_count": 11,
   "metadata": {
    "scrolled": true
   },
   "outputs": [
    {
     "data": {
      "image/png": "[encoded data removed]",
      "text/plain": [
       "<Figure size 2000x800 with 1 Axes>"
      ]
     },
     "metadata": {},
     "output_type": "display_data"
    }
   ],
   "source": [
    "bins = np.linspace(-0.5, 80, 100)\n",
    "plt.figure(figsize=(20,8),edgecolor='blue')\n",
    "plt.hist(data_gas['Газ 1'], bins, alpha = 0.5, label='Газ 1')\n",
    "plt.legend(loc='upper left')\n",
    "plt.show()"
   ]
  },
  {
   "cell_type": "markdown",
   "metadata": {},
   "source": [
    "##### Вывод: В целом распределение расхода газа иметь нормальное распределение со смещением влево."
   ]
  },
  {
   "cell_type": "markdown",
   "metadata": {},
   "source": [
    "#### Выведем статистические результаты измерения температуры;"
   ]
  },
  {
   "cell_type": "code",
   "execution_count": 12,
   "metadata": {},
   "outputs": [
    {
     "data": {
      "text/html": [
       "<div>\n",
       "<style scoped>\n",
       "    .dataframe tbody tr th:only-of-type {\n",
       "        vertical-align: middle;\n",
       "    }\n",
       "\n",
       "    .dataframe tbody tr th {\n",
       "        vertical-align: top;\n",
       "    }\n",
       "\n",
       "    .dataframe thead th {\n",
       "        text-align: right;\n",
       "    }\n",
       "</style>\n",
       "<table border=\"1\" class=\"dataframe\">\n",
       "  <thead>\n",
       "    <tr style=\"text-align: right;\">\n",
       "      <th></th>\n",
       "      <th>key</th>\n",
       "      <th>Время замера</th>\n",
       "      <th>Температура</th>\n",
       "    </tr>\n",
       "  </thead>\n",
       "  <tbody>\n",
       "    <tr>\n",
       "      <th>0</th>\n",
       "      <td>1</td>\n",
       "      <td>2019-05-03 11:16:18</td>\n",
       "      <td>1571.0</td>\n",
       "    </tr>\n",
       "    <tr>\n",
       "      <th>1</th>\n",
       "      <td>1</td>\n",
       "      <td>2019-05-03 11:25:53</td>\n",
       "      <td>1604.0</td>\n",
       "    </tr>\n",
       "    <tr>\n",
       "      <th>2</th>\n",
       "      <td>1</td>\n",
       "      <td>2019-05-03 11:29:11</td>\n",
       "      <td>1618.0</td>\n",
       "    </tr>\n",
       "    <tr>\n",
       "      <th>3</th>\n",
       "      <td>1</td>\n",
       "      <td>2019-05-03 11:30:01</td>\n",
       "      <td>1601.0</td>\n",
       "    </tr>\n",
       "    <tr>\n",
       "      <th>4</th>\n",
       "      <td>1</td>\n",
       "      <td>2019-05-03 11:30:39</td>\n",
       "      <td>1613.0</td>\n",
       "    </tr>\n",
       "    <tr>\n",
       "      <th>5</th>\n",
       "      <td>2</td>\n",
       "      <td>2019-05-03 11:37:27</td>\n",
       "      <td>1581.0</td>\n",
       "    </tr>\n",
       "    <tr>\n",
       "      <th>6</th>\n",
       "      <td>2</td>\n",
       "      <td>2019-05-03 11:38:00</td>\n",
       "      <td>1577.0</td>\n",
       "    </tr>\n",
       "    <tr>\n",
       "      <th>7</th>\n",
       "      <td>2</td>\n",
       "      <td>2019-05-03 11:49:38</td>\n",
       "      <td>1589.0</td>\n",
       "    </tr>\n",
       "    <tr>\n",
       "      <th>8</th>\n",
       "      <td>2</td>\n",
       "      <td>2019-05-03 11:55:50</td>\n",
       "      <td>1604.0</td>\n",
       "    </tr>\n",
       "    <tr>\n",
       "      <th>9</th>\n",
       "      <td>2</td>\n",
       "      <td>2019-05-03 11:58:24</td>\n",
       "      <td>1608.0</td>\n",
       "    </tr>\n",
       "    <tr>\n",
       "      <th>10</th>\n",
       "      <td>2</td>\n",
       "      <td>2019-05-03 11:59:12</td>\n",
       "      <td>1602.0</td>\n",
       "    </tr>\n",
       "    <tr>\n",
       "      <th>11</th>\n",
       "      <td>3</td>\n",
       "      <td>2019-05-03 12:13:17</td>\n",
       "      <td>1596.0</td>\n",
       "    </tr>\n",
       "    <tr>\n",
       "      <th>12</th>\n",
       "      <td>3</td>\n",
       "      <td>2019-05-03 12:18:36</td>\n",
       "      <td>1597.0</td>\n",
       "    </tr>\n",
       "    <tr>\n",
       "      <th>13</th>\n",
       "      <td>3</td>\n",
       "      <td>2019-05-03 12:25:06</td>\n",
       "      <td>1598.0</td>\n",
       "    </tr>\n",
       "    <tr>\n",
       "      <th>14</th>\n",
       "      <td>3</td>\n",
       "      <td>2019-05-03 12:30:48</td>\n",
       "      <td>1599.0</td>\n",
       "    </tr>\n",
       "  </tbody>\n",
       "</table>\n",
       "</div>"
      ],
      "text/plain": [
       "    key         Время замера  Температура\n",
       "0     1  2019-05-03 11:16:18       1571.0\n",
       "1     1  2019-05-03 11:25:53       1604.0\n",
       "2     1  2019-05-03 11:29:11       1618.0\n",
       "3     1  2019-05-03 11:30:01       1601.0\n",
       "4     1  2019-05-03 11:30:39       1613.0\n",
       "5     2  2019-05-03 11:37:27       1581.0\n",
       "6     2  2019-05-03 11:38:00       1577.0\n",
       "7     2  2019-05-03 11:49:38       1589.0\n",
       "8     2  2019-05-03 11:55:50       1604.0\n",
       "9     2  2019-05-03 11:58:24       1608.0\n",
       "10    2  2019-05-03 11:59:12       1602.0\n",
       "11    3  2019-05-03 12:13:17       1596.0\n",
       "12    3  2019-05-03 12:18:36       1597.0\n",
       "13    3  2019-05-03 12:25:06       1598.0\n",
       "14    3  2019-05-03 12:30:48       1599.0"
      ]
     },
     "metadata": {},
     "output_type": "display_data"
    },
    {
     "name": "stdout",
     "output_type": "stream",
     "text": [
      "<class 'pandas.core.frame.DataFrame'>\n",
      "RangeIndex: 15907 entries, 0 to 15906\n",
      "Data columns (total 3 columns):\n",
      " #   Column        Non-Null Count  Dtype  \n",
      "---  ------        --------------  -----  \n",
      " 0   key           15907 non-null  int64  \n",
      " 1   Время замера  15907 non-null  object \n",
      " 2   Температура   13006 non-null  float64\n",
      "dtypes: float64(1), int64(1), object(1)\n",
      "memory usage: 372.9+ KB\n"
     ]
    },
    {
     "data": {
      "text/plain": [
       "None"
      ]
     },
     "metadata": {},
     "output_type": "display_data"
    },
    {
     "data": {
      "text/html": [
       "<div>\n",
       "<style scoped>\n",
       "    .dataframe tbody tr th:only-of-type {\n",
       "        vertical-align: middle;\n",
       "    }\n",
       "\n",
       "    .dataframe tbody tr th {\n",
       "        vertical-align: top;\n",
       "    }\n",
       "\n",
       "    .dataframe thead th {\n",
       "        text-align: right;\n",
       "    }\n",
       "</style>\n",
       "<table border=\"1\" class=\"dataframe\">\n",
       "  <thead>\n",
       "    <tr style=\"text-align: right;\">\n",
       "      <th></th>\n",
       "      <th>key</th>\n",
       "      <th>Температура</th>\n",
       "    </tr>\n",
       "  </thead>\n",
       "  <tbody>\n",
       "    <tr>\n",
       "      <th>count</th>\n",
       "      <td>15907.000000</td>\n",
       "      <td>13006.000000</td>\n",
       "    </tr>\n",
       "    <tr>\n",
       "      <th>mean</th>\n",
       "      <td>1607.880870</td>\n",
       "      <td>1591.840920</td>\n",
       "    </tr>\n",
       "    <tr>\n",
       "      <th>std</th>\n",
       "      <td>942.212073</td>\n",
       "      <td>21.375851</td>\n",
       "    </tr>\n",
       "    <tr>\n",
       "      <th>min</th>\n",
       "      <td>1.000000</td>\n",
       "      <td>1191.000000</td>\n",
       "    </tr>\n",
       "    <tr>\n",
       "      <th>25%</th>\n",
       "      <td>790.000000</td>\n",
       "      <td>1581.000000</td>\n",
       "    </tr>\n",
       "    <tr>\n",
       "      <th>50%</th>\n",
       "      <td>1618.000000</td>\n",
       "      <td>1591.000000</td>\n",
       "    </tr>\n",
       "    <tr>\n",
       "      <th>75%</th>\n",
       "      <td>2427.000000</td>\n",
       "      <td>1601.000000</td>\n",
       "    </tr>\n",
       "    <tr>\n",
       "      <th>max</th>\n",
       "      <td>3241.000000</td>\n",
       "      <td>1705.000000</td>\n",
       "    </tr>\n",
       "  </tbody>\n",
       "</table>\n",
       "</div>"
      ],
      "text/plain": [
       "                key   Температура\n",
       "count  15907.000000  13006.000000\n",
       "mean    1607.880870   1591.840920\n",
       "std      942.212073     21.375851\n",
       "min        1.000000   1191.000000\n",
       "25%      790.000000   1581.000000\n",
       "50%     1618.000000   1591.000000\n",
       "75%     2427.000000   1601.000000\n",
       "max     3241.000000   1705.000000"
      ]
     },
     "metadata": {},
     "output_type": "display_data"
    }
   ],
   "source": [
    "show_info(data_temp)"
   ]
  },
  {
   "cell_type": "markdown",
   "metadata": {},
   "source": [
    "##### Построим гистограмму результатов измерения температуры;"
   ]
  },
  {
   "cell_type": "code",
   "execution_count": 13,
   "metadata": {},
   "outputs": [
    {
     "data": {
      "image/png": "[encoded data removed]",
      "text/plain": [
       "<Figure size 2000x800 with 1 Axes>"
      ]
     },
     "metadata": {},
     "output_type": "display_data"
    }
   ],
   "source": [
    "bins = np.linspace(1100, 1800, 100)\n",
    "plt.figure(figsize=(20,8),edgecolor='blue')\n",
    "plt.hist(data_temp['Температура'], bins, alpha = 0.5, label='Температура')\n",
    "plt.legend(loc='upper left')\n",
    "plt.show()"
   ]
  },
  {
   "cell_type": "markdown",
   "metadata": {},
   "source": [
    "##### Вывод: Распределение температоруы имеет нормальное распределение, данные дата можно привести к целочисленному значению."
   ]
  },
  {
   "cell_type": "markdown",
   "metadata": {},
   "source": [
    "#### Выведем статистические данные о проволочных материалах (объём);"
   ]
  },
  {
   "cell_type": "code",
   "execution_count": 14,
   "metadata": {},
   "outputs": [
    {
     "data": {
      "text/html": [
       "<div>\n",
       "<style scoped>\n",
       "    .dataframe tbody tr th:only-of-type {\n",
       "        vertical-align: middle;\n",
       "    }\n",
       "\n",
       "    .dataframe tbody tr th {\n",
       "        vertical-align: top;\n",
       "    }\n",
       "\n",
       "    .dataframe thead th {\n",
       "        text-align: right;\n",
       "    }\n",
       "</style>\n",
       "<table border=\"1\" class=\"dataframe\">\n",
       "  <thead>\n",
       "    <tr style=\"text-align: right;\">\n",
       "      <th></th>\n",
       "      <th>key</th>\n",
       "      <th>Wire 1</th>\n",
       "      <th>Wire 2</th>\n",
       "      <th>Wire 3</th>\n",
       "      <th>Wire 4</th>\n",
       "      <th>Wire 5</th>\n",
       "      <th>Wire 6</th>\n",
       "      <th>Wire 7</th>\n",
       "      <th>Wire 8</th>\n",
       "      <th>Wire 9</th>\n",
       "    </tr>\n",
       "  </thead>\n",
       "  <tbody>\n",
       "    <tr>\n",
       "      <th>0</th>\n",
       "      <td>1</td>\n",
       "      <td>60.059998</td>\n",
       "      <td>NaN</td>\n",
       "      <td>NaN</td>\n",
       "      <td>NaN</td>\n",
       "      <td>NaN</td>\n",
       "      <td>NaN</td>\n",
       "      <td>NaN</td>\n",
       "      <td>NaN</td>\n",
       "      <td>NaN</td>\n",
       "    </tr>\n",
       "    <tr>\n",
       "      <th>1</th>\n",
       "      <td>2</td>\n",
       "      <td>96.052315</td>\n",
       "      <td>NaN</td>\n",
       "      <td>NaN</td>\n",
       "      <td>NaN</td>\n",
       "      <td>NaN</td>\n",
       "      <td>NaN</td>\n",
       "      <td>NaN</td>\n",
       "      <td>NaN</td>\n",
       "      <td>NaN</td>\n",
       "    </tr>\n",
       "    <tr>\n",
       "      <th>2</th>\n",
       "      <td>3</td>\n",
       "      <td>91.160157</td>\n",
       "      <td>NaN</td>\n",
       "      <td>NaN</td>\n",
       "      <td>NaN</td>\n",
       "      <td>NaN</td>\n",
       "      <td>NaN</td>\n",
       "      <td>NaN</td>\n",
       "      <td>NaN</td>\n",
       "      <td>NaN</td>\n",
       "    </tr>\n",
       "    <tr>\n",
       "      <th>3</th>\n",
       "      <td>4</td>\n",
       "      <td>89.063515</td>\n",
       "      <td>NaN</td>\n",
       "      <td>NaN</td>\n",
       "      <td>NaN</td>\n",
       "      <td>NaN</td>\n",
       "      <td>NaN</td>\n",
       "      <td>NaN</td>\n",
       "      <td>NaN</td>\n",
       "      <td>NaN</td>\n",
       "    </tr>\n",
       "    <tr>\n",
       "      <th>4</th>\n",
       "      <td>5</td>\n",
       "      <td>89.238236</td>\n",
       "      <td>9.114560</td>\n",
       "      <td>NaN</td>\n",
       "      <td>NaN</td>\n",
       "      <td>NaN</td>\n",
       "      <td>NaN</td>\n",
       "      <td>NaN</td>\n",
       "      <td>NaN</td>\n",
       "      <td>NaN</td>\n",
       "    </tr>\n",
       "    <tr>\n",
       "      <th>5</th>\n",
       "      <td>6</td>\n",
       "      <td>99.109917</td>\n",
       "      <td>9.114560</td>\n",
       "      <td>NaN</td>\n",
       "      <td>NaN</td>\n",
       "      <td>NaN</td>\n",
       "      <td>NaN</td>\n",
       "      <td>NaN</td>\n",
       "      <td>NaN</td>\n",
       "      <td>NaN</td>\n",
       "    </tr>\n",
       "    <tr>\n",
       "      <th>6</th>\n",
       "      <td>7</td>\n",
       "      <td>98.061600</td>\n",
       "      <td>NaN</td>\n",
       "      <td>NaN</td>\n",
       "      <td>NaN</td>\n",
       "      <td>NaN</td>\n",
       "      <td>NaN</td>\n",
       "      <td>NaN</td>\n",
       "      <td>NaN</td>\n",
       "      <td>NaN</td>\n",
       "    </tr>\n",
       "    <tr>\n",
       "      <th>7</th>\n",
       "      <td>8</td>\n",
       "      <td>155.282394</td>\n",
       "      <td>NaN</td>\n",
       "      <td>NaN</td>\n",
       "      <td>NaN</td>\n",
       "      <td>NaN</td>\n",
       "      <td>NaN</td>\n",
       "      <td>NaN</td>\n",
       "      <td>NaN</td>\n",
       "      <td>NaN</td>\n",
       "    </tr>\n",
       "    <tr>\n",
       "      <th>8</th>\n",
       "      <td>9</td>\n",
       "      <td>113.393279</td>\n",
       "      <td>9.143681</td>\n",
       "      <td>NaN</td>\n",
       "      <td>NaN</td>\n",
       "      <td>NaN</td>\n",
       "      <td>NaN</td>\n",
       "      <td>NaN</td>\n",
       "      <td>NaN</td>\n",
       "      <td>NaN</td>\n",
       "    </tr>\n",
       "    <tr>\n",
       "      <th>9</th>\n",
       "      <td>10</td>\n",
       "      <td>81.244796</td>\n",
       "      <td>12.376000</td>\n",
       "      <td>NaN</td>\n",
       "      <td>NaN</td>\n",
       "      <td>NaN</td>\n",
       "      <td>NaN</td>\n",
       "      <td>NaN</td>\n",
       "      <td>NaN</td>\n",
       "      <td>NaN</td>\n",
       "    </tr>\n",
       "    <tr>\n",
       "      <th>10</th>\n",
       "      <td>11</td>\n",
       "      <td>99.197281</td>\n",
       "      <td>NaN</td>\n",
       "      <td>NaN</td>\n",
       "      <td>NaN</td>\n",
       "      <td>NaN</td>\n",
       "      <td>NaN</td>\n",
       "      <td>NaN</td>\n",
       "      <td>NaN</td>\n",
       "      <td>NaN</td>\n",
       "    </tr>\n",
       "    <tr>\n",
       "      <th>11</th>\n",
       "      <td>12</td>\n",
       "      <td>153.578873</td>\n",
       "      <td>NaN</td>\n",
       "      <td>NaN</td>\n",
       "      <td>NaN</td>\n",
       "      <td>NaN</td>\n",
       "      <td>NaN</td>\n",
       "      <td>NaN</td>\n",
       "      <td>NaN</td>\n",
       "      <td>NaN</td>\n",
       "    </tr>\n",
       "    <tr>\n",
       "      <th>12</th>\n",
       "      <td>13</td>\n",
       "      <td>77.269920</td>\n",
       "      <td>52.416003</td>\n",
       "      <td>NaN</td>\n",
       "      <td>NaN</td>\n",
       "      <td>NaN</td>\n",
       "      <td>NaN</td>\n",
       "      <td>NaN</td>\n",
       "      <td>NaN</td>\n",
       "      <td>NaN</td>\n",
       "    </tr>\n",
       "    <tr>\n",
       "      <th>13</th>\n",
       "      <td>14</td>\n",
       "      <td>120.251038</td>\n",
       "      <td>37.826881</td>\n",
       "      <td>NaN</td>\n",
       "      <td>NaN</td>\n",
       "      <td>NaN</td>\n",
       "      <td>NaN</td>\n",
       "      <td>NaN</td>\n",
       "      <td>NaN</td>\n",
       "      <td>NaN</td>\n",
       "    </tr>\n",
       "    <tr>\n",
       "      <th>14</th>\n",
       "      <td>15</td>\n",
       "      <td>71.285759</td>\n",
       "      <td>52.095680</td>\n",
       "      <td>NaN</td>\n",
       "      <td>NaN</td>\n",
       "      <td>NaN</td>\n",
       "      <td>NaN</td>\n",
       "      <td>NaN</td>\n",
       "      <td>NaN</td>\n",
       "      <td>NaN</td>\n",
       "    </tr>\n",
       "  </tbody>\n",
       "</table>\n",
       "</div>"
      ],
      "text/plain": [
       "    key      Wire 1     Wire 2  Wire 3  Wire 4  Wire 5  Wire 6  Wire 7  \\\n",
       "0     1   60.059998        NaN     NaN     NaN     NaN     NaN     NaN   \n",
       "1     2   96.052315        NaN     NaN     NaN     NaN     NaN     NaN   \n",
       "2     3   91.160157        NaN     NaN     NaN     NaN     NaN     NaN   \n",
       "3     4   89.063515        NaN     NaN     NaN     NaN     NaN     NaN   \n",
       "4     5   89.238236   9.114560     NaN     NaN     NaN     NaN     NaN   \n",
       "5     6   99.109917   9.114560     NaN     NaN     NaN     NaN     NaN   \n",
       "6     7   98.061600        NaN     NaN     NaN     NaN     NaN     NaN   \n",
       "7     8  155.282394        NaN     NaN     NaN     NaN     NaN     NaN   \n",
       "8     9  113.393279   9.143681     NaN     NaN     NaN     NaN     NaN   \n",
       "9    10   81.244796  12.376000     NaN     NaN     NaN     NaN     NaN   \n",
       "10   11   99.197281        NaN     NaN     NaN     NaN     NaN     NaN   \n",
       "11   12  153.578873        NaN     NaN     NaN     NaN     NaN     NaN   \n",
       "12   13   77.269920  52.416003     NaN     NaN     NaN     NaN     NaN   \n",
       "13   14  120.251038  37.826881     NaN     NaN     NaN     NaN     NaN   \n",
       "14   15   71.285759  52.095680     NaN     NaN     NaN     NaN     NaN   \n",
       "\n",
       "    Wire 8  Wire 9  \n",
       "0      NaN     NaN  \n",
       "1      NaN     NaN  \n",
       "2      NaN     NaN  \n",
       "3      NaN     NaN  \n",
       "4      NaN     NaN  \n",
       "5      NaN     NaN  \n",
       "6      NaN     NaN  \n",
       "7      NaN     NaN  \n",
       "8      NaN     NaN  \n",
       "9      NaN     NaN  \n",
       "10     NaN     NaN  \n",
       "11     NaN     NaN  \n",
       "12     NaN     NaN  \n",
       "13     NaN     NaN  \n",
       "14     NaN     NaN  "
      ]
     },
     "metadata": {},
     "output_type": "display_data"
    },
    {
     "name": "stdout",
     "output_type": "stream",
     "text": [
      "<class 'pandas.core.frame.DataFrame'>\n",
      "RangeIndex: 3081 entries, 0 to 3080\n",
      "Data columns (total 10 columns):\n",
      " #   Column  Non-Null Count  Dtype  \n",
      "---  ------  --------------  -----  \n",
      " 0   key     3081 non-null   int64  \n",
      " 1   Wire 1  3055 non-null   float64\n",
      " 2   Wire 2  1079 non-null   float64\n",
      " 3   Wire 3  63 non-null     float64\n",
      " 4   Wire 4  14 non-null     float64\n",
      " 5   Wire 5  1 non-null      float64\n",
      " 6   Wire 6  73 non-null     float64\n",
      " 7   Wire 7  11 non-null     float64\n",
      " 8   Wire 8  19 non-null     float64\n",
      " 9   Wire 9  29 non-null     float64\n",
      "dtypes: float64(9), int64(1)\n",
      "memory usage: 240.8 KB\n"
     ]
    },
    {
     "data": {
      "text/plain": [
       "None"
      ]
     },
     "metadata": {},
     "output_type": "display_data"
    },
    {
     "data": {
      "text/html": [
       "<div>\n",
       "<style scoped>\n",
       "    .dataframe tbody tr th:only-of-type {\n",
       "        vertical-align: middle;\n",
       "    }\n",
       "\n",
       "    .dataframe tbody tr th {\n",
       "        vertical-align: top;\n",
       "    }\n",
       "\n",
       "    .dataframe thead th {\n",
       "        text-align: right;\n",
       "    }\n",
       "</style>\n",
       "<table border=\"1\" class=\"dataframe\">\n",
       "  <thead>\n",
       "    <tr style=\"text-align: right;\">\n",
       "      <th></th>\n",
       "      <th>key</th>\n",
       "      <th>Wire 1</th>\n",
       "      <th>Wire 2</th>\n",
       "      <th>Wire 3</th>\n",
       "      <th>Wire 4</th>\n",
       "      <th>Wire 5</th>\n",
       "      <th>Wire 6</th>\n",
       "      <th>Wire 7</th>\n",
       "      <th>Wire 8</th>\n",
       "      <th>Wire 9</th>\n",
       "    </tr>\n",
       "  </thead>\n",
       "  <tbody>\n",
       "    <tr>\n",
       "      <th>count</th>\n",
       "      <td>3081.000000</td>\n",
       "      <td>3055.000000</td>\n",
       "      <td>1079.000000</td>\n",
       "      <td>63.000000</td>\n",
       "      <td>14.000000</td>\n",
       "      <td>1.000</td>\n",
       "      <td>73.000000</td>\n",
       "      <td>11.000000</td>\n",
       "      <td>19.000000</td>\n",
       "      <td>29.000000</td>\n",
       "    </tr>\n",
       "    <tr>\n",
       "      <th>mean</th>\n",
       "      <td>1623.426485</td>\n",
       "      <td>100.895853</td>\n",
       "      <td>50.577323</td>\n",
       "      <td>189.482681</td>\n",
       "      <td>57.442842</td>\n",
       "      <td>15.132</td>\n",
       "      <td>48.016974</td>\n",
       "      <td>10.039007</td>\n",
       "      <td>53.625193</td>\n",
       "      <td>34.155752</td>\n",
       "    </tr>\n",
       "    <tr>\n",
       "      <th>std</th>\n",
       "      <td>932.996726</td>\n",
       "      <td>42.012518</td>\n",
       "      <td>39.320216</td>\n",
       "      <td>99.513444</td>\n",
       "      <td>28.824667</td>\n",
       "      <td>NaN</td>\n",
       "      <td>33.919845</td>\n",
       "      <td>8.610584</td>\n",
       "      <td>16.881728</td>\n",
       "      <td>19.931616</td>\n",
       "    </tr>\n",
       "    <tr>\n",
       "      <th>min</th>\n",
       "      <td>1.000000</td>\n",
       "      <td>1.918800</td>\n",
       "      <td>0.030160</td>\n",
       "      <td>0.144144</td>\n",
       "      <td>24.148801</td>\n",
       "      <td>15.132</td>\n",
       "      <td>0.034320</td>\n",
       "      <td>0.234208</td>\n",
       "      <td>45.076721</td>\n",
       "      <td>4.622800</td>\n",
       "    </tr>\n",
       "    <tr>\n",
       "      <th>25%</th>\n",
       "      <td>823.000000</td>\n",
       "      <td>72.115684</td>\n",
       "      <td>20.193680</td>\n",
       "      <td>95.135044</td>\n",
       "      <td>40.807002</td>\n",
       "      <td>15.132</td>\n",
       "      <td>25.053600</td>\n",
       "      <td>6.762756</td>\n",
       "      <td>46.094879</td>\n",
       "      <td>22.058401</td>\n",
       "    </tr>\n",
       "    <tr>\n",
       "      <th>50%</th>\n",
       "      <td>1619.000000</td>\n",
       "      <td>100.158234</td>\n",
       "      <td>40.142956</td>\n",
       "      <td>235.194977</td>\n",
       "      <td>45.234282</td>\n",
       "      <td>15.132</td>\n",
       "      <td>42.076324</td>\n",
       "      <td>9.017009</td>\n",
       "      <td>46.279999</td>\n",
       "      <td>30.066399</td>\n",
       "    </tr>\n",
       "    <tr>\n",
       "      <th>75%</th>\n",
       "      <td>2434.000000</td>\n",
       "      <td>126.060483</td>\n",
       "      <td>70.227558</td>\n",
       "      <td>276.252014</td>\n",
       "      <td>76.124619</td>\n",
       "      <td>15.132</td>\n",
       "      <td>64.212723</td>\n",
       "      <td>11.886057</td>\n",
       "      <td>48.089603</td>\n",
       "      <td>43.862003</td>\n",
       "    </tr>\n",
       "    <tr>\n",
       "      <th>max</th>\n",
       "      <td>3241.000000</td>\n",
       "      <td>330.314424</td>\n",
       "      <td>282.780152</td>\n",
       "      <td>385.008668</td>\n",
       "      <td>113.231044</td>\n",
       "      <td>15.132</td>\n",
       "      <td>180.454575</td>\n",
       "      <td>32.847674</td>\n",
       "      <td>102.762401</td>\n",
       "      <td>90.053604</td>\n",
       "    </tr>\n",
       "  </tbody>\n",
       "</table>\n",
       "</div>"
      ],
      "text/plain": [
       "               key       Wire 1       Wire 2      Wire 3      Wire 4  Wire 5  \\\n",
       "count  3081.000000  3055.000000  1079.000000   63.000000   14.000000   1.000   \n",
       "mean   1623.426485   100.895853    50.577323  189.482681   57.442842  15.132   \n",
       "std     932.996726    42.012518    39.320216   99.513444   28.824667     NaN   \n",
       "min       1.000000     1.918800     0.030160    0.144144   24.148801  15.132   \n",
       "25%     823.000000    72.115684    20.193680   95.135044   40.807002  15.132   \n",
       "50%    1619.000000   100.158234    40.142956  235.194977   45.234282  15.132   \n",
       "75%    2434.000000   126.060483    70.227558  276.252014   76.124619  15.132   \n",
       "max    3241.000000   330.314424   282.780152  385.008668  113.231044  15.132   \n",
       "\n",
       "           Wire 6     Wire 7      Wire 8     Wire 9  \n",
       "count   73.000000  11.000000   19.000000  29.000000  \n",
       "mean    48.016974  10.039007   53.625193  34.155752  \n",
       "std     33.919845   8.610584   16.881728  19.931616  \n",
       "min      0.034320   0.234208   45.076721   4.622800  \n",
       "25%     25.053600   6.762756   46.094879  22.058401  \n",
       "50%     42.076324   9.017009   46.279999  30.066399  \n",
       "75%     64.212723  11.886057   48.089603  43.862003  \n",
       "max    180.454575  32.847674  102.762401  90.053604  "
      ]
     },
     "metadata": {},
     "output_type": "display_data"
    }
   ],
   "source": [
    "show_info(data_wire)"
   ]
  },
  {
   "cell_type": "markdown",
   "metadata": {},
   "source": [
    "##### Построим диаграмму рассеивания для  данных о проволочных материалах (объём);"
   ]
  },
  {
   "cell_type": "code",
   "execution_count": 15,
   "metadata": {
    "scrolled": true
   },
   "outputs": [
    {
     "data": {
      "text/plain": [
       "<AxesSubplot: >"
      ]
     },
     "execution_count": 15,
     "metadata": {},
     "output_type": "execute_result"
    },
    {
     "data": {
      "image/png": "[encoded data removed]",
      "text/plain": [
       "<Figure size 1800x800 with 1 Axes>"
      ]
     },
     "metadata": {},
     "output_type": "display_data"
    }
   ],
   "source": [
    "sns.set(rc={'figure.figsize':(18,8)})\n",
    "sns.boxplot(data=data_wire.drop(['key'], axis=1))"
   ]
  },
  {
   "cell_type": "markdown",
   "metadata": {},
   "source": [
    "##### Вывод: На диаграмме рассеивания видны единичные аномальные данные для столбцов \"Wire 6-9\". Для столбцов \"Wire 1\" и \"Wire 2\" данные выходящие за границы усов можно оставить так как они могут быть связаны с технологическим процессом."
   ]
  },
  {
   "cell_type": "markdown",
   "metadata": {},
   "source": [
    "#### Выведем статистические данные о проволочных материалах (время)."
   ]
  },
  {
   "cell_type": "code",
   "execution_count": 16,
   "metadata": {},
   "outputs": [
    {
     "data": {
      "text/html": [
       "<div>\n",
       "<style scoped>\n",
       "    .dataframe tbody tr th:only-of-type {\n",
       "        vertical-align: middle;\n",
       "    }\n",
       "\n",
       "    .dataframe tbody tr th {\n",
       "        vertical-align: top;\n",
       "    }\n",
       "\n",
       "    .dataframe thead th {\n",
       "        text-align: right;\n",
       "    }\n",
       "</style>\n",
       "<table border=\"1\" class=\"dataframe\">\n",
       "  <thead>\n",
       "    <tr style=\"text-align: right;\">\n",
       "      <th></th>\n",
       "      <th>key</th>\n",
       "      <th>Wire 1</th>\n",
       "      <th>Wire 2</th>\n",
       "      <th>Wire 3</th>\n",
       "      <th>Wire 4</th>\n",
       "      <th>Wire 5</th>\n",
       "      <th>Wire 6</th>\n",
       "      <th>Wire 7</th>\n",
       "      <th>Wire 8</th>\n",
       "      <th>Wire 9</th>\n",
       "    </tr>\n",
       "  </thead>\n",
       "  <tbody>\n",
       "    <tr>\n",
       "      <th>0</th>\n",
       "      <td>1</td>\n",
       "      <td>2019-05-03 11:11:41</td>\n",
       "      <td>NaN</td>\n",
       "      <td>NaN</td>\n",
       "      <td>NaN</td>\n",
       "      <td>NaN</td>\n",
       "      <td>NaN</td>\n",
       "      <td>NaN</td>\n",
       "      <td>NaN</td>\n",
       "      <td>NaN</td>\n",
       "    </tr>\n",
       "    <tr>\n",
       "      <th>1</th>\n",
       "      <td>2</td>\n",
       "      <td>2019-05-03 11:46:10</td>\n",
       "      <td>NaN</td>\n",
       "      <td>NaN</td>\n",
       "      <td>NaN</td>\n",
       "      <td>NaN</td>\n",
       "      <td>NaN</td>\n",
       "      <td>NaN</td>\n",
       "      <td>NaN</td>\n",
       "      <td>NaN</td>\n",
       "    </tr>\n",
       "    <tr>\n",
       "      <th>2</th>\n",
       "      <td>3</td>\n",
       "      <td>2019-05-03 12:13:47</td>\n",
       "      <td>NaN</td>\n",
       "      <td>NaN</td>\n",
       "      <td>NaN</td>\n",
       "      <td>NaN</td>\n",
       "      <td>NaN</td>\n",
       "      <td>NaN</td>\n",
       "      <td>NaN</td>\n",
       "      <td>NaN</td>\n",
       "    </tr>\n",
       "    <tr>\n",
       "      <th>3</th>\n",
       "      <td>4</td>\n",
       "      <td>2019-05-03 12:48:05</td>\n",
       "      <td>NaN</td>\n",
       "      <td>NaN</td>\n",
       "      <td>NaN</td>\n",
       "      <td>NaN</td>\n",
       "      <td>NaN</td>\n",
       "      <td>NaN</td>\n",
       "      <td>NaN</td>\n",
       "      <td>NaN</td>\n",
       "    </tr>\n",
       "    <tr>\n",
       "      <th>4</th>\n",
       "      <td>5</td>\n",
       "      <td>2019-05-03 13:18:15</td>\n",
       "      <td>2019-05-03 13:32:06</td>\n",
       "      <td>NaN</td>\n",
       "      <td>NaN</td>\n",
       "      <td>NaN</td>\n",
       "      <td>NaN</td>\n",
       "      <td>NaN</td>\n",
       "      <td>NaN</td>\n",
       "      <td>NaN</td>\n",
       "    </tr>\n",
       "    <tr>\n",
       "      <th>5</th>\n",
       "      <td>6</td>\n",
       "      <td>2019-05-03 13:59:02</td>\n",
       "      <td>2019-05-03 13:59:54</td>\n",
       "      <td>NaN</td>\n",
       "      <td>NaN</td>\n",
       "      <td>NaN</td>\n",
       "      <td>NaN</td>\n",
       "      <td>NaN</td>\n",
       "      <td>NaN</td>\n",
       "      <td>NaN</td>\n",
       "    </tr>\n",
       "    <tr>\n",
       "      <th>6</th>\n",
       "      <td>7</td>\n",
       "      <td>2019-05-03 14:28:46</td>\n",
       "      <td>NaN</td>\n",
       "      <td>NaN</td>\n",
       "      <td>NaN</td>\n",
       "      <td>NaN</td>\n",
       "      <td>NaN</td>\n",
       "      <td>NaN</td>\n",
       "      <td>NaN</td>\n",
       "      <td>NaN</td>\n",
       "    </tr>\n",
       "    <tr>\n",
       "      <th>7</th>\n",
       "      <td>8</td>\n",
       "      <td>2019-05-03 15:03:42</td>\n",
       "      <td>NaN</td>\n",
       "      <td>NaN</td>\n",
       "      <td>NaN</td>\n",
       "      <td>NaN</td>\n",
       "      <td>NaN</td>\n",
       "      <td>NaN</td>\n",
       "      <td>NaN</td>\n",
       "      <td>NaN</td>\n",
       "    </tr>\n",
       "    <tr>\n",
       "      <th>8</th>\n",
       "      <td>9</td>\n",
       "      <td>2019-05-03 15:42:43</td>\n",
       "      <td>2019-05-03 15:58:12</td>\n",
       "      <td>NaN</td>\n",
       "      <td>NaN</td>\n",
       "      <td>NaN</td>\n",
       "      <td>NaN</td>\n",
       "      <td>NaN</td>\n",
       "      <td>NaN</td>\n",
       "      <td>NaN</td>\n",
       "    </tr>\n",
       "    <tr>\n",
       "      <th>9</th>\n",
       "      <td>10</td>\n",
       "      <td>2019-05-03 16:20:25</td>\n",
       "      <td>2019-05-03 16:21:02</td>\n",
       "      <td>NaN</td>\n",
       "      <td>NaN</td>\n",
       "      <td>NaN</td>\n",
       "      <td>NaN</td>\n",
       "      <td>NaN</td>\n",
       "      <td>NaN</td>\n",
       "      <td>NaN</td>\n",
       "    </tr>\n",
       "    <tr>\n",
       "      <th>10</th>\n",
       "      <td>11</td>\n",
       "      <td>2019-05-03 17:15:01</td>\n",
       "      <td>NaN</td>\n",
       "      <td>NaN</td>\n",
       "      <td>NaN</td>\n",
       "      <td>NaN</td>\n",
       "      <td>NaN</td>\n",
       "      <td>NaN</td>\n",
       "      <td>NaN</td>\n",
       "      <td>NaN</td>\n",
       "    </tr>\n",
       "    <tr>\n",
       "      <th>11</th>\n",
       "      <td>12</td>\n",
       "      <td>2019-05-03 17:51:14</td>\n",
       "      <td>NaN</td>\n",
       "      <td>NaN</td>\n",
       "      <td>NaN</td>\n",
       "      <td>NaN</td>\n",
       "      <td>NaN</td>\n",
       "      <td>NaN</td>\n",
       "      <td>NaN</td>\n",
       "      <td>NaN</td>\n",
       "    </tr>\n",
       "    <tr>\n",
       "      <th>12</th>\n",
       "      <td>13</td>\n",
       "      <td>2019-05-03 18:52:04</td>\n",
       "      <td>2019-05-03 18:52:34</td>\n",
       "      <td>NaN</td>\n",
       "      <td>NaN</td>\n",
       "      <td>NaN</td>\n",
       "      <td>NaN</td>\n",
       "      <td>NaN</td>\n",
       "      <td>NaN</td>\n",
       "      <td>NaN</td>\n",
       "    </tr>\n",
       "    <tr>\n",
       "      <th>13</th>\n",
       "      <td>14</td>\n",
       "      <td>2019-05-03 20:12:21</td>\n",
       "      <td>2019-05-03 20:13:16</td>\n",
       "      <td>NaN</td>\n",
       "      <td>NaN</td>\n",
       "      <td>NaN</td>\n",
       "      <td>NaN</td>\n",
       "      <td>NaN</td>\n",
       "      <td>NaN</td>\n",
       "      <td>NaN</td>\n",
       "    </tr>\n",
       "    <tr>\n",
       "      <th>14</th>\n",
       "      <td>15</td>\n",
       "      <td>2019-05-03 21:07:40</td>\n",
       "      <td>2019-05-03 21:15:12</td>\n",
       "      <td>NaN</td>\n",
       "      <td>NaN</td>\n",
       "      <td>NaN</td>\n",
       "      <td>NaN</td>\n",
       "      <td>NaN</td>\n",
       "      <td>NaN</td>\n",
       "      <td>NaN</td>\n",
       "    </tr>\n",
       "  </tbody>\n",
       "</table>\n",
       "</div>"
      ],
      "text/plain": [
       "    key               Wire 1               Wire 2 Wire 3 Wire 4 Wire 5 Wire 6  \\\n",
       "0     1  2019-05-03 11:11:41                  NaN    NaN    NaN    NaN    NaN   \n",
       "1     2  2019-05-03 11:46:10                  NaN    NaN    NaN    NaN    NaN   \n",
       "2     3  2019-05-03 12:13:47                  NaN    NaN    NaN    NaN    NaN   \n",
       "3     4  2019-05-03 12:48:05                  NaN    NaN    NaN    NaN    NaN   \n",
       "4     5  2019-05-03 13:18:15  2019-05-03 13:32:06    NaN    NaN    NaN    NaN   \n",
       "5     6  2019-05-03 13:59:02  2019-05-03 13:59:54    NaN    NaN    NaN    NaN   \n",
       "6     7  2019-05-03 14:28:46                  NaN    NaN    NaN    NaN    NaN   \n",
       "7     8  2019-05-03 15:03:42                  NaN    NaN    NaN    NaN    NaN   \n",
       "8     9  2019-05-03 15:42:43  2019-05-03 15:58:12    NaN    NaN    NaN    NaN   \n",
       "9    10  2019-05-03 16:20:25  2019-05-03 16:21:02    NaN    NaN    NaN    NaN   \n",
       "10   11  2019-05-03 17:15:01                  NaN    NaN    NaN    NaN    NaN   \n",
       "11   12  2019-05-03 17:51:14                  NaN    NaN    NaN    NaN    NaN   \n",
       "12   13  2019-05-03 18:52:04  2019-05-03 18:52:34    NaN    NaN    NaN    NaN   \n",
       "13   14  2019-05-03 20:12:21  2019-05-03 20:13:16    NaN    NaN    NaN    NaN   \n",
       "14   15  2019-05-03 21:07:40  2019-05-03 21:15:12    NaN    NaN    NaN    NaN   \n",
       "\n",
       "   Wire 7 Wire 8 Wire 9  \n",
       "0     NaN    NaN    NaN  \n",
       "1     NaN    NaN    NaN  \n",
       "2     NaN    NaN    NaN  \n",
       "3     NaN    NaN    NaN  \n",
       "4     NaN    NaN    NaN  \n",
       "5     NaN    NaN    NaN  \n",
       "6     NaN    NaN    NaN  \n",
       "7     NaN    NaN    NaN  \n",
       "8     NaN    NaN    NaN  \n",
       "9     NaN    NaN    NaN  \n",
       "10    NaN    NaN    NaN  \n",
       "11    NaN    NaN    NaN  \n",
       "12    NaN    NaN    NaN  \n",
       "13    NaN    NaN    NaN  \n",
       "14    NaN    NaN    NaN  "
      ]
     },
     "metadata": {},
     "output_type": "display_data"
    },
    {
     "name": "stdout",
     "output_type": "stream",
     "text": [
      "<class 'pandas.core.frame.DataFrame'>\n",
      "RangeIndex: 3081 entries, 0 to 3080\n",
      "Data columns (total 10 columns):\n",
      " #   Column  Non-Null Count  Dtype \n",
      "---  ------  --------------  ----- \n",
      " 0   key     3081 non-null   int64 \n",
      " 1   Wire 1  3055 non-null   object\n",
      " 2   Wire 2  1079 non-null   object\n",
      " 3   Wire 3  63 non-null     object\n",
      " 4   Wire 4  14 non-null     object\n",
      " 5   Wire 5  1 non-null      object\n",
      " 6   Wire 6  73 non-null     object\n",
      " 7   Wire 7  11 non-null     object\n",
      " 8   Wire 8  19 non-null     object\n",
      " 9   Wire 9  29 non-null     object\n",
      "dtypes: int64(1), object(9)\n",
      "memory usage: 240.8+ KB\n"
     ]
    },
    {
     "data": {
      "text/plain": [
       "None"
      ]
     },
     "metadata": {},
     "output_type": "display_data"
    },
    {
     "data": {
      "text/html": [
       "<div>\n",
       "<style scoped>\n",
       "    .dataframe tbody tr th:only-of-type {\n",
       "        vertical-align: middle;\n",
       "    }\n",
       "\n",
       "    .dataframe tbody tr th {\n",
       "        vertical-align: top;\n",
       "    }\n",
       "\n",
       "    .dataframe thead th {\n",
       "        text-align: right;\n",
       "    }\n",
       "</style>\n",
       "<table border=\"1\" class=\"dataframe\">\n",
       "  <thead>\n",
       "    <tr style=\"text-align: right;\">\n",
       "      <th></th>\n",
       "      <th>key</th>\n",
       "    </tr>\n",
       "  </thead>\n",
       "  <tbody>\n",
       "    <tr>\n",
       "      <th>count</th>\n",
       "      <td>3081.000000</td>\n",
       "    </tr>\n",
       "    <tr>\n",
       "      <th>mean</th>\n",
       "      <td>1623.426485</td>\n",
       "    </tr>\n",
       "    <tr>\n",
       "      <th>std</th>\n",
       "      <td>932.996726</td>\n",
       "    </tr>\n",
       "    <tr>\n",
       "      <th>min</th>\n",
       "      <td>1.000000</td>\n",
       "    </tr>\n",
       "    <tr>\n",
       "      <th>25%</th>\n",
       "      <td>823.000000</td>\n",
       "    </tr>\n",
       "    <tr>\n",
       "      <th>50%</th>\n",
       "      <td>1619.000000</td>\n",
       "    </tr>\n",
       "    <tr>\n",
       "      <th>75%</th>\n",
       "      <td>2434.000000</td>\n",
       "    </tr>\n",
       "    <tr>\n",
       "      <th>max</th>\n",
       "      <td>3241.000000</td>\n",
       "    </tr>\n",
       "  </tbody>\n",
       "</table>\n",
       "</div>"
      ],
      "text/plain": [
       "               key\n",
       "count  3081.000000\n",
       "mean   1623.426485\n",
       "std     932.996726\n",
       "min       1.000000\n",
       "25%     823.000000\n",
       "50%    1619.000000\n",
       "75%    2434.000000\n",
       "max    3241.000000"
      ]
     },
     "metadata": {},
     "output_type": "display_data"
    }
   ],
   "source": [
    "show_info(data_wire_time)"
   ]
  },
  {
   "cell_type": "markdown",
   "metadata": {},
   "source": [
    "##### Вывод: Время подачи проволочных материалов в датафреме представлено в виде строки, необходим перевод в тип date."
   ]
  },
  {
   "cell_type": "markdown",
   "metadata": {},
   "source": [
    "### Вывод: В результате первично осмотра данных были обнаружены пропуски в данных о подаче сыпучих и проволочных материалов, а также в результатах измерения температуры. Кроме того наблюдаются аномолии замера температуры меньше 1500 градусов, при такой температуре сталь твердеет и процесс не возможен. Кроме того с помощью диаграмм рассеивания для данных о подаче сыпучих и проволочных материалов были обнаружены аномальные значения, которые необходимо исключить."
   ]
  },
  {
   "cell_type": "markdown",
   "metadata": {},
   "source": [
    "## Анализ данных"
   ]
  },
  {
   "cell_type": "markdown",
   "metadata": {},
   "source": [
    "#### Откоректируем название столбцов в соответствии с требовании PEP8"
   ]
  },
  {
   "cell_type": "code",
   "execution_count": 17,
   "metadata": {},
   "outputs": [],
   "source": [
    "data_arc.columns = ['key', 'start_of_the_heating','end_of_the_heating','active_power','reactive_power']\n",
    "data_temp.columns = ['key', 'time_of_measurement','temperature']\n",
    "data_gas.columns = ['key', 'gaz_1']\n",
    "wire_list=[f'wire_{x}' for x in range(1,10)]\n",
    "wire_list.insert(0,'key')\n",
    "data_wire_time.columns = wire_list\n",
    "data_wire.columns = wire_list\n",
    "bulk_list=[f'bulk_{x}' for x in range(1,16)]\n",
    "bulk_list.insert(0,'key')\n",
    "data_bulk_time.columns = bulk_list\n",
    "data_bulk.columns = bulk_list"
   ]
  },
  {
   "cell_type": "markdown",
   "metadata": {},
   "source": [
    "#### Преобразуем текстовые данные с временем в тип datetime"
   ]
  },
  {
   "cell_type": "code",
   "execution_count": 18,
   "metadata": {},
   "outputs": [],
   "source": [
    "data_temp[\"time_of_measurement\"] = pd.to_datetime(data_temp[\"time_of_measurement\"])\n",
    "data_arc[\"end_of_the_heating\"] = pd.to_datetime(data_arc[\"end_of_the_heating\"])\n",
    "data_arc[\"start_of_the_heating\"] = pd.to_datetime(data_arc[\"start_of_the_heating\"])\n",
    "wire_list=[f'wire_{x}' for x in range(1,10)]\n",
    "data_wire_time[wire_list] = data_wire_time[wire_list].apply(pd.to_datetime, errors='coerce')\n",
    "bulk_list=[f'bulk_{x}' for x in range(1,16)]\n",
    "data_bulk_time[bulk_list] = data_bulk_time[bulk_list].apply(pd.to_datetime, errors='coerce')\n"
   ]
  },
  {
   "cell_type": "markdown",
   "metadata": {},
   "source": [
    "#### Удалим случаи когда была замерена температура ниже 1500 градусов"
   ]
  },
  {
   "cell_type": "code",
   "execution_count": 19,
   "metadata": {
    "scrolled": true
   },
   "outputs": [
    {
     "name": "stdout",
     "output_type": "stream",
     "text": [
      "Количество удаленных ключей  7\n"
     ]
    }
   ],
   "source": [
    "print(\"Количество удаленных ключей \",data_temp[data_temp['temperature']<1500]['key'].count())\n",
    "list_to_delite=list(data_temp[data_temp['temperature']<1500]['key'])\n",
    "data_temp=data_temp[~data_temp['key'].isin(list_to_delite)]\n"
   ]
  },
  {
   "cell_type": "markdown",
   "metadata": {},
   "source": [
    "#### Удалим случаи когда было всего одно измерение"
   ]
  },
  {
   "cell_type": "code",
   "execution_count": 20,
   "metadata": {},
   "outputs": [
    {
     "name": "stdout",
     "output_type": "stream",
     "text": [
      "Количество удаленных строк  2\n"
     ]
    }
   ],
   "source": [
    "data_temp['key_counts'] = data_temp.groupby(['key'])['key'].transform('count')\n",
    "print(\"Количество удаленных строк \",data_temp[data_temp['key_counts']<2]['key'].count())\n",
    "data_temp=data_temp[data_temp['key_counts']>1]\n",
    "data_temp=data_temp.drop(['key_counts'], axis=1)"
   ]
  },
  {
   "cell_type": "markdown",
   "metadata": {},
   "source": [
    "#### Откоректируем отрицательную реактивную мощность по активной мощности, из медианного соотношения мощностей."
   ]
  },
  {
   "cell_type": "code",
   "execution_count": 21,
   "metadata": {},
   "outputs": [],
   "source": [
    "idx=data_arc[data_arc['reactive_power']<0].index\n",
    "median_rate=(data_arc['reactive_power']/data_arc['active_power']).median()\n",
    "data_arc.loc[idx, \"reactive_power\"]=data_arc[data_arc['reactive_power']<0]['active_power']*median_rate"
   ]
  },
  {
   "cell_type": "markdown",
   "metadata": {},
   "source": [
    "#### Определим финальную температуру- final_temperature"
   ]
  },
  {
   "cell_type": "code",
   "execution_count": 22,
   "metadata": {},
   "outputs": [
    {
     "name": "stdout",
     "output_type": "stream",
     "text": [
      "    time_of_measurement  final_temperature\n",
      "key                                       \n",
      "1   2019-05-03 11:30:39             1613.0\n",
      "2   2019-05-03 11:59:12             1602.0\n",
      "3   2019-05-03 12:34:57             1599.0\n",
      "4   2019-05-03 12:59:25             1625.0\n",
      "5   2019-05-03 13:36:01             1602.0\n"
     ]
    }
   ],
   "source": [
    "for i in data_temp['key'].unique():\n",
    "    idx=data_temp[data_temp['time_of_measurement']==data_temp[data_temp['key']==i]['time_of_measurement'].max()].index\n",
    "    data_temp.loc[ idx,'final_temperature']=data_temp['temperature'][idx]\n",
    "data_temp_final=data_temp.dropna(subset=['final_temperature'])\n",
    "data_temp_final=data_temp_final.drop(['temperature'], axis=1)\n",
    "data_temp=data_temp.drop(['final_temperature'], axis=1)\n",
    "data_temp_final = data_temp_final.set_index('key')\n",
    "print(data_temp_final.head())"
   ]
  },
  {
   "cell_type": "markdown",
   "metadata": {},
   "source": [
    "#### Определим начальную температуру"
   ]
  },
  {
   "cell_type": "code",
   "execution_count": 23,
   "metadata": {
    "scrolled": true
   },
   "outputs": [
    {
     "name": "stdout",
     "output_type": "stream",
     "text": [
      "    time_of_measurement  first_temperature\n",
      "key                                       \n",
      "1   2019-05-03 11:16:18             1571.0\n",
      "2   2019-05-03 11:37:27             1581.0\n",
      "3   2019-05-03 12:13:17             1596.0\n",
      "4   2019-05-03 12:52:57             1601.0\n",
      "5   2019-05-03 13:23:19             1576.0\n"
     ]
    }
   ],
   "source": [
    "for i in data_temp['key'].unique():\n",
    "    idx=data_temp[data_temp['time_of_measurement']==data_temp[data_temp['key']==i]['time_of_measurement'].min()].index\n",
    "    data_temp.loc[ idx,'first_temperature']=data_temp['temperature'][idx]\n",
    "data_temp_first=data_temp.dropna(subset=['first_temperature'])\n",
    "data_temp_first=data_temp_first.drop(['temperature'], axis=1)\n",
    "data_temp=data_temp.drop(['first_temperature'], axis=1)\n",
    "data_temp_first = data_temp_first.set_index('key')\n",
    "print(data_temp_first.head())"
   ]
  },
  {
   "cell_type": "markdown",
   "metadata": {},
   "source": [
    "#### Удалим строки с указанием мощности работы электродов которые были сделаны после последнего замера температуры."
   ]
  },
  {
   "cell_type": "code",
   "execution_count": 24,
   "metadata": {},
   "outputs": [
    {
     "name": "stdout",
     "output_type": "stream",
     "text": [
      "Проходка: 1 Строк удалено: 169\n",
      "Проходка: 2 Строк удалено: 3\n",
      "Проходка: 3 Строк удалено: 0\n"
     ]
    }
   ],
   "source": [
    "delite_count=1\n",
    "count=1\n",
    "while count > 0:\n",
    "    count=0\n",
    "    for i in data_temp['key'].unique():\n",
    "        if (data_temp[data_temp['key']==i]['time_of_measurement'].max())<(data_arc[data_arc['key']==i]['end_of_the_heating'].max()):\n",
    "            data_arc = data_arc[data_arc['end_of_the_heating'] != data_arc[data_arc['key']==i]['end_of_the_heating'].max()]\n",
    "            count=count+1\n",
    "    \n",
    "    print('Проходка:',delite_count,'Строк удалено:',count)\n",
    "    delite_count=delite_count+1"
   ]
  },
  {
   "cell_type": "markdown",
   "metadata": {},
   "source": [
    "#### Удалим строки с указанием мощности работы электродов которые были сделаны перед первым замером температуры."
   ]
  },
  {
   "cell_type": "code",
   "execution_count": 25,
   "metadata": {},
   "outputs": [
    {
     "name": "stdout",
     "output_type": "stream",
     "text": [
      "Проходка: 1 Строк удалено: 3157\n",
      "Проходка: 2 Строк удалено: 251\n",
      "Проходка: 3 Строк удалено: 32\n",
      "Проходка: 4 Строк удалено: 4\n",
      "Проходка: 5 Строк удалено: 1\n",
      "Проходка: 6 Строк удалено: 0\n"
     ]
    }
   ],
   "source": [
    "delite_count=1\n",
    "count=1\n",
    "while count > 0:\n",
    "    count=0\n",
    "    for i in data_temp['key'].unique():\n",
    "        if (data_temp[data_temp['key']==i]['time_of_measurement'].min())>(data_arc[data_arc['key']==i]['start_of_the_heating'].min()):\n",
    "            data_arc = data_arc[data_arc['start_of_the_heating'] != data_arc[data_arc['key']==i]['start_of_the_heating'].min()]\n",
    "            count=count+1\n",
    "    print('Проходка:',delite_count,'Строк удалено:',count)\n",
    "    delite_count=delite_count+1\n"
   ]
  },
  {
   "cell_type": "markdown",
   "metadata": {},
   "source": [
    "#### Удалим строки с указанием расхода проволочных материалов, которые были сделаны не между замерами температуры."
   ]
  },
  {
   "cell_type": "code",
   "execution_count": 26,
   "metadata": {},
   "outputs": [],
   "source": [
    "data_wire_time = data_wire_time.set_index('key')\n",
    "data_wire = data_wire.set_index('key')\n"
   ]
  },
  {
   "cell_type": "code",
   "execution_count": 27,
   "metadata": {},
   "outputs": [
    {
     "name": "stdout",
     "output_type": "stream",
     "text": [
      "Строк удалено: 285\n"
     ]
    }
   ],
   "source": [
    "count=0\n",
    "for i in data_temp['key'].unique():\n",
    "    try:\n",
    "        if data_wire_time['wire_1'].loc[i]<data_temp_first['time_of_measurement'].loc[i]:\n",
    "            data_wire['wire_1'].loc[i]=0\n",
    "            count=count+1\n",
    "    except:\n",
    "        pass\n",
    "    try:\n",
    "        if data_wire_time['wire_2'].loc[i]<data_temp_first['time_of_measurement'].loc[i]:\n",
    "            data_wire['wire_2'].loc[i]=0\n",
    "            count=count+1\n",
    "    except:\n",
    "        pass\n",
    "    try:\n",
    "        if data_wire_time['wire_3'].loc[i]<data_temp_first['time_of_measurement'].loc[i]:\n",
    "            data_wire['wire_3'].loc[i]=0\n",
    "            count=count+1\n",
    "    except:\n",
    "        pass\n",
    "    try:\n",
    "        if data_wire_time['wire_4'].loc[i]<data_temp_first['time_of_measurement'].loc[i]:\n",
    "            data_wire['wire_4'].loc[i]=0\n",
    "            count=count+1\n",
    "    except:\n",
    "        pass\n",
    "    try:\n",
    "        if data_wire_time['wire_5'].loc[i]<data_temp_first['time_of_measurement'].loc[i]:\n",
    "            data_wire['wire_5'].loc[i]=0\n",
    "            count=count+1\n",
    "    except:\n",
    "        pass\n",
    "    try:\n",
    "        if data_wire_time['wire_6'].loc[i]<data_temp_first['time_of_measurement'].loc[i]:\n",
    "            data_wire['wire_6'].loc[i]=0\n",
    "            count=count+1\n",
    "    except:\n",
    "        pass\n",
    "    try:\n",
    "        if data_wire_time['wire_7'].loc[i]<data_temp_first['time_of_measurement'].loc[i]:\n",
    "            data_wire['wire_7'].loc[i]=0\n",
    "            count=count+1\n",
    "    except:\n",
    "        pass\n",
    "    try:\n",
    "        if data_wire_time['wire_8'].loc[i]<data_temp_first['time_of_measurement'].loc[i]:\n",
    "            data_wire['wire_8'].loc[i]=0\n",
    "            count=count+1\n",
    "    except:\n",
    "        pass\n",
    "    try:\n",
    "        if data_wire_time['wire_9'].loc[i]<data_temp_first['time_of_measurement'].loc[i]:\n",
    "            data_wire['wire_9'].loc[i]=0\n",
    "            count=count+1\n",
    "    except:\n",
    "        pass\n",
    "print('Строк удалено:',count)   "
   ]
  },
  {
   "cell_type": "code",
   "execution_count": 28,
   "metadata": {},
   "outputs": [
    {
     "name": "stdout",
     "output_type": "stream",
     "text": [
      "Строк удалено: 3\n"
     ]
    }
   ],
   "source": [
    "count=0\n",
    "for i in data_temp['key'].unique():\n",
    "    try:\n",
    "        if data_wire_time['wire_1'].loc[i]>data_temp_final['time_of_measurement'].loc[i]:\n",
    "            data_wire['wire_1'].loc[i]=0\n",
    "            count=count+1\n",
    "    except:\n",
    "        pass\n",
    "    try:\n",
    "        if data_wire_time['wire_2'].loc[i]>data_temp_final['time_of_measurement'].loc[i]:\n",
    "            data_wire['wire_2'].loc[i]=0\n",
    "            count=count+1\n",
    "    except:\n",
    "        pass\n",
    "    try:\n",
    "        if data_wire_time['wire_3'].loc[i]>data_temp_final['time_of_measurement'].loc[i]:\n",
    "            data_wire['wire_3'].loc[i]=0\n",
    "            count=count+1\n",
    "    except:\n",
    "        pass\n",
    "    try:\n",
    "        if data_wire_time['wire_4'].loc[i]>data_temp_final['time_of_measurement'].loc[i]:\n",
    "            data_wire['wire_4'].loc[i]=0\n",
    "            count=count+1\n",
    "    except:\n",
    "        pass\n",
    "    try:\n",
    "        if data_wire_time['wire_5'].loc[i]>data_temp_final['time_of_measurement'].loc[i]:\n",
    "            data_wire['wire_5'].loc[i]=0\n",
    "            count=count+1\n",
    "    except:\n",
    "        pass\n",
    "    try:\n",
    "        if data_wire_time['wire_6'].loc[i]>data_temp_final['time_of_measurement'].loc[i]:\n",
    "            data_wire['wire_6'].loc[i]=0\n",
    "            count=count+1\n",
    "    except:\n",
    "        pass\n",
    "    try:\n",
    "        if data_wire_time['wire_7'].loc[i]>data_temp_final['time_of_measurement'].loc[i]:\n",
    "            data_wire['wire_7'].loc[i]=0\n",
    "            count=count+1\n",
    "    except:\n",
    "        pass\n",
    "    try:\n",
    "        if data_wire_time['wire_8'].loc[i]>data_temp_final['time_of_measurement'].loc[i]:\n",
    "            data_wire['wire_8'].loc[i]=0\n",
    "            count=count+1\n",
    "    except:\n",
    "        pass\n",
    "    try:\n",
    "        if data_wire_time['wire_9'].loc[i]>data_temp_final['time_of_measurement'].loc[i]:\n",
    "            data_wire['wire_9'].loc[i]=0\n",
    "            count=count+1\n",
    "    except:\n",
    "        pass\n",
    "print('Строк удалено:',count)\n",
    "\n",
    "\n",
    "    "
   ]
  },
  {
   "cell_type": "markdown",
   "metadata": {},
   "source": [
    "#### Удалим строки с указанием расхода сыпучих материалов, которые были сделаны не между замерами температуры."
   ]
  },
  {
   "cell_type": "code",
   "execution_count": 29,
   "metadata": {},
   "outputs": [],
   "source": [
    "data_bulk_time = data_bulk_time.set_index('key')\n",
    "data_bulk = data_bulk.set_index('key')"
   ]
  },
  {
   "cell_type": "code",
   "execution_count": 30,
   "metadata": {},
   "outputs": [
    {
     "name": "stdout",
     "output_type": "stream",
     "text": [
      "Строк удалено: 1497\n"
     ]
    }
   ],
   "source": [
    "count=0\n",
    "for i in data_temp['key'].unique():\n",
    "\n",
    "    try:\n",
    "        if data_bulk_time['bulk_1'].loc[i]<data_temp_first['time_of_measurement'].loc[i]:\n",
    "            data_bulk['bulk_1'].loc[i]=0\n",
    "            count=count+1\n",
    "    except:\n",
    "        pass\n",
    "    try:\n",
    "        if data_bulk_time['bulk_2'].loc[i]<data_temp_first['time_of_measurement'].loc[i]:\n",
    "            data_bulk['bulk_2'].loc[i]=0\n",
    "            count=count+1\n",
    "    except:\n",
    "        pass\n",
    "    try:\n",
    "        if data_bulk_time['bulk_3'].loc[i]<data_temp_first['time_of_measurement'].loc[i]:\n",
    "            data_bulk['bulk_3'].loc[i]=0\n",
    "            count=count+1\n",
    "    except:\n",
    "        pass\n",
    "    try:\n",
    "        if data_bulk_time['bulk_4'].loc[i]<data_temp_first['time_of_measurement'].loc[i]:\n",
    "            data_bulk['bulk_4'].loc[i]=0\n",
    "            count=count+1\n",
    "    except:\n",
    "        pass\n",
    "    try:\n",
    "        if data_bulk_time['bulk_5'].loc[i]<data_temp_first['time_of_measurement'].loc[i]:\n",
    "            data_bulk['bulk_5'].loc[i]=0\n",
    "            count=count+1\n",
    "    except:\n",
    "        pass\n",
    "    try:\n",
    "        if data_bulk_time['bulk_6'].loc[i]<data_temp_first['time_of_measurement'].loc[i]:\n",
    "            data_bulk['bulk_6'].loc[i]=0\n",
    "            count=count+1\n",
    "    except:\n",
    "        pass\n",
    "    try:\n",
    "        if data_bulk_time['bulk_7'].loc[i]<data_temp_first['time_of_measurement'].loc[i]:\n",
    "            data_bulk['bulk_7'].loc[i]=0\n",
    "            count=count+1\n",
    "    except:\n",
    "        pass\n",
    "    try:\n",
    "        if data_bulk_time['bulk_8'].loc[i]<data_temp_first['time_of_measurement'].loc[i]:\n",
    "            data_bulk['bulk_8'].loc[i]=0\n",
    "            count=count+1\n",
    "    except:\n",
    "        pass\n",
    "    try:\n",
    "        if data_bulk_time['bulk_9'].loc[i]<data_temp_first['time_of_measurement'].loc[i]:\n",
    "            data_bulk['bulk_9'].loc[i]=0\n",
    "            count=count+1\n",
    "    except:\n",
    "        pass\n",
    "    try:\n",
    "        if data_bulk_time['bulk_10'].loc[i]<data_temp_first['time_of_measurement'].loc[i]:\n",
    "            data_bulk['bulk_10'].loc[i]=0\n",
    "            count=count+1\n",
    "    except:\n",
    "        pass\n",
    "    try:\n",
    "        if data_bulk_time['bulk_11'].loc[i]<data_temp_first['time_of_measurement'].loc[i]:\n",
    "            data_bulk['bulk_11'].loc[i]=0\n",
    "            count=count+1\n",
    "    except:\n",
    "        pass\n",
    "    try:\n",
    "        if data_bulk_time['bulk_12'].loc[i]<data_temp_first['time_of_measurement'].loc[i]:\n",
    "            data_bulk['bulk_12'].loc[i]=0\n",
    "            count=count+1\n",
    "    except:\n",
    "        pass\n",
    "    try:\n",
    "        if data_bulk_time['bulk_13'].loc[i]<data_temp_first['time_of_measurement'].loc[i]:\n",
    "            data_bulk['bulk_13'].loc[i]=0\n",
    "            count=count+1\n",
    "    except:\n",
    "        pass\n",
    "    try:\n",
    "        if (data_bulk_time['bulk_14'].loc[i])<(data_temp_first['time_of_measurement'].loc[i]):\n",
    "            data_bulk['bulk_14'].loc[i]=0\n",
    "            count=count+1\n",
    "    except:\n",
    "        pass\n",
    "    try:\n",
    "        if data_bulk_time['bulk_15'].loc[i]<data_temp_first['time_of_measurement'].loc[i]:\n",
    "            data_bulk['bulk_15'].loc[i]=0\n",
    "            count=count+1\n",
    "    except:\n",
    "        pass\n",
    "print('Строк удалено:',count)\n",
    "\n",
    "\n",
    "    "
   ]
  },
  {
   "cell_type": "code",
   "execution_count": 31,
   "metadata": {},
   "outputs": [
    {
     "name": "stdout",
     "output_type": "stream",
     "text": [
      "Строк удалено: 9\n"
     ]
    }
   ],
   "source": [
    "count=0\n",
    "for i in data_temp['key'].unique():\n",
    "    try:\n",
    "        if data_bulk_time['bulk_1'].loc[i]>data_temp_final['time_of_measurement'].loc[i]:\n",
    "            data_bulk['bulk_1'].loc[i]=0\n",
    "            count=count+1\n",
    "    except:\n",
    "        pass\n",
    "    try:\n",
    "        if data_bulk_time['bulk_2'].loc[i]>data_temp_final['time_of_measurement'].loc[i]:\n",
    "            data_bulk['bulk_2'].loc[i]=0\n",
    "            count=count+1\n",
    "    except:\n",
    "        pass\n",
    "    try:\n",
    "        if data_bulk_time['bulk_3'].loc[i]>data_temp_final['time_of_measurement'].loc[i]:\n",
    "            data_bulk['bulk_3'].loc[i]=0\n",
    "            count=count+1\n",
    "    except:\n",
    "        pass\n",
    "    try:\n",
    "        if data_bulk_time['bulk_4'].loc[i]>data_temp_final['time_of_measurement'].loc[i]:\n",
    "            data_bulk['bulk_4'].loc[i]=0\n",
    "            count=count+1\n",
    "    except:\n",
    "        pass\n",
    "    try:\n",
    "        if data_bulk_time['bulk_5'].loc[i]>data_temp_final['time_of_measurement'].loc[i]:\n",
    "            data_bulk['bulk_5'].loc[i]=0\n",
    "            count=count+1\n",
    "    except:\n",
    "        pass\n",
    "    try:\n",
    "        if data_bulk_time['bulk_6'].loc[i]>data_temp_final['time_of_measurement'].loc[i]:\n",
    "            data_bulk['bulk_6'].loc[i]=0\n",
    "            count=count+1\n",
    "    except:\n",
    "        pass\n",
    "    try:\n",
    "        if data_bulk_time['bulk_7'].loc[i]>data_temp_final['time_of_measurement'].loc[i]:\n",
    "            data_bulk['bulk_7'].loc[i]=0\n",
    "            count=count+1\n",
    "    except:\n",
    "        pass\n",
    "    try:\n",
    "        if data_bulk_time['bulk_8'].loc[i]>data_temp_final['time_of_measurement'].loc[i]:\n",
    "            data_bulk['bulk_8'].loc[i]=0\n",
    "            count=count+1\n",
    "    except:\n",
    "        pass\n",
    "    try:\n",
    "        if data_bulk_time['bulk_9'].loc[i]>data_temp_final['time_of_measurement'].loc[i]:\n",
    "            data_bulk['bulk_9'].loc[i]=0\n",
    "            count=count+1\n",
    "    except:\n",
    "        pass\n",
    "    try:\n",
    "        if data_bulk_time['bulk_10'].loc[i]>data_temp_final['time_of_measurement'].loc[i]:\n",
    "            data_bulk['bulk_10'].loc[i]=0\n",
    "            count=count+1\n",
    "    except:\n",
    "        pass\n",
    "    try:\n",
    "        if data_bulk_time['bulk_11'].loc[i]>data_temp_final['time_of_measurement'].loc[i]:\n",
    "            data_bulk['bulk_11'].loc[i]=0\n",
    "            count=count+1\n",
    "    except:\n",
    "        pass\n",
    "    try:\n",
    "        if data_bulk_time['bulk_12'].loc[i]>data_temp_final['time_of_measurement'].loc[i]:\n",
    "            data_bulk['bulk_12'].loc[i]=0\n",
    "            count=count+1\n",
    "    except:\n",
    "        pass\n",
    "    try:\n",
    "        if data_bulk_time['bulk_13'].loc[i]>data_temp_final['time_of_measurement'].loc[i]:\n",
    "            data_bulk['bulk_13'].loc[i]=0\n",
    "            count=count+1\n",
    "    except:\n",
    "        pass\n",
    "    try:\n",
    "        if data_bulk_time['bulk_14'].loc[i]>data_temp_final['time_of_measurement'].loc[i]:\n",
    "            data_bulk['bulk_14'].loc[i]=0\n",
    "            count=count+1\n",
    "    except:\n",
    "        pass\n",
    "    try:\n",
    "        if data_bulk_time['bulk_15'].loc[i]>data_temp_final['time_of_measurement'].loc[i]:\n",
    "            data_bulk['bulk_15'].loc[i]=0\n",
    "            count=count+1\n",
    "    except:\n",
    "        pass\n",
    "print('Строк удалено:',count)\n"
   ]
  },
  {
   "cell_type": "markdown",
   "metadata": {},
   "source": [
    "#### Создадим новый признак-затраченная энергия на нагрев-full_energy"
   ]
  },
  {
   "cell_type": "code",
   "execution_count": 32,
   "metadata": {},
   "outputs": [
    {
     "data": {
      "text/html": [
       "<div>\n",
       "<style scoped>\n",
       "    .dataframe tbody tr th:only-of-type {\n",
       "        vertical-align: middle;\n",
       "    }\n",
       "\n",
       "    .dataframe tbody tr th {\n",
       "        vertical-align: top;\n",
       "    }\n",
       "\n",
       "    .dataframe thead th {\n",
       "        text-align: right;\n",
       "    }\n",
       "</style>\n",
       "<table border=\"1\" class=\"dataframe\">\n",
       "  <thead>\n",
       "    <tr style=\"text-align: right;\">\n",
       "      <th></th>\n",
       "      <th>full_energy</th>\n",
       "    </tr>\n",
       "    <tr>\n",
       "      <th>key</th>\n",
       "      <th></th>\n",
       "    </tr>\n",
       "  </thead>\n",
       "  <tbody>\n",
       "    <tr>\n",
       "      <th>1</th>\n",
       "      <td>838.692711</td>\n",
       "    </tr>\n",
       "    <tr>\n",
       "      <th>2</th>\n",
       "      <td>809.781395</td>\n",
       "    </tr>\n",
       "    <tr>\n",
       "      <th>3</th>\n",
       "      <td>173.239130</td>\n",
       "    </tr>\n",
       "    <tr>\n",
       "      <th>4</th>\n",
       "      <td>399.037156</td>\n",
       "    </tr>\n",
       "    <tr>\n",
       "      <th>5</th>\n",
       "      <td>824.212175</td>\n",
       "    </tr>\n",
       "  </tbody>\n",
       "</table>\n",
       "</div>"
      ],
      "text/plain": [
       "     full_energy\n",
       "key             \n",
       "1     838.692711\n",
       "2     809.781395\n",
       "3     173.239130\n",
       "4     399.037156\n",
       "5     824.212175"
      ]
     },
     "metadata": {},
     "output_type": "display_data"
    }
   ],
   "source": [
    "data_arc['time_of_the_heating']=(data_arc['end_of_the_heating']-data_arc['start_of_the_heating']).dt.total_seconds()\n",
    "data_arc['full_power']=(data_arc['active_power']**2+data_arc['reactive_power']**2)**(0.5)\n",
    "data_arc['full_energy']=data_arc['full_power']*data_arc['time_of_the_heating']\n",
    "data_arc_final=pd.pivot_table(data_arc,values=['full_energy'],index='key',aggfunc={'full_energy': np.sum})\n",
    "display(data_arc_final.head())"
   ]
  },
  {
   "cell_type": "markdown",
   "metadata": {},
   "source": [
    "#### Создадим новый признак-время между замерами температурами-time_of_the_heating т.к. потеря температуры прямопропорционально времени"
   ]
  },
  {
   "cell_type": "code",
   "execution_count": 33,
   "metadata": {},
   "outputs": [
    {
     "data": {
      "text/html": [
       "<div>\n",
       "<style scoped>\n",
       "    .dataframe tbody tr th:only-of-type {\n",
       "        vertical-align: middle;\n",
       "    }\n",
       "\n",
       "    .dataframe tbody tr th {\n",
       "        vertical-align: top;\n",
       "    }\n",
       "\n",
       "    .dataframe thead th {\n",
       "        text-align: right;\n",
       "    }\n",
       "</style>\n",
       "<table border=\"1\" class=\"dataframe\">\n",
       "  <thead>\n",
       "    <tr style=\"text-align: right;\">\n",
       "      <th></th>\n",
       "      <th>time_of_measurement</th>\n",
       "      <th>first_temperature</th>\n",
       "      <th>time_of_the_heating</th>\n",
       "    </tr>\n",
       "    <tr>\n",
       "      <th>key</th>\n",
       "      <th></th>\n",
       "      <th></th>\n",
       "      <th></th>\n",
       "    </tr>\n",
       "  </thead>\n",
       "  <tbody>\n",
       "    <tr>\n",
       "      <th>1</th>\n",
       "      <td>2019-05-03 11:16:18</td>\n",
       "      <td>1571.0</td>\n",
       "      <td>861.0</td>\n",
       "    </tr>\n",
       "    <tr>\n",
       "      <th>2</th>\n",
       "      <td>2019-05-03 11:37:27</td>\n",
       "      <td>1581.0</td>\n",
       "      <td>1305.0</td>\n",
       "    </tr>\n",
       "    <tr>\n",
       "      <th>3</th>\n",
       "      <td>2019-05-03 12:13:17</td>\n",
       "      <td>1596.0</td>\n",
       "      <td>1300.0</td>\n",
       "    </tr>\n",
       "    <tr>\n",
       "      <th>4</th>\n",
       "      <td>2019-05-03 12:52:57</td>\n",
       "      <td>1601.0</td>\n",
       "      <td>388.0</td>\n",
       "    </tr>\n",
       "    <tr>\n",
       "      <th>5</th>\n",
       "      <td>2019-05-03 13:23:19</td>\n",
       "      <td>1576.0</td>\n",
       "      <td>762.0</td>\n",
       "    </tr>\n",
       "  </tbody>\n",
       "</table>\n",
       "</div>"
      ],
      "text/plain": [
       "    time_of_measurement  first_temperature  time_of_the_heating\n",
       "key                                                            \n",
       "1   2019-05-03 11:16:18             1571.0                861.0\n",
       "2   2019-05-03 11:37:27             1581.0               1305.0\n",
       "3   2019-05-03 12:13:17             1596.0               1300.0\n",
       "4   2019-05-03 12:52:57             1601.0                388.0\n",
       "5   2019-05-03 13:23:19             1576.0                762.0"
      ]
     },
     "metadata": {},
     "output_type": "display_data"
    }
   ],
   "source": [
    "data_temp_first['time_of_the_heating']=(data_temp_final['time_of_measurement']-data_temp_first['time_of_measurement']).dt.total_seconds()\n",
    "display(data_temp_first.head())"
   ]
  },
  {
   "cell_type": "markdown",
   "metadata": {},
   "source": [
    "#### Обьединим таблица по признаку key"
   ]
  },
  {
   "cell_type": "code",
   "execution_count": 34,
   "metadata": {
    "scrolled": true
   },
   "outputs": [
    {
     "data": {
      "text/html": [
       "<div>\n",
       "<style scoped>\n",
       "    .dataframe tbody tr th:only-of-type {\n",
       "        vertical-align: middle;\n",
       "    }\n",
       "\n",
       "    .dataframe tbody tr th {\n",
       "        vertical-align: top;\n",
       "    }\n",
       "\n",
       "    .dataframe thead th {\n",
       "        text-align: right;\n",
       "    }\n",
       "</style>\n",
       "<table border=\"1\" class=\"dataframe\">\n",
       "  <thead>\n",
       "    <tr style=\"text-align: right;\">\n",
       "      <th></th>\n",
       "      <th>time_of_measurement</th>\n",
       "      <th>final_temperature</th>\n",
       "      <th>time_of_measurement</th>\n",
       "      <th>first_temperature</th>\n",
       "      <th>time_of_the_heating</th>\n",
       "      <th>full_energy</th>\n",
       "      <th>bulk_1</th>\n",
       "      <th>bulk_2</th>\n",
       "      <th>bulk_3</th>\n",
       "      <th>bulk_4</th>\n",
       "      <th>...</th>\n",
       "      <th>gaz_1</th>\n",
       "      <th>wire_1</th>\n",
       "      <th>wire_2</th>\n",
       "      <th>wire_3</th>\n",
       "      <th>wire_4</th>\n",
       "      <th>wire_5</th>\n",
       "      <th>wire_6</th>\n",
       "      <th>wire_7</th>\n",
       "      <th>wire_8</th>\n",
       "      <th>wire_9</th>\n",
       "    </tr>\n",
       "    <tr>\n",
       "      <th>key</th>\n",
       "      <th></th>\n",
       "      <th></th>\n",
       "      <th></th>\n",
       "      <th></th>\n",
       "      <th></th>\n",
       "      <th></th>\n",
       "      <th></th>\n",
       "      <th></th>\n",
       "      <th></th>\n",
       "      <th></th>\n",
       "      <th></th>\n",
       "      <th></th>\n",
       "      <th></th>\n",
       "      <th></th>\n",
       "      <th></th>\n",
       "      <th></th>\n",
       "      <th></th>\n",
       "      <th></th>\n",
       "      <th></th>\n",
       "      <th></th>\n",
       "      <th></th>\n",
       "    </tr>\n",
       "  </thead>\n",
       "  <tbody>\n",
       "    <tr>\n",
       "      <th>1</th>\n",
       "      <td>2019-05-03 11:30:39</td>\n",
       "      <td>1613.0</td>\n",
       "      <td>2019-05-03 11:16:18</td>\n",
       "      <td>1571.0</td>\n",
       "      <td>861.0</td>\n",
       "      <td>838.692711</td>\n",
       "      <td>NaN</td>\n",
       "      <td>NaN</td>\n",
       "      <td>NaN</td>\n",
       "      <td>43.0</td>\n",
       "      <td>...</td>\n",
       "      <td>29.749986</td>\n",
       "      <td>0.000000</td>\n",
       "      <td>NaN</td>\n",
       "      <td>NaN</td>\n",
       "      <td>NaN</td>\n",
       "      <td>NaN</td>\n",
       "      <td>NaN</td>\n",
       "      <td>NaN</td>\n",
       "      <td>NaN</td>\n",
       "      <td>NaN</td>\n",
       "    </tr>\n",
       "    <tr>\n",
       "      <th>2</th>\n",
       "      <td>2019-05-03 11:59:12</td>\n",
       "      <td>1602.0</td>\n",
       "      <td>2019-05-03 11:37:27</td>\n",
       "      <td>1581.0</td>\n",
       "      <td>1305.0</td>\n",
       "      <td>809.781395</td>\n",
       "      <td>NaN</td>\n",
       "      <td>NaN</td>\n",
       "      <td>NaN</td>\n",
       "      <td>73.0</td>\n",
       "      <td>...</td>\n",
       "      <td>12.555561</td>\n",
       "      <td>96.052315</td>\n",
       "      <td>NaN</td>\n",
       "      <td>NaN</td>\n",
       "      <td>NaN</td>\n",
       "      <td>NaN</td>\n",
       "      <td>NaN</td>\n",
       "      <td>NaN</td>\n",
       "      <td>NaN</td>\n",
       "      <td>NaN</td>\n",
       "    </tr>\n",
       "    <tr>\n",
       "      <th>3</th>\n",
       "      <td>2019-05-03 12:34:57</td>\n",
       "      <td>1599.0</td>\n",
       "      <td>2019-05-03 12:13:17</td>\n",
       "      <td>1596.0</td>\n",
       "      <td>1300.0</td>\n",
       "      <td>173.239130</td>\n",
       "      <td>NaN</td>\n",
       "      <td>NaN</td>\n",
       "      <td>NaN</td>\n",
       "      <td>34.0</td>\n",
       "      <td>...</td>\n",
       "      <td>28.554793</td>\n",
       "      <td>91.160157</td>\n",
       "      <td>NaN</td>\n",
       "      <td>NaN</td>\n",
       "      <td>NaN</td>\n",
       "      <td>NaN</td>\n",
       "      <td>NaN</td>\n",
       "      <td>NaN</td>\n",
       "      <td>NaN</td>\n",
       "      <td>NaN</td>\n",
       "    </tr>\n",
       "    <tr>\n",
       "      <th>4</th>\n",
       "      <td>2019-05-03 12:59:25</td>\n",
       "      <td>1625.0</td>\n",
       "      <td>2019-05-03 12:52:57</td>\n",
       "      <td>1601.0</td>\n",
       "      <td>388.0</td>\n",
       "      <td>399.037156</td>\n",
       "      <td>NaN</td>\n",
       "      <td>NaN</td>\n",
       "      <td>NaN</td>\n",
       "      <td>0.0</td>\n",
       "      <td>...</td>\n",
       "      <td>18.841219</td>\n",
       "      <td>0.000000</td>\n",
       "      <td>NaN</td>\n",
       "      <td>NaN</td>\n",
       "      <td>NaN</td>\n",
       "      <td>NaN</td>\n",
       "      <td>NaN</td>\n",
       "      <td>NaN</td>\n",
       "      <td>NaN</td>\n",
       "      <td>NaN</td>\n",
       "    </tr>\n",
       "    <tr>\n",
       "      <th>5</th>\n",
       "      <td>2019-05-03 13:36:01</td>\n",
       "      <td>1602.0</td>\n",
       "      <td>2019-05-03 13:23:19</td>\n",
       "      <td>1576.0</td>\n",
       "      <td>762.0</td>\n",
       "      <td>824.212175</td>\n",
       "      <td>NaN</td>\n",
       "      <td>NaN</td>\n",
       "      <td>NaN</td>\n",
       "      <td>0.0</td>\n",
       "      <td>...</td>\n",
       "      <td>5.413692</td>\n",
       "      <td>0.000000</td>\n",
       "      <td>9.11456</td>\n",
       "      <td>NaN</td>\n",
       "      <td>NaN</td>\n",
       "      <td>NaN</td>\n",
       "      <td>NaN</td>\n",
       "      <td>NaN</td>\n",
       "      <td>NaN</td>\n",
       "      <td>NaN</td>\n",
       "    </tr>\n",
       "  </tbody>\n",
       "</table>\n",
       "<p>5 rows × 31 columns</p>\n",
       "</div>"
      ],
      "text/plain": [
       "    time_of_measurement  final_temperature time_of_measurement  \\\n",
       "key                                                              \n",
       "1   2019-05-03 11:30:39             1613.0 2019-05-03 11:16:18   \n",
       "2   2019-05-03 11:59:12             1602.0 2019-05-03 11:37:27   \n",
       "3   2019-05-03 12:34:57             1599.0 2019-05-03 12:13:17   \n",
       "4   2019-05-03 12:59:25             1625.0 2019-05-03 12:52:57   \n",
       "5   2019-05-03 13:36:01             1602.0 2019-05-03 13:23:19   \n",
       "\n",
       "     first_temperature  time_of_the_heating  full_energy  bulk_1  bulk_2  \\\n",
       "key                                                                        \n",
       "1               1571.0                861.0   838.692711     NaN     NaN   \n",
       "2               1581.0               1305.0   809.781395     NaN     NaN   \n",
       "3               1596.0               1300.0   173.239130     NaN     NaN   \n",
       "4               1601.0                388.0   399.037156     NaN     NaN   \n",
       "5               1576.0                762.0   824.212175     NaN     NaN   \n",
       "\n",
       "     bulk_3  bulk_4  ...      gaz_1     wire_1   wire_2  wire_3  wire_4  \\\n",
       "key                  ...                                                  \n",
       "1       NaN    43.0  ...  29.749986   0.000000      NaN     NaN     NaN   \n",
       "2       NaN    73.0  ...  12.555561  96.052315      NaN     NaN     NaN   \n",
       "3       NaN    34.0  ...  28.554793  91.160157      NaN     NaN     NaN   \n",
       "4       NaN     0.0  ...  18.841219   0.000000      NaN     NaN     NaN   \n",
       "5       NaN     0.0  ...   5.413692   0.000000  9.11456     NaN     NaN   \n",
       "\n",
       "     wire_5  wire_6  wire_7  wire_8  wire_9  \n",
       "key                                          \n",
       "1       NaN     NaN     NaN     NaN     NaN  \n",
       "2       NaN     NaN     NaN     NaN     NaN  \n",
       "3       NaN     NaN     NaN     NaN     NaN  \n",
       "4       NaN     NaN     NaN     NaN     NaN  \n",
       "5       NaN     NaN     NaN     NaN     NaN  \n",
       "\n",
       "[5 rows x 31 columns]"
      ]
     },
     "metadata": {},
     "output_type": "display_data"
    },
    {
     "name": "stdout",
     "output_type": "stream",
     "text": [
      "<class 'pandas.core.frame.DataFrame'>\n",
      "Int64Index: 2299 entries, 1 to 2499\n",
      "Data columns (total 31 columns):\n",
      " #   Column               Non-Null Count  Dtype         \n",
      "---  ------               --------------  -----         \n",
      " 0   time_of_measurement  2299 non-null   datetime64[ns]\n",
      " 1   final_temperature    2299 non-null   float64       \n",
      " 2   time_of_measurement  2299 non-null   datetime64[ns]\n",
      " 3   first_temperature    2299 non-null   float64       \n",
      " 4   time_of_the_heating  2299 non-null   float64       \n",
      " 5   full_energy          2299 non-null   float64       \n",
      " 6   bulk_1               198 non-null    float64       \n",
      " 7   bulk_2               13 non-null     float64       \n",
      " 8   bulk_3               950 non-null    float64       \n",
      " 9   bulk_4               801 non-null    float64       \n",
      " 10  bulk_5               53 non-null     float64       \n",
      " 11  bulk_6               431 non-null    float64       \n",
      " 12  bulk_7               13 non-null     float64       \n",
      " 13  bulk_8               1 non-null      float64       \n",
      " 14  bulk_9               13 non-null     float64       \n",
      " 15  bulk_10              142 non-null    float64       \n",
      " 16  bulk_11              128 non-null    float64       \n",
      " 17  bulk_12              1804 non-null   float64       \n",
      " 18  bulk_13              14 non-null     float64       \n",
      " 19  bulk_14              2059 non-null   float64       \n",
      " 20  bulk_15              1692 non-null   float64       \n",
      " 21  gaz_1                2299 non-null   float64       \n",
      " 22  wire_1               2277 non-null   float64       \n",
      " 23  wire_2               797 non-null    float64       \n",
      " 24  wire_3               39 non-null     float64       \n",
      " 25  wire_4               12 non-null     float64       \n",
      " 26  wire_5               0 non-null      float64       \n",
      " 27  wire_6               45 non-null     float64       \n",
      " 28  wire_7               4 non-null      float64       \n",
      " 29  wire_8               13 non-null     float64       \n",
      " 30  wire_9               23 non-null     float64       \n",
      "dtypes: datetime64[ns](2), float64(29)\n",
      "memory usage: 574.8 KB\n"
     ]
    },
    {
     "data": {
      "text/plain": [
       "None"
      ]
     },
     "metadata": {},
     "output_type": "display_data"
    }
   ],
   "source": [
    "data_gas = data_gas.set_index('key')\n",
    "final_table = pd.concat([data_temp_final,data_temp_first,data_arc_final, data_bulk, data_gas, data_wire], axis=1, sort=False, join=\"inner\")\n",
    "display(final_table.head())\n",
    "display(final_table.info())"
   ]
  },
  {
   "cell_type": "markdown",
   "metadata": {},
   "source": [
    "#### В полученной таблице мы видим, то колонка wire_5 полностью пустая, удалим ее."
   ]
  },
  {
   "cell_type": "code",
   "execution_count": 35,
   "metadata": {},
   "outputs": [],
   "source": [
    "final_table=final_table.drop(['wire_5'], axis=1)"
   ]
  },
  {
   "cell_type": "markdown",
   "metadata": {},
   "source": [
    "#### Удалим строки у которых не указана финальная температура, расход электроэнергии и газа,а также столбцы не имеющие признаков. Данные расхода материалов заполним нолями."
   ]
  },
  {
   "cell_type": "code",
   "execution_count": 36,
   "metadata": {},
   "outputs": [
    {
     "data": {
      "text/html": [
       "<div>\n",
       "<style scoped>\n",
       "    .dataframe tbody tr th:only-of-type {\n",
       "        vertical-align: middle;\n",
       "    }\n",
       "\n",
       "    .dataframe tbody tr th {\n",
       "        vertical-align: top;\n",
       "    }\n",
       "\n",
       "    .dataframe thead th {\n",
       "        text-align: right;\n",
       "    }\n",
       "</style>\n",
       "<table border=\"1\" class=\"dataframe\">\n",
       "  <thead>\n",
       "    <tr style=\"text-align: right;\">\n",
       "      <th></th>\n",
       "      <th>final_temperature</th>\n",
       "      <th>first_temperature</th>\n",
       "      <th>time_of_the_heating</th>\n",
       "      <th>full_energy</th>\n",
       "      <th>bulk_1</th>\n",
       "      <th>bulk_2</th>\n",
       "      <th>bulk_3</th>\n",
       "      <th>bulk_4</th>\n",
       "      <th>bulk_5</th>\n",
       "      <th>bulk_6</th>\n",
       "      <th>...</th>\n",
       "      <th>bulk_15</th>\n",
       "      <th>gaz_1</th>\n",
       "      <th>wire_1</th>\n",
       "      <th>wire_2</th>\n",
       "      <th>wire_3</th>\n",
       "      <th>wire_4</th>\n",
       "      <th>wire_6</th>\n",
       "      <th>wire_7</th>\n",
       "      <th>wire_8</th>\n",
       "      <th>wire_9</th>\n",
       "    </tr>\n",
       "    <tr>\n",
       "      <th>key</th>\n",
       "      <th></th>\n",
       "      <th></th>\n",
       "      <th></th>\n",
       "      <th></th>\n",
       "      <th></th>\n",
       "      <th></th>\n",
       "      <th></th>\n",
       "      <th></th>\n",
       "      <th></th>\n",
       "      <th></th>\n",
       "      <th></th>\n",
       "      <th></th>\n",
       "      <th></th>\n",
       "      <th></th>\n",
       "      <th></th>\n",
       "      <th></th>\n",
       "      <th></th>\n",
       "      <th></th>\n",
       "      <th></th>\n",
       "      <th></th>\n",
       "      <th></th>\n",
       "    </tr>\n",
       "  </thead>\n",
       "  <tbody>\n",
       "    <tr>\n",
       "      <th>1</th>\n",
       "      <td>1613.0</td>\n",
       "      <td>1571.0</td>\n",
       "      <td>861.0</td>\n",
       "      <td>838.692711</td>\n",
       "      <td>0.0</td>\n",
       "      <td>0.0</td>\n",
       "      <td>0.0</td>\n",
       "      <td>43.0</td>\n",
       "      <td>0.0</td>\n",
       "      <td>0.0</td>\n",
       "      <td>...</td>\n",
       "      <td>0.0</td>\n",
       "      <td>29.749986</td>\n",
       "      <td>0.000000</td>\n",
       "      <td>0.00000</td>\n",
       "      <td>0.0</td>\n",
       "      <td>0.0</td>\n",
       "      <td>0.0</td>\n",
       "      <td>0.0</td>\n",
       "      <td>0.0</td>\n",
       "      <td>0.0</td>\n",
       "    </tr>\n",
       "    <tr>\n",
       "      <th>2</th>\n",
       "      <td>1602.0</td>\n",
       "      <td>1581.0</td>\n",
       "      <td>1305.0</td>\n",
       "      <td>809.781395</td>\n",
       "      <td>0.0</td>\n",
       "      <td>0.0</td>\n",
       "      <td>0.0</td>\n",
       "      <td>73.0</td>\n",
       "      <td>0.0</td>\n",
       "      <td>0.0</td>\n",
       "      <td>...</td>\n",
       "      <td>154.0</td>\n",
       "      <td>12.555561</td>\n",
       "      <td>96.052315</td>\n",
       "      <td>0.00000</td>\n",
       "      <td>0.0</td>\n",
       "      <td>0.0</td>\n",
       "      <td>0.0</td>\n",
       "      <td>0.0</td>\n",
       "      <td>0.0</td>\n",
       "      <td>0.0</td>\n",
       "    </tr>\n",
       "    <tr>\n",
       "      <th>3</th>\n",
       "      <td>1599.0</td>\n",
       "      <td>1596.0</td>\n",
       "      <td>1300.0</td>\n",
       "      <td>173.239130</td>\n",
       "      <td>0.0</td>\n",
       "      <td>0.0</td>\n",
       "      <td>0.0</td>\n",
       "      <td>34.0</td>\n",
       "      <td>0.0</td>\n",
       "      <td>0.0</td>\n",
       "      <td>...</td>\n",
       "      <td>0.0</td>\n",
       "      <td>28.554793</td>\n",
       "      <td>91.160157</td>\n",
       "      <td>0.00000</td>\n",
       "      <td>0.0</td>\n",
       "      <td>0.0</td>\n",
       "      <td>0.0</td>\n",
       "      <td>0.0</td>\n",
       "      <td>0.0</td>\n",
       "      <td>0.0</td>\n",
       "    </tr>\n",
       "    <tr>\n",
       "      <th>4</th>\n",
       "      <td>1625.0</td>\n",
       "      <td>1601.0</td>\n",
       "      <td>388.0</td>\n",
       "      <td>399.037156</td>\n",
       "      <td>0.0</td>\n",
       "      <td>0.0</td>\n",
       "      <td>0.0</td>\n",
       "      <td>0.0</td>\n",
       "      <td>0.0</td>\n",
       "      <td>0.0</td>\n",
       "      <td>...</td>\n",
       "      <td>0.0</td>\n",
       "      <td>18.841219</td>\n",
       "      <td>0.000000</td>\n",
       "      <td>0.00000</td>\n",
       "      <td>0.0</td>\n",
       "      <td>0.0</td>\n",
       "      <td>0.0</td>\n",
       "      <td>0.0</td>\n",
       "      <td>0.0</td>\n",
       "      <td>0.0</td>\n",
       "    </tr>\n",
       "    <tr>\n",
       "      <th>5</th>\n",
       "      <td>1602.0</td>\n",
       "      <td>1576.0</td>\n",
       "      <td>762.0</td>\n",
       "      <td>824.212175</td>\n",
       "      <td>0.0</td>\n",
       "      <td>0.0</td>\n",
       "      <td>0.0</td>\n",
       "      <td>0.0</td>\n",
       "      <td>0.0</td>\n",
       "      <td>0.0</td>\n",
       "      <td>...</td>\n",
       "      <td>0.0</td>\n",
       "      <td>5.413692</td>\n",
       "      <td>0.000000</td>\n",
       "      <td>9.11456</td>\n",
       "      <td>0.0</td>\n",
       "      <td>0.0</td>\n",
       "      <td>0.0</td>\n",
       "      <td>0.0</td>\n",
       "      <td>0.0</td>\n",
       "      <td>0.0</td>\n",
       "    </tr>\n",
       "  </tbody>\n",
       "</table>\n",
       "<p>5 rows × 28 columns</p>\n",
       "</div>"
      ],
      "text/plain": [
       "     final_temperature  first_temperature  time_of_the_heating  full_energy  \\\n",
       "key                                                                           \n",
       "1               1613.0             1571.0                861.0   838.692711   \n",
       "2               1602.0             1581.0               1305.0   809.781395   \n",
       "3               1599.0             1596.0               1300.0   173.239130   \n",
       "4               1625.0             1601.0                388.0   399.037156   \n",
       "5               1602.0             1576.0                762.0   824.212175   \n",
       "\n",
       "     bulk_1  bulk_2  bulk_3  bulk_4  bulk_5  bulk_6  ...  bulk_15      gaz_1  \\\n",
       "key                                                  ...                       \n",
       "1       0.0     0.0     0.0    43.0     0.0     0.0  ...      0.0  29.749986   \n",
       "2       0.0     0.0     0.0    73.0     0.0     0.0  ...    154.0  12.555561   \n",
       "3       0.0     0.0     0.0    34.0     0.0     0.0  ...      0.0  28.554793   \n",
       "4       0.0     0.0     0.0     0.0     0.0     0.0  ...      0.0  18.841219   \n",
       "5       0.0     0.0     0.0     0.0     0.0     0.0  ...      0.0   5.413692   \n",
       "\n",
       "        wire_1   wire_2  wire_3  wire_4  wire_6  wire_7  wire_8  wire_9  \n",
       "key                                                                      \n",
       "1     0.000000  0.00000     0.0     0.0     0.0     0.0     0.0     0.0  \n",
       "2    96.052315  0.00000     0.0     0.0     0.0     0.0     0.0     0.0  \n",
       "3    91.160157  0.00000     0.0     0.0     0.0     0.0     0.0     0.0  \n",
       "4     0.000000  0.00000     0.0     0.0     0.0     0.0     0.0     0.0  \n",
       "5     0.000000  9.11456     0.0     0.0     0.0     0.0     0.0     0.0  \n",
       "\n",
       "[5 rows x 28 columns]"
      ]
     },
     "metadata": {},
     "output_type": "display_data"
    },
    {
     "name": "stdout",
     "output_type": "stream",
     "text": [
      "<class 'pandas.core.frame.DataFrame'>\n",
      "Int64Index: 2299 entries, 1 to 2499\n",
      "Data columns (total 28 columns):\n",
      " #   Column               Non-Null Count  Dtype  \n",
      "---  ------               --------------  -----  \n",
      " 0   final_temperature    2299 non-null   float64\n",
      " 1   first_temperature    2299 non-null   float64\n",
      " 2   time_of_the_heating  2299 non-null   float64\n",
      " 3   full_energy          2299 non-null   float64\n",
      " 4   bulk_1               2299 non-null   float64\n",
      " 5   bulk_2               2299 non-null   float64\n",
      " 6   bulk_3               2299 non-null   float64\n",
      " 7   bulk_4               2299 non-null   float64\n",
      " 8   bulk_5               2299 non-null   float64\n",
      " 9   bulk_6               2299 non-null   float64\n",
      " 10  bulk_7               2299 non-null   float64\n",
      " 11  bulk_8               2299 non-null   float64\n",
      " 12  bulk_9               2299 non-null   float64\n",
      " 13  bulk_10              2299 non-null   float64\n",
      " 14  bulk_11              2299 non-null   float64\n",
      " 15  bulk_12              2299 non-null   float64\n",
      " 16  bulk_13              2299 non-null   float64\n",
      " 17  bulk_14              2299 non-null   float64\n",
      " 18  bulk_15              2299 non-null   float64\n",
      " 19  gaz_1                2299 non-null   float64\n",
      " 20  wire_1               2299 non-null   float64\n",
      " 21  wire_2               2299 non-null   float64\n",
      " 22  wire_3               2299 non-null   float64\n",
      " 23  wire_4               2299 non-null   float64\n",
      " 24  wire_6               2299 non-null   float64\n",
      " 25  wire_7               2299 non-null   float64\n",
      " 26  wire_8               2299 non-null   float64\n",
      " 27  wire_9               2299 non-null   float64\n",
      "dtypes: float64(28)\n",
      "memory usage: 520.9 KB\n"
     ]
    }
   ],
   "source": [
    "final_table=final_table.drop(['time_of_measurement'], axis=1)\n",
    "final_table=final_table.dropna (subset=['final_temperature'])\n",
    "final_table=final_table.dropna (subset=['full_energy'])\n",
    "final_table=final_table.dropna (subset=['gaz_1'])\n",
    "final_table=final_table.fillna(0)\n",
    "display(final_table.head())\n",
    "final_table.info()"
   ]
  },
  {
   "cell_type": "markdown",
   "metadata": {},
   "source": [
    "#### Посмотрим тепловую карту для определения мультиколлениарности между признаками"
   ]
  },
  {
   "cell_type": "markdown",
   "metadata": {},
   "source": [
    "plt.figure(figsize=(16,12)\n",
    "sns.heatmap(final_table.corr(), annot=True)"
   ]
  },
  {
   "cell_type": "markdown",
   "metadata": {},
   "source": [
    "#### Между bulk_9 и wire_8 имееться довольно сильная корреляция-0,97. Удалим bulk_9."
   ]
  },
  {
   "cell_type": "code",
   "execution_count": 37,
   "metadata": {},
   "outputs": [],
   "source": [
    "final_table=final_table.drop(['bulk_9'], axis=1)"
   ]
  },
  {
   "cell_type": "markdown",
   "metadata": {},
   "source": [
    "#### Посмотрим какие признаки влияют на финальную температуру сильнее всего."
   ]
  },
  {
   "cell_type": "code",
   "execution_count": 38,
   "metadata": {
    "scrolled": true
   },
   "outputs": [
    {
     "data": {
      "text/plain": [
       "final_temperature       True\n",
       "first_temperature       True\n",
       "time_of_the_heating    False\n",
       "full_energy             True\n",
       "bulk_1                 False\n",
       "bulk_2                 False\n",
       "bulk_3                 False\n",
       "bulk_4                  True\n",
       "bulk_5                 False\n",
       "bulk_6                  True\n",
       "bulk_7                  True\n",
       "bulk_8                 False\n",
       "bulk_10                False\n",
       "bulk_11                 True\n",
       "bulk_12                 True\n",
       "bulk_13                False\n",
       "bulk_14                 True\n",
       "bulk_15                 True\n",
       "gaz_1                  False\n",
       "wire_1                  True\n",
       "wire_2                  True\n",
       "wire_3                 False\n",
       "wire_4                  True\n",
       "wire_6                 False\n",
       "wire_7                  True\n",
       "wire_8                 False\n",
       "wire_9                 False\n",
       "Name: final_temperature, dtype: bool"
      ]
     },
     "execution_count": 38,
     "metadata": {},
     "output_type": "execute_result"
    }
   ],
   "source": [
    "final_table.corr()['final_temperature'].abs() >= 0.1"
   ]
  },
  {
   "cell_type": "markdown",
   "metadata": {},
   "source": [
    "#### Разделим датасет на тренировачную и тестовую выборки"
   ]
  },
  {
   "cell_type": "code",
   "execution_count": 39,
   "metadata": {},
   "outputs": [
    {
     "name": "stdout",
     "output_type": "stream",
     "text": [
      "<class 'pandas.core.frame.DataFrame'>\n",
      "Int64Index: 2299 entries, 1 to 2499\n",
      "Data columns (total 27 columns):\n",
      " #   Column               Non-Null Count  Dtype  \n",
      "---  ------               --------------  -----  \n",
      " 0   final_temperature    2299 non-null   float64\n",
      " 1   first_temperature    2299 non-null   float64\n",
      " 2   time_of_the_heating  2299 non-null   float64\n",
      " 3   full_energy          2299 non-null   float64\n",
      " 4   bulk_1               2299 non-null   float64\n",
      " 5   bulk_2               2299 non-null   float64\n",
      " 6   bulk_3               2299 non-null   float64\n",
      " 7   bulk_4               2299 non-null   float64\n",
      " 8   bulk_5               2299 non-null   float64\n",
      " 9   bulk_6               2299 non-null   float64\n",
      " 10  bulk_7               2299 non-null   float64\n",
      " 11  bulk_8               2299 non-null   float64\n",
      " 12  bulk_10              2299 non-null   float64\n",
      " 13  bulk_11              2299 non-null   float64\n",
      " 14  bulk_12              2299 non-null   float64\n",
      " 15  bulk_13              2299 non-null   float64\n",
      " 16  bulk_14              2299 non-null   float64\n",
      " 17  bulk_15              2299 non-null   float64\n",
      " 18  gaz_1                2299 non-null   float64\n",
      " 19  wire_1               2299 non-null   float64\n",
      " 20  wire_2               2299 non-null   float64\n",
      " 21  wire_3               2299 non-null   float64\n",
      " 22  wire_4               2299 non-null   float64\n",
      " 23  wire_6               2299 non-null   float64\n",
      " 24  wire_7               2299 non-null   float64\n",
      " 25  wire_8               2299 non-null   float64\n",
      " 26  wire_9               2299 non-null   float64\n",
      "dtypes: float64(27)\n",
      "memory usage: 502.9 KB\n"
     ]
    }
   ],
   "source": [
    "final_table.info()"
   ]
  },
  {
   "cell_type": "code",
   "execution_count": 40,
   "metadata": {},
   "outputs": [],
   "source": [
    "train_table,test_table = train_test_split(final_table,test_size=TEST_SIZE,random_state=RANDOM_STATE)\n"
   ]
  },
  {
   "cell_type": "markdown",
   "metadata": {},
   "source": [
    "#### Удалим аномалии для столбцов которые сильнее всего влияют на окончальтельную температуру с помощью метода IsolationForest"
   ]
  },
  {
   "cell_type": "code",
   "execution_count": 41,
   "metadata": {},
   "outputs": [
    {
     "name": "stdout",
     "output_type": "stream",
     "text": [
      "Количество удаленных аномалий:  207\n"
     ]
    }
   ],
   "source": [
    "model=IsolationForest(n_estimators=100, max_samples='auto',random_state=12345,contamination=0.12)\n",
    "model.fit(train_table[['final_temperature','first_temperature','full_energy','bulk_6','bulk_12','wire_2','wire_4']])\n",
    "train_table['is_outlier'] =  model.predict(train_table[['final_temperature','first_temperature','full_energy','bulk_6','bulk_12','wire_2','wire_4']]) == -1\n",
    "outliers_isolation_forest = train_table['is_outlier'].sum()\n",
    "print(\"Количество удаленных аномалий: \", outliers_isolation_forest)\n",
    "outlier_indexes = list(train_table[train_table['is_outlier'] == 1].index)\n",
    "good_indexes = list(set(train_table.index) - set(outlier_indexes))\n",
    "final_table_isolation_forest = train_table.drop(outlier_indexes)\n",
    "final_table_isolation_forest = final_table_isolation_forest.drop(['is_outlier'], axis=1)"
   ]
  },
  {
   "cell_type": "markdown",
   "metadata": {},
   "source": [
    "<font color='purpel'><b>Комментарий тимлида </b></font><br>\n",
    "<font color='darkorange'>⚠️ Выбросы мы можем убрать только из тренировочной выборки, т.к. в реальности такие данные могут попадать в модель. </font>"
   ]
  },
  {
   "cell_type": "markdown",
   "metadata": {},
   "source": [
    "#### Разделим выборку на тестовую и тренировачную и выделим признаки и цели"
   ]
  },
  {
   "cell_type": "code",
   "execution_count": 42,
   "metadata": {},
   "outputs": [],
   "source": [
    "features_train = final_table_isolation_forest.drop('final_temperature', axis=1)\n",
    "target_train = final_table_isolation_forest['final_temperature']\n",
    "features_test = test_table.drop('final_temperature', axis=1)\n",
    "target_test= test_table['final_temperature']\n",
    "\n"
   ]
  },
  {
   "cell_type": "markdown",
   "metadata": {},
   "source": [
    "#### Обучим модель LinearRegression()"
   ]
  },
  {
   "cell_type": "code",
   "execution_count": 43,
   "metadata": {},
   "outputs": [
    {
     "name": "stdout",
     "output_type": "stream",
     "text": [
      "MAE for Linear Regression 5.573871781256457\n"
     ]
    }
   ],
   "source": [
    "model_LR = LinearRegression()\n",
    "cv_mae_LR = (cross_val_score(model_LR, \n",
    "                             features_train, \n",
    "                             target_train, \n",
    "                             cv=CVC, \n",
    "                             scoring='neg_mean_absolute_error').mean() * -1)\n",
    "print('MAE for Linear Regression', cv_mae_LR)"
   ]
  },
  {
   "cell_type": "markdown",
   "metadata": {},
   "source": [
    "#### Обучим модель LGBMRegressor()"
   ]
  },
  {
   "cell_type": "code",
   "execution_count": 44,
   "metadata": {
    "scrolled": true
   },
   "outputs": [
    {
     "name": "stdout",
     "output_type": "stream",
     "text": [
      "Лучшие параметры подобранные GridSearchCV {'learning_rate': 0.03, 'max_depth': 3, 'n_estimators': 275, 'num_leaves': 14, 'random_state': 240423}\n",
      "MAE for LGBMRegressor() = 5.3586464416540425\n"
     ]
    }
   ],
   "source": [
    "model_LGBMR = LGBMRegressor() \n",
    "params = [{'num_leaves':[7, 14, 21], \n",
    "            'learning_rate':[0.1, 0.03, 0.01],\n",
    "            'max_depth': [-1, 3, 5],\n",
    "            'n_estimators': [175, 200, 225, 250,275],\n",
    "            'random_state':[RANDOM_STATE]}]\n",
    "grid_LGBMR = GridSearchCV(model_LGBMR, params, scoring='neg_mean_absolute_error', cv=CVC)\n",
    "grid_LGBMR.fit(features_train, target_train)\n",
    "print(\"Лучшие параметры подобранные GridSearchCV\", grid_LGBMR.best_params_)\n",
    "print('MAE for LGBMRegressor() =', grid_LGBMR.best_score_*-1)\n"
   ]
  },
  {
   "cell_type": "markdown",
   "metadata": {},
   "source": [
    "#### Обучим модель RandomForestRegressor()"
   ]
  },
  {
   "cell_type": "code",
   "execution_count": 45,
   "metadata": {
    "scrolled": true
   },
   "outputs": [
    {
     "name": "stdout",
     "output_type": "stream",
     "text": [
      "Лучшие параметры подобранные RandomForestRegressor {'criterion': 'mse', 'max_depth': 40, 'n_estimators': 100, 'random_state': 240423}\n",
      "MAE for RandomForestRegressor = 5.591049526663194\n"
     ]
    }
   ],
   "source": [
    "model_RFR = RandomForestRegressor() \n",
    "params = [{'criterion':['mse'],\n",
    "                'n_estimators':[50,100,200,500], \n",
    "                'max_depth': [10, 30, 40, 60,80,100, None],\n",
    "                'random_state':[RANDOM_STATE]}]\n",
    "grid_RFR = GridSearchCV(model_RFR, params, scoring='neg_mean_absolute_error', cv=CVC)\n",
    "grid_RFR.fit(features_train, target_train)\n",
    "print(\"Лучшие параметры подобранные RandomForestRegressor\", grid_RFR.best_params_)\n",
    "print('MAE for RandomForestRegressor =', grid_RFR.best_score_*-1)\n"
   ]
  },
  {
   "cell_type": "markdown",
   "metadata": {},
   "source": [
    "#### Обучим модель CatBoostRegressor()"
   ]
  },
  {
   "cell_type": "code",
   "execution_count": 46,
   "metadata": {
    "scrolled": true
   },
   "outputs": [
    {
     "name": "stdout",
     "output_type": "stream",
     "text": [
      "MAE for CatBoostRegressor = 5.384088079632995\n"
     ]
    }
   ],
   "source": [
    "model_CAT = CatBoostRegressor(verbose=False,random_state=RANDOM_STATE)\n",
    "cv_mae_CAT = (cross_val_score(model_CAT, \n",
    "                             features_train, \n",
    "                             target_train, \n",
    "                             cv=CVC, \n",
    "                             scoring='neg_mean_absolute_error').mean() * -1)\n",
    "print('MAE for CatBoostRegressor =', cv_mae_CAT)"
   ]
  },
  {
   "cell_type": "markdown",
   "metadata": {},
   "source": [
    "### Определим MAE на тестовой выборке для LGBMRegressor()¶"
   ]
  },
  {
   "cell_type": "code",
   "execution_count": 47,
   "metadata": {},
   "outputs": [
    {
     "name": "stdout",
     "output_type": "stream",
     "text": [
      "MAE for LGBMRegressor() = 6.219350133789137\n"
     ]
    }
   ],
   "source": [
    "model_LGBMR.set_params(**grid_LGBMR.best_params_)\n",
    "model_LGBMR.fit(features_train, target_train)\n",
    "predict = model_LGBMR.predict(features_test)\n",
    "test_mae_LGBMR = mean_absolute_error(predict, target_test)\n",
    "print('MAE for LGBMRegressor() =', test_mae_LGBMR)"
   ]
  },
  {
   "cell_type": "markdown",
   "metadata": {},
   "source": [
    "### Вывод:\n",
    "В данном пункте мы после обработки датасета(исключение аномалий, добавления признаков,исключения мультиколениарности) обучили четыре модели:  \n",
    "LinearRegression  \n",
    "RandomForestRegressor  \n",
    "LGBMRegressor  \n",
    "CatBoostRegressor  \n",
    "Наилудшее значеие MAE на тренировачной выборке показала модель LGBMRegressor 5.358.  \n",
    "На тестовой выборке значение MAE составило 6.219.\n",
    "  "
   ]
  },
  {
   "cell_type": "markdown",
   "metadata": {},
   "source": [
    "## Итоговый вывод:\n",
    "В данном проекте мы сделали следующее:  \n",
    "1. Загрузили и изучили имеющиеся данные. Обрабоботали аномалии(отрицательная реактивная мощность, температура стали меньше 1500 градусов). Заполнили нолями данных о подаче сыпучих и о подаче проволочных материалов (объём). \n",
    "2. Создали общий дата фрейм со всеми признаками путем группировки по столбцу \"key\" и далее сделаем данный столбец индексом для слияния датафремов,затем разделить на тренировачную и тестовую выборки в соотношении 1:3, выделив целевой признак-конечную температуру. При этом мы создали два новых признака время процесса-период между первым и последним замером температуры, а также признак-количество энергии затраченное на нагрев металла. В тренировачной выборке методом Isolation Forest мы избавились от аномалий(при n_estimators=100 и contamination=0.12 получилось минимальное значение MAE на тренировачной выборке). Кроме того после рассмотрения тепловой карты корреляции признаков была уделина колонка bulk_9, т.к. она имела относительно большую корреляцию с wire_8. Также был полностью удален столбец wire_5 так как после объединения таблиц методом concat c атрибутом inner все значения столбца были NaN.\n",
    "3. Обучили несколько моделей на имеющихся данных (LinearRegression, RandomForestRegressor, CatBoostRegressor,LGBMRegressor).Для LGBMRegressor и RandomForestRegressor мы преминили GridSearchCV для поиска наилудщих параметров. Наилудшее значеие MAE на тренировачной выборке показала модель LGBMRegressor где значение MAE равно 5.358.\n",
    "4. На тестовой выборке значение MAE для LGBMRegressor составило 6.219.\n",
    "\n",
    "Тем самым мы выполнили все пункты плана работы над проектом. Наибольшие трудности у меня возникли с подбором гиперпараметров для LGBMRegressor, RandomForestRegressor и Isolation Forest т.к. на это уходила большая часть времени работы над проектом.\n"
   ]
  }
 ],
 "metadata": {
  "ExecuteTimeLog": [
   {
    "duration": 1342,
    "start_time": "2023-04-25T18:52:58.738Z"
   },
   {
    "duration": 125,
    "start_time": "2023-04-25T18:53:00.082Z"
   },
   {
    "duration": 0,
    "start_time": "2023-04-25T18:53:00.210Z"
   },
   {
    "duration": 12,
    "start_time": "2023-04-25T19:39:15.153Z"
   },
   {
    "duration": 12,
    "start_time": "2023-04-25T20:58:43.489Z"
   },
   {
    "duration": 14,
    "start_time": "2023-04-25T20:59:46.489Z"
   },
   {
    "duration": 13,
    "start_time": "2023-04-25T21:00:34.309Z"
   },
   {
    "duration": 1342,
    "start_time": "2023-04-26T00:05:11.749Z"
   },
   {
    "duration": 104,
    "start_time": "2023-04-26T00:05:21.186Z"
   },
   {
    "duration": 8,
    "start_time": "2023-04-26T00:05:33.389Z"
   },
   {
    "duration": 9,
    "start_time": "2023-04-26T00:06:02.518Z"
   },
   {
    "duration": 16,
    "start_time": "2023-04-26T00:06:06.056Z"
   },
   {
    "duration": 41,
    "start_time": "2023-04-26T00:06:24.469Z"
   },
   {
    "duration": 149,
    "start_time": "2023-04-26T00:06:39.809Z"
   },
   {
    "duration": 13,
    "start_time": "2023-04-26T00:06:52.428Z"
   },
   {
    "duration": 27,
    "start_time": "2023-04-26T00:07:13.446Z"
   },
   {
    "duration": 208,
    "start_time": "2023-04-26T00:07:56.529Z"
   },
   {
    "duration": 8,
    "start_time": "2023-04-26T00:07:58.829Z"
   },
   {
    "duration": 14,
    "start_time": "2023-04-26T00:10:11.471Z"
   },
   {
    "duration": 54,
    "start_time": "2023-04-26T07:08:21.439Z"
   },
   {
    "duration": 1360,
    "start_time": "2023-04-26T07:08:25.041Z"
   },
   {
    "duration": 787,
    "start_time": "2023-04-26T07:08:28.188Z"
   },
   {
    "duration": 368,
    "start_time": "2023-04-26T07:08:43.087Z"
   },
   {
    "duration": 66,
    "start_time": "2023-04-26T07:09:02.352Z"
   },
   {
    "duration": 9,
    "start_time": "2023-04-26T07:09:13.625Z"
   },
   {
    "duration": 360,
    "start_time": "2023-04-26T07:09:18.379Z"
   },
   {
    "duration": 2,
    "start_time": "2023-04-26T07:09:21.308Z"
   },
   {
    "duration": 372,
    "start_time": "2023-04-26T07:09:31.658Z"
   },
   {
    "duration": 43,
    "start_time": "2023-04-26T07:09:48.891Z"
   },
   {
    "duration": 9,
    "start_time": "2023-04-26T07:14:21.167Z"
   },
   {
    "duration": 100,
    "start_time": "2023-04-26T07:14:22.618Z"
   },
   {
    "duration": 14,
    "start_time": "2023-04-26T07:14:23.830Z"
   },
   {
    "duration": 5,
    "start_time": "2023-04-26T07:15:28.918Z"
   },
   {
    "duration": 3,
    "start_time": "2023-04-26T07:15:34.000Z"
   },
   {
    "duration": 160,
    "start_time": "2023-04-26T07:15:35.598Z"
   },
   {
    "duration": 3,
    "start_time": "2023-04-26T07:15:36.890Z"
   },
   {
    "duration": 7,
    "start_time": "2023-04-26T07:15:47.799Z"
   },
   {
    "duration": 12,
    "start_time": "2023-04-26T07:16:07.320Z"
   },
   {
    "duration": 15,
    "start_time": "2023-04-26T07:16:15.199Z"
   },
   {
    "duration": 8,
    "start_time": "2023-04-26T07:16:26.652Z"
   },
   {
    "duration": 10,
    "start_time": "2023-04-26T07:16:37.758Z"
   },
   {
    "duration": 16,
    "start_time": "2023-04-26T07:16:50.228Z"
   },
   {
    "duration": 23,
    "start_time": "2023-04-26T07:17:23.652Z"
   },
   {
    "duration": 37,
    "start_time": "2023-04-26T07:17:44.785Z"
   },
   {
    "duration": 284,
    "start_time": "2023-04-26T07:20:21.220Z"
   },
   {
    "duration": 237,
    "start_time": "2023-04-26T07:20:23.990Z"
   },
   {
    "duration": 49,
    "start_time": "2023-04-26T07:21:02.852Z"
   },
   {
    "duration": 1183,
    "start_time": "2023-04-26T07:21:16.593Z"
   },
   {
    "duration": 221,
    "start_time": "2023-04-26T07:21:17.779Z"
   },
   {
    "duration": 155,
    "start_time": "2023-04-26T07:21:18.002Z"
   },
   {
    "duration": 43,
    "start_time": "2023-04-26T07:21:43.615Z"
   },
   {
    "duration": 41,
    "start_time": "2023-04-26T07:22:05.541Z"
   },
   {
    "duration": 45,
    "start_time": "2023-04-26T07:22:27.154Z"
   },
   {
    "duration": 42,
    "start_time": "2023-04-26T07:22:54.013Z"
   },
   {
    "duration": 50,
    "start_time": "2023-04-26T07:23:19.064Z"
   },
   {
    "duration": 50,
    "start_time": "2023-04-26T07:23:27.691Z"
   },
   {
    "duration": 3,
    "start_time": "2023-04-26T07:46:01.198Z"
   },
   {
    "duration": 35,
    "start_time": "2023-04-26T07:47:47.199Z"
   },
   {
    "duration": 1315,
    "start_time": "2023-04-26T07:47:52.707Z"
   },
   {
    "duration": 242,
    "start_time": "2023-04-26T07:47:54.024Z"
   },
   {
    "duration": 3,
    "start_time": "2023-04-26T07:47:54.268Z"
   },
   {
    "duration": 41,
    "start_time": "2023-04-26T07:47:54.273Z"
   },
   {
    "duration": 86,
    "start_time": "2023-04-26T07:54:43.353Z"
   },
   {
    "duration": 4,
    "start_time": "2023-04-26T08:01:28.968Z"
   },
   {
    "duration": 1125,
    "start_time": "2023-04-26T08:01:35.257Z"
   },
   {
    "duration": 229,
    "start_time": "2023-04-26T08:01:36.384Z"
   },
   {
    "duration": 3,
    "start_time": "2023-04-26T08:01:36.615Z"
   },
   {
    "duration": 433,
    "start_time": "2023-04-26T08:01:36.620Z"
   },
   {
    "duration": 1349,
    "start_time": "2023-04-26T08:01:37.055Z"
   },
   {
    "duration": 353,
    "start_time": "2023-04-26T08:03:23.508Z"
   },
   {
    "duration": 340,
    "start_time": "2023-04-26T08:04:56.523Z"
   },
   {
    "duration": 3,
    "start_time": "2023-04-26T08:05:49.442Z"
   },
   {
    "duration": 398,
    "start_time": "2023-04-26T08:06:15.583Z"
   },
   {
    "duration": 917,
    "start_time": "2023-04-26T08:07:08.367Z"
   },
   {
    "duration": 3,
    "start_time": "2023-04-26T08:07:53.682Z"
   },
   {
    "duration": 434,
    "start_time": "2023-04-26T08:08:12.004Z"
   },
   {
    "duration": 92,
    "start_time": "2023-04-26T08:18:23.915Z"
   },
   {
    "duration": 54,
    "start_time": "2023-04-26T08:21:51.103Z"
   },
   {
    "duration": 423,
    "start_time": "2023-04-26T11:00:17.873Z"
   },
   {
    "duration": 101,
    "start_time": "2023-04-26T11:17:24.561Z"
   },
   {
    "duration": 3,
    "start_time": "2023-04-26T11:17:43.121Z"
   },
   {
    "duration": 253,
    "start_time": "2023-04-26T11:17:46.652Z"
   },
   {
    "duration": 54,
    "start_time": "2023-04-26T11:18:12.758Z"
   },
   {
    "duration": 256,
    "start_time": "2023-04-26T11:18:15.430Z"
   },
   {
    "duration": 156,
    "start_time": "2023-04-26T11:18:21.781Z"
   },
   {
    "duration": 543,
    "start_time": "2023-04-26T11:18:28.822Z"
   },
   {
    "duration": 411,
    "start_time": "2023-04-26T11:18:47.021Z"
   },
   {
    "duration": 80,
    "start_time": "2023-04-26T11:19:28.920Z"
   },
   {
    "duration": 380,
    "start_time": "2023-04-26T11:19:36.916Z"
   },
   {
    "duration": 414,
    "start_time": "2023-04-26T11:19:43.420Z"
   },
   {
    "duration": 541,
    "start_time": "2023-04-26T11:19:50.901Z"
   },
   {
    "duration": 64,
    "start_time": "2023-04-26T11:20:08.349Z"
   },
   {
    "duration": 419,
    "start_time": "2023-04-26T11:20:13.160Z"
   },
   {
    "duration": 496,
    "start_time": "2023-04-26T11:20:48.738Z"
   },
   {
    "duration": 455,
    "start_time": "2023-04-26T11:21:02.612Z"
   },
   {
    "duration": 3,
    "start_time": "2023-04-26T11:21:17.991Z"
   },
   {
    "duration": 1211,
    "start_time": "2023-04-26T11:21:27.406Z"
   },
   {
    "duration": 233,
    "start_time": "2023-04-26T11:21:28.619Z"
   },
   {
    "duration": 9,
    "start_time": "2023-04-26T11:21:28.854Z"
   },
   {
    "duration": 67,
    "start_time": "2023-04-26T11:21:28.866Z"
   },
   {
    "duration": 3,
    "start_time": "2023-04-26T11:21:28.935Z"
   },
   {
    "duration": 509,
    "start_time": "2023-04-26T11:21:28.940Z"
   },
   {
    "duration": 92,
    "start_time": "2023-04-26T11:21:29.451Z"
   },
   {
    "duration": 39,
    "start_time": "2023-04-26T11:21:29.545Z"
   },
   {
    "duration": 49,
    "start_time": "2023-04-26T11:21:29.587Z"
   },
   {
    "duration": 2,
    "start_time": "2023-04-26T11:21:29.640Z"
   },
   {
    "duration": 34,
    "start_time": "2023-04-26T11:21:29.644Z"
   },
   {
    "duration": 33,
    "start_time": "2023-04-26T11:21:29.679Z"
   },
   {
    "duration": 66,
    "start_time": "2023-04-26T11:21:29.714Z"
   },
   {
    "duration": 3,
    "start_time": "2023-04-26T11:21:29.781Z"
   },
   {
    "duration": 52,
    "start_time": "2023-04-26T11:21:29.785Z"
   },
   {
    "duration": 2579,
    "start_time": "2023-04-26T11:39:43.396Z"
   },
   {
    "duration": 2621,
    "start_time": "2023-04-26T11:40:33.176Z"
   },
   {
    "duration": 2458,
    "start_time": "2023-04-26T11:41:02.724Z"
   },
   {
    "duration": 2480,
    "start_time": "2023-04-26T11:41:26.856Z"
   },
   {
    "duration": 4417,
    "start_time": "2023-04-26T11:41:37.296Z"
   },
   {
    "duration": 119,
    "start_time": "2023-04-26T11:42:25.097Z"
   },
   {
    "duration": 19,
    "start_time": "2023-04-26T11:42:35.636Z"
   },
   {
    "duration": 4820,
    "start_time": "2023-04-26T11:42:50.625Z"
   },
   {
    "duration": 4656,
    "start_time": "2023-04-26T11:44:24.104Z"
   },
   {
    "duration": 4706,
    "start_time": "2023-04-26T11:44:36.855Z"
   },
   {
    "duration": 4552,
    "start_time": "2023-04-26T12:02:12.378Z"
   },
   {
    "duration": 4738,
    "start_time": "2023-04-26T12:02:24.812Z"
   },
   {
    "duration": 295,
    "start_time": "2023-04-26T12:04:37.479Z"
   },
   {
    "duration": 629,
    "start_time": "2023-04-26T12:04:56.312Z"
   },
   {
    "duration": 283,
    "start_time": "2023-04-26T12:07:06.811Z"
   },
   {
    "duration": 296,
    "start_time": "2023-04-26T12:07:20.906Z"
   },
   {
    "duration": 315,
    "start_time": "2023-04-26T12:07:33.732Z"
   },
   {
    "duration": 298,
    "start_time": "2023-04-26T12:07:41.932Z"
   },
   {
    "duration": 2588,
    "start_time": "2023-04-26T12:09:01.012Z"
   },
   {
    "duration": 2827,
    "start_time": "2023-04-26T12:09:47.086Z"
   },
   {
    "duration": 1154,
    "start_time": "2023-04-26T12:11:20.217Z"
   },
   {
    "duration": 227,
    "start_time": "2023-04-26T12:11:21.373Z"
   },
   {
    "duration": 7,
    "start_time": "2023-04-26T12:11:21.602Z"
   },
   {
    "duration": 54,
    "start_time": "2023-04-26T12:11:21.611Z"
   },
   {
    "duration": 452,
    "start_time": "2023-04-26T12:11:21.667Z"
   },
   {
    "duration": 103,
    "start_time": "2023-04-26T12:11:22.120Z"
   },
   {
    "duration": 4455,
    "start_time": "2023-04-26T12:11:22.225Z"
   },
   {
    "duration": 50,
    "start_time": "2023-04-26T12:11:26.682Z"
   },
   {
    "duration": 26,
    "start_time": "2023-04-26T12:11:26.734Z"
   },
   {
    "duration": 325,
    "start_time": "2023-04-26T12:11:26.762Z"
   },
   {
    "duration": 39,
    "start_time": "2023-04-26T12:11:27.089Z"
   },
   {
    "duration": 301,
    "start_time": "2023-04-26T12:11:27.129Z"
   },
   {
    "duration": 58,
    "start_time": "2023-04-26T12:11:27.432Z"
   },
   {
    "duration": 3054,
    "start_time": "2023-04-26T12:11:27.511Z"
   },
   {
    "duration": 54,
    "start_time": "2023-04-26T12:11:30.567Z"
   },
   {
    "duration": 207,
    "start_time": "2023-04-27T08:40:00.687Z"
   },
   {
    "duration": 1357,
    "start_time": "2023-04-27T08:40:36.617Z"
   },
   {
    "duration": 494,
    "start_time": "2023-04-27T08:40:40.153Z"
   },
   {
    "duration": 3,
    "start_time": "2023-04-27T08:40:45.208Z"
   },
   {
    "duration": 40,
    "start_time": "2023-04-27T08:40:48.548Z"
   },
   {
    "duration": 411,
    "start_time": "2023-04-27T08:41:03.624Z"
   },
   {
    "duration": 61,
    "start_time": "2023-04-27T11:21:20.487Z"
   },
   {
    "duration": 1409,
    "start_time": "2023-04-27T11:21:24.484Z"
   },
   {
    "duration": 635,
    "start_time": "2023-04-27T11:21:25.895Z"
   },
   {
    "duration": 3,
    "start_time": "2023-04-27T11:21:26.531Z"
   },
   {
    "duration": 47,
    "start_time": "2023-04-27T11:21:26.536Z"
   },
   {
    "duration": 471,
    "start_time": "2023-04-27T11:21:26.584Z"
   },
   {
    "duration": 99,
    "start_time": "2023-04-27T11:21:27.057Z"
   },
   {
    "duration": 4441,
    "start_time": "2023-04-27T11:21:27.158Z"
   },
   {
    "duration": 52,
    "start_time": "2023-04-27T11:21:31.600Z"
   },
   {
    "duration": 27,
    "start_time": "2023-04-27T11:21:31.654Z"
   },
   {
    "duration": 314,
    "start_time": "2023-04-27T11:21:31.711Z"
   },
   {
    "duration": 49,
    "start_time": "2023-04-27T11:21:32.027Z"
   },
   {
    "duration": 325,
    "start_time": "2023-04-27T11:21:32.078Z"
   },
   {
    "duration": 59,
    "start_time": "2023-04-27T11:21:32.405Z"
   },
   {
    "duration": 3112,
    "start_time": "2023-04-27T11:21:32.466Z"
   },
   {
    "duration": 42,
    "start_time": "2023-04-27T11:21:35.580Z"
   },
   {
    "duration": 4480,
    "start_time": "2023-04-27T11:54:17.720Z"
   },
   {
    "duration": 362,
    "start_time": "2023-04-27T11:55:22.260Z"
   },
   {
    "duration": 577,
    "start_time": "2023-04-27T11:55:29.660Z"
   },
   {
    "duration": 142,
    "start_time": "2023-04-27T11:59:02.258Z"
   },
   {
    "duration": 16,
    "start_time": "2023-04-27T12:02:31.920Z"
   },
   {
    "duration": 20,
    "start_time": "2023-04-27T12:02:42.401Z"
   },
   {
    "duration": 12,
    "start_time": "2023-04-27T12:04:59.630Z"
   },
   {
    "duration": 318,
    "start_time": "2023-04-27T12:09:18.274Z"
   },
   {
    "duration": 125,
    "start_time": "2023-04-27T12:12:45.570Z"
   },
   {
    "duration": 150,
    "start_time": "2023-04-27T12:13:15.061Z"
   },
   {
    "duration": 167,
    "start_time": "2023-04-27T12:13:27.807Z"
   },
   {
    "duration": 193,
    "start_time": "2023-04-27T12:13:31.576Z"
   },
   {
    "duration": 292,
    "start_time": "2023-04-27T12:18:30.938Z"
   },
   {
    "duration": 210,
    "start_time": "2023-04-27T12:19:11.341Z"
   },
   {
    "duration": 382,
    "start_time": "2023-04-27T12:20:53.051Z"
   },
   {
    "duration": 374,
    "start_time": "2023-04-27T12:21:05.880Z"
   },
   {
    "duration": 47,
    "start_time": "2023-04-27T12:21:29.109Z"
   },
   {
    "duration": 161,
    "start_time": "2023-04-27T12:21:34.089Z"
   },
   {
    "duration": 57,
    "start_time": "2023-04-27T12:22:33.788Z"
   },
   {
    "duration": 372,
    "start_time": "2023-04-27T12:22:41.150Z"
   },
   {
    "duration": 49,
    "start_time": "2023-04-27T13:01:29.408Z"
   },
   {
    "duration": 49,
    "start_time": "2023-04-27T13:05:13.854Z"
   },
   {
    "duration": 297,
    "start_time": "2023-04-27T13:17:44.478Z"
   },
   {
    "duration": 1099,
    "start_time": "2023-04-27T14:38:20.382Z"
   },
   {
    "duration": 248,
    "start_time": "2023-04-27T14:38:21.483Z"
   },
   {
    "duration": 3,
    "start_time": "2023-04-27T14:38:21.732Z"
   },
   {
    "duration": 41,
    "start_time": "2023-04-27T14:38:21.737Z"
   },
   {
    "duration": 471,
    "start_time": "2023-04-27T14:38:21.780Z"
   },
   {
    "duration": 95,
    "start_time": "2023-04-27T14:38:22.254Z"
   },
   {
    "duration": 405,
    "start_time": "2023-04-27T14:38:22.350Z"
   },
   {
    "duration": 34,
    "start_time": "2023-04-27T14:38:22.757Z"
   },
   {
    "duration": 56,
    "start_time": "2023-04-27T14:38:22.793Z"
   },
   {
    "duration": 377,
    "start_time": "2023-04-27T14:38:22.853Z"
   },
   {
    "duration": 32,
    "start_time": "2023-04-27T14:38:23.232Z"
   },
   {
    "duration": 380,
    "start_time": "2023-04-27T14:38:23.266Z"
   },
   {
    "duration": 160,
    "start_time": "2023-04-27T14:38:23.647Z"
   },
   {
    "duration": 296,
    "start_time": "2023-04-27T14:38:23.820Z"
   },
   {
    "duration": 37,
    "start_time": "2023-04-27T14:38:24.117Z"
   },
   {
    "duration": 1592,
    "start_time": "2023-05-06T09:13:02.937Z"
   },
   {
    "duration": 2,
    "start_time": "2023-05-06T09:13:04.531Z"
   },
   {
    "duration": 467,
    "start_time": "2023-05-06T09:13:04.535Z"
   },
   {
    "duration": 4,
    "start_time": "2023-05-06T09:13:05.003Z"
   },
   {
    "duration": 42,
    "start_time": "2023-05-06T09:13:05.009Z"
   },
   {
    "duration": 451,
    "start_time": "2023-05-06T09:13:05.052Z"
   },
   {
    "duration": 91,
    "start_time": "2023-05-06T09:13:05.505Z"
   },
   {
    "duration": 462,
    "start_time": "2023-05-06T09:13:05.598Z"
   },
   {
    "duration": 48,
    "start_time": "2023-05-06T09:13:06.061Z"
   },
   {
    "duration": 26,
    "start_time": "2023-05-06T09:13:06.112Z"
   },
   {
    "duration": 361,
    "start_time": "2023-05-06T09:13:06.140Z"
   },
   {
    "duration": 30,
    "start_time": "2023-05-06T09:13:06.503Z"
   },
   {
    "duration": 349,
    "start_time": "2023-05-06T09:13:06.535Z"
   },
   {
    "duration": 59,
    "start_time": "2023-05-06T09:13:06.886Z"
   },
   {
    "duration": 285,
    "start_time": "2023-05-06T09:13:06.946Z"
   },
   {
    "duration": 29,
    "start_time": "2023-05-06T09:13:07.233Z"
   },
   {
    "duration": 5,
    "start_time": "2023-05-06T09:13:07.264Z"
   },
   {
    "duration": 76,
    "start_time": "2023-05-06T09:13:07.270Z"
   },
   {
    "duration": 8,
    "start_time": "2023-05-06T09:13:07.348Z"
   },
   {
    "duration": 49,
    "start_time": "2023-05-06T09:13:07.358Z"
   },
   {
    "duration": 0,
    "start_time": "2023-05-06T09:13:07.410Z"
   },
   {
    "duration": 0,
    "start_time": "2023-05-06T09:13:07.412Z"
   },
   {
    "duration": 0,
    "start_time": "2023-05-06T09:13:07.414Z"
   },
   {
    "duration": 0,
    "start_time": "2023-05-06T09:13:07.415Z"
   },
   {
    "duration": 0,
    "start_time": "2023-05-06T09:13:07.417Z"
   },
   {
    "duration": 0,
    "start_time": "2023-05-06T09:13:07.418Z"
   },
   {
    "duration": 0,
    "start_time": "2023-05-06T09:13:07.420Z"
   },
   {
    "duration": 0,
    "start_time": "2023-05-06T09:13:07.422Z"
   },
   {
    "duration": 0,
    "start_time": "2023-05-06T09:13:07.423Z"
   },
   {
    "duration": 0,
    "start_time": "2023-05-06T09:13:07.425Z"
   },
   {
    "duration": 0,
    "start_time": "2023-05-06T09:13:07.426Z"
   },
   {
    "duration": 0,
    "start_time": "2023-05-06T09:13:07.427Z"
   },
   {
    "duration": 0,
    "start_time": "2023-05-06T09:13:07.429Z"
   },
   {
    "duration": 0,
    "start_time": "2023-05-06T09:13:07.430Z"
   },
   {
    "duration": 0,
    "start_time": "2023-05-06T09:13:07.432Z"
   },
   {
    "duration": 0,
    "start_time": "2023-05-06T09:13:07.433Z"
   },
   {
    "duration": 0,
    "start_time": "2023-05-06T09:13:07.435Z"
   },
   {
    "duration": 0,
    "start_time": "2023-05-06T09:13:07.436Z"
   },
   {
    "duration": 0,
    "start_time": "2023-05-06T09:13:07.437Z"
   },
   {
    "duration": 0,
    "start_time": "2023-05-06T09:13:07.438Z"
   },
   {
    "duration": 0,
    "start_time": "2023-05-06T09:13:07.439Z"
   },
   {
    "duration": 0,
    "start_time": "2023-05-06T09:13:07.441Z"
   },
   {
    "duration": 0,
    "start_time": "2023-05-06T09:13:07.442Z"
   },
   {
    "duration": 0,
    "start_time": "2023-05-06T09:13:07.443Z"
   },
   {
    "duration": 0,
    "start_time": "2023-05-06T09:13:07.445Z"
   },
   {
    "duration": 0,
    "start_time": "2023-05-06T09:13:07.494Z"
   },
   {
    "duration": 0,
    "start_time": "2023-05-06T09:13:07.495Z"
   },
   {
    "duration": 6,
    "start_time": "2023-05-06T09:15:40.810Z"
   },
   {
    "duration": 51,
    "start_time": "2023-05-06T09:15:56.213Z"
   },
   {
    "duration": 7,
    "start_time": "2023-05-06T09:16:00.845Z"
   },
   {
    "duration": 110,
    "start_time": "2023-05-06T09:42:57.524Z"
   },
   {
    "duration": 12,
    "start_time": "2023-05-06T09:43:06.652Z"
   },
   {
    "duration": 48,
    "start_time": "2023-05-06T09:44:11.019Z"
   },
   {
    "duration": 12,
    "start_time": "2023-05-06T09:44:15.814Z"
   },
   {
    "duration": 6,
    "start_time": "2023-05-06T09:44:33.079Z"
   },
   {
    "duration": 8,
    "start_time": "2023-05-06T09:44:40.326Z"
   },
   {
    "duration": 44,
    "start_time": "2023-05-06T09:44:41.942Z"
   },
   {
    "duration": 7,
    "start_time": "2023-05-06T09:44:48.416Z"
   },
   {
    "duration": 7,
    "start_time": "2023-05-06T09:45:17.490Z"
   },
   {
    "duration": 8,
    "start_time": "2023-05-06T09:46:52.271Z"
   },
   {
    "duration": 6,
    "start_time": "2023-05-06T09:47:44.770Z"
   },
   {
    "duration": 1588,
    "start_time": "2023-05-06T09:48:10.231Z"
   },
   {
    "duration": 2,
    "start_time": "2023-05-06T09:48:11.822Z"
   },
   {
    "duration": 205,
    "start_time": "2023-05-06T09:48:11.826Z"
   },
   {
    "duration": 3,
    "start_time": "2023-05-06T09:48:12.033Z"
   },
   {
    "duration": 56,
    "start_time": "2023-05-06T09:48:12.037Z"
   },
   {
    "duration": 403,
    "start_time": "2023-05-06T09:48:12.094Z"
   },
   {
    "duration": 73,
    "start_time": "2023-05-06T09:48:12.499Z"
   },
   {
    "duration": 429,
    "start_time": "2023-05-06T09:48:12.573Z"
   },
   {
    "duration": 32,
    "start_time": "2023-05-06T09:48:13.004Z"
   },
   {
    "duration": 23,
    "start_time": "2023-05-06T09:48:13.038Z"
   },
   {
    "duration": 320,
    "start_time": "2023-05-06T09:48:13.063Z"
   },
   {
    "duration": 32,
    "start_time": "2023-05-06T09:48:13.385Z"
   },
   {
    "duration": 306,
    "start_time": "2023-05-06T09:48:13.419Z"
   },
   {
    "duration": 68,
    "start_time": "2023-05-06T09:48:13.727Z"
   },
   {
    "duration": 258,
    "start_time": "2023-05-06T09:48:13.797Z"
   },
   {
    "duration": 45,
    "start_time": "2023-05-06T09:48:14.057Z"
   },
   {
    "duration": 6,
    "start_time": "2023-05-06T09:48:14.104Z"
   },
   {
    "duration": 85,
    "start_time": "2023-05-06T09:48:14.114Z"
   },
   {
    "duration": 10,
    "start_time": "2023-05-06T09:48:14.201Z"
   },
   {
    "duration": 49,
    "start_time": "2023-05-06T09:48:14.213Z"
   },
   {
    "duration": 0,
    "start_time": "2023-05-06T09:48:14.265Z"
   },
   {
    "duration": 0,
    "start_time": "2023-05-06T09:48:14.267Z"
   },
   {
    "duration": 0,
    "start_time": "2023-05-06T09:48:14.268Z"
   },
   {
    "duration": 0,
    "start_time": "2023-05-06T09:48:14.269Z"
   },
   {
    "duration": 1,
    "start_time": "2023-05-06T09:48:14.270Z"
   },
   {
    "duration": 0,
    "start_time": "2023-05-06T09:48:14.272Z"
   },
   {
    "duration": 0,
    "start_time": "2023-05-06T09:48:14.274Z"
   },
   {
    "duration": 0,
    "start_time": "2023-05-06T09:48:14.275Z"
   },
   {
    "duration": 0,
    "start_time": "2023-05-06T09:48:14.277Z"
   },
   {
    "duration": 0,
    "start_time": "2023-05-06T09:48:14.278Z"
   },
   {
    "duration": 0,
    "start_time": "2023-05-06T09:48:14.279Z"
   },
   {
    "duration": 0,
    "start_time": "2023-05-06T09:48:14.282Z"
   },
   {
    "duration": 0,
    "start_time": "2023-05-06T09:48:14.282Z"
   },
   {
    "duration": 0,
    "start_time": "2023-05-06T09:48:14.283Z"
   },
   {
    "duration": 0,
    "start_time": "2023-05-06T09:48:14.284Z"
   },
   {
    "duration": 0,
    "start_time": "2023-05-06T09:48:14.285Z"
   },
   {
    "duration": 0,
    "start_time": "2023-05-06T09:48:14.286Z"
   },
   {
    "duration": 0,
    "start_time": "2023-05-06T09:48:14.287Z"
   },
   {
    "duration": 0,
    "start_time": "2023-05-06T09:48:14.294Z"
   },
   {
    "duration": 0,
    "start_time": "2023-05-06T09:48:14.295Z"
   },
   {
    "duration": 0,
    "start_time": "2023-05-06T09:48:14.296Z"
   },
   {
    "duration": 0,
    "start_time": "2023-05-06T09:48:14.297Z"
   },
   {
    "duration": 0,
    "start_time": "2023-05-06T09:48:14.297Z"
   },
   {
    "duration": 0,
    "start_time": "2023-05-06T09:48:14.299Z"
   },
   {
    "duration": 0,
    "start_time": "2023-05-06T09:48:14.299Z"
   },
   {
    "duration": 0,
    "start_time": "2023-05-06T09:48:14.300Z"
   },
   {
    "duration": 0,
    "start_time": "2023-05-06T09:48:14.301Z"
   },
   {
    "duration": 1359,
    "start_time": "2023-05-06T09:52:35.707Z"
   },
   {
    "duration": 2,
    "start_time": "2023-05-06T09:52:37.068Z"
   },
   {
    "duration": 193,
    "start_time": "2023-05-06T09:52:37.072Z"
   },
   {
    "duration": 3,
    "start_time": "2023-05-06T09:52:37.267Z"
   },
   {
    "duration": 39,
    "start_time": "2023-05-06T09:52:37.272Z"
   },
   {
    "duration": 453,
    "start_time": "2023-05-06T09:52:37.313Z"
   },
   {
    "duration": 92,
    "start_time": "2023-05-06T09:52:37.768Z"
   },
   {
    "duration": 466,
    "start_time": "2023-05-06T09:52:37.862Z"
   },
   {
    "duration": 34,
    "start_time": "2023-05-06T09:52:38.329Z"
   },
   {
    "duration": 44,
    "start_time": "2023-05-06T09:52:38.366Z"
   },
   {
    "duration": 344,
    "start_time": "2023-05-06T09:52:38.411Z"
   },
   {
    "duration": 41,
    "start_time": "2023-05-06T09:52:38.757Z"
   },
   {
    "duration": 329,
    "start_time": "2023-05-06T09:52:38.799Z"
   },
   {
    "duration": 70,
    "start_time": "2023-05-06T09:52:39.130Z"
   },
   {
    "duration": 282,
    "start_time": "2023-05-06T09:52:39.201Z"
   },
   {
    "duration": 32,
    "start_time": "2023-05-06T09:52:39.485Z"
   },
   {
    "duration": 5,
    "start_time": "2023-05-06T09:52:39.519Z"
   },
   {
    "duration": 78,
    "start_time": "2023-05-06T09:52:39.525Z"
   },
   {
    "duration": 8,
    "start_time": "2023-05-06T09:52:39.605Z"
   },
   {
    "duration": 48,
    "start_time": "2023-05-06T09:52:39.615Z"
   },
   {
    "duration": 0,
    "start_time": "2023-05-06T09:52:39.665Z"
   },
   {
    "duration": 0,
    "start_time": "2023-05-06T09:52:39.666Z"
   },
   {
    "duration": 0,
    "start_time": "2023-05-06T09:52:39.667Z"
   },
   {
    "duration": 0,
    "start_time": "2023-05-06T09:52:39.668Z"
   },
   {
    "duration": 0,
    "start_time": "2023-05-06T09:52:39.669Z"
   },
   {
    "duration": 0,
    "start_time": "2023-05-06T09:52:39.670Z"
   },
   {
    "duration": 0,
    "start_time": "2023-05-06T09:52:39.671Z"
   },
   {
    "duration": 0,
    "start_time": "2023-05-06T09:52:39.673Z"
   },
   {
    "duration": 0,
    "start_time": "2023-05-06T09:52:39.674Z"
   },
   {
    "duration": 0,
    "start_time": "2023-05-06T09:52:39.675Z"
   },
   {
    "duration": 0,
    "start_time": "2023-05-06T09:52:39.676Z"
   },
   {
    "duration": 0,
    "start_time": "2023-05-06T09:52:39.677Z"
   },
   {
    "duration": 0,
    "start_time": "2023-05-06T09:52:39.678Z"
   },
   {
    "duration": 0,
    "start_time": "2023-05-06T09:52:39.679Z"
   },
   {
    "duration": 0,
    "start_time": "2023-05-06T09:52:39.680Z"
   },
   {
    "duration": 0,
    "start_time": "2023-05-06T09:52:39.681Z"
   },
   {
    "duration": 0,
    "start_time": "2023-05-06T09:52:39.682Z"
   },
   {
    "duration": 0,
    "start_time": "2023-05-06T09:52:39.683Z"
   },
   {
    "duration": 0,
    "start_time": "2023-05-06T09:52:39.684Z"
   },
   {
    "duration": 0,
    "start_time": "2023-05-06T09:52:39.685Z"
   },
   {
    "duration": 0,
    "start_time": "2023-05-06T09:52:39.686Z"
   },
   {
    "duration": 0,
    "start_time": "2023-05-06T09:52:39.687Z"
   },
   {
    "duration": 0,
    "start_time": "2023-05-06T09:52:39.694Z"
   },
   {
    "duration": 0,
    "start_time": "2023-05-06T09:52:39.695Z"
   },
   {
    "duration": 0,
    "start_time": "2023-05-06T09:52:39.697Z"
   },
   {
    "duration": 0,
    "start_time": "2023-05-06T09:52:39.698Z"
   },
   {
    "duration": 0,
    "start_time": "2023-05-06T09:52:39.699Z"
   },
   {
    "duration": 1370,
    "start_time": "2023-05-06T09:57:18.310Z"
   },
   {
    "duration": 2,
    "start_time": "2023-05-06T09:57:19.682Z"
   },
   {
    "duration": 192,
    "start_time": "2023-05-06T09:57:19.686Z"
   },
   {
    "duration": 3,
    "start_time": "2023-05-06T09:57:19.880Z"
   },
   {
    "duration": 45,
    "start_time": "2023-05-06T09:57:19.884Z"
   },
   {
    "duration": 397,
    "start_time": "2023-05-06T09:57:19.931Z"
   },
   {
    "duration": 86,
    "start_time": "2023-05-06T09:57:20.329Z"
   },
   {
    "duration": 411,
    "start_time": "2023-05-06T09:57:20.417Z"
   },
   {
    "duration": 32,
    "start_time": "2023-05-06T09:57:20.830Z"
   },
   {
    "duration": 42,
    "start_time": "2023-05-06T09:57:20.864Z"
   },
   {
    "duration": 315,
    "start_time": "2023-05-06T09:57:20.907Z"
   },
   {
    "duration": 27,
    "start_time": "2023-05-06T09:57:21.223Z"
   },
   {
    "duration": 331,
    "start_time": "2023-05-06T09:57:21.252Z"
   },
   {
    "duration": 55,
    "start_time": "2023-05-06T09:57:21.585Z"
   },
   {
    "duration": 253,
    "start_time": "2023-05-06T09:57:21.641Z"
   },
   {
    "duration": 27,
    "start_time": "2023-05-06T09:57:21.896Z"
   },
   {
    "duration": 8,
    "start_time": "2023-05-06T09:57:21.924Z"
   },
   {
    "duration": 80,
    "start_time": "2023-05-06T09:57:21.933Z"
   },
   {
    "duration": 7,
    "start_time": "2023-05-06T09:57:22.015Z"
   },
   {
    "duration": 29,
    "start_time": "2023-05-06T09:57:22.023Z"
   },
   {
    "duration": 8,
    "start_time": "2023-05-06T09:57:22.054Z"
   },
   {
    "duration": 5463,
    "start_time": "2023-05-06T09:57:22.063Z"
   },
   {
    "duration": 5489,
    "start_time": "2023-05-06T09:57:27.528Z"
   },
   {
    "duration": 11772,
    "start_time": "2023-05-06T09:57:33.019Z"
   },
   {
    "duration": 27870,
    "start_time": "2023-05-06T09:57:44.794Z"
   },
   {
    "duration": 5,
    "start_time": "2023-05-06T09:58:12.666Z"
   },
   {
    "duration": 995,
    "start_time": "2023-05-06T09:58:12.672Z"
   },
   {
    "duration": 981,
    "start_time": "2023-05-06T09:58:13.671Z"
   },
   {
    "duration": 5,
    "start_time": "2023-05-06T09:58:14.654Z"
   },
   {
    "duration": 1788,
    "start_time": "2023-05-06T09:58:14.660Z"
   },
   {
    "duration": 1346,
    "start_time": "2023-05-06T09:58:16.451Z"
   },
   {
    "duration": 18,
    "start_time": "2023-05-06T09:58:17.799Z"
   },
   {
    "duration": 11,
    "start_time": "2023-05-06T09:58:17.819Z"
   },
   {
    "duration": 47,
    "start_time": "2023-05-06T09:58:17.832Z"
   },
   {
    "duration": 0,
    "start_time": "2023-05-06T09:58:17.881Z"
   },
   {
    "duration": 0,
    "start_time": "2023-05-06T09:58:17.883Z"
   },
   {
    "duration": 0,
    "start_time": "2023-05-06T09:58:17.884Z"
   },
   {
    "duration": 0,
    "start_time": "2023-05-06T09:58:17.885Z"
   },
   {
    "duration": 0,
    "start_time": "2023-05-06T09:58:17.887Z"
   },
   {
    "duration": 0,
    "start_time": "2023-05-06T09:58:17.888Z"
   },
   {
    "duration": 0,
    "start_time": "2023-05-06T09:58:17.890Z"
   },
   {
    "duration": 0,
    "start_time": "2023-05-06T09:58:17.891Z"
   },
   {
    "duration": 0,
    "start_time": "2023-05-06T09:58:17.892Z"
   },
   {
    "duration": 0,
    "start_time": "2023-05-06T09:58:17.893Z"
   },
   {
    "duration": 0,
    "start_time": "2023-05-06T09:58:17.894Z"
   },
   {
    "duration": 0,
    "start_time": "2023-05-06T09:58:17.895Z"
   },
   {
    "duration": 36,
    "start_time": "2023-05-06T09:58:24.661Z"
   },
   {
    "duration": 41,
    "start_time": "2023-05-06T09:58:34.241Z"
   },
   {
    "duration": 12,
    "start_time": "2023-05-06T09:58:42.535Z"
   },
   {
    "duration": 47,
    "start_time": "2023-05-06T09:59:56.610Z"
   },
   {
    "duration": 41,
    "start_time": "2023-05-06T09:59:58.443Z"
   },
   {
    "duration": 264746,
    "start_time": "2023-05-06T10:00:03.014Z"
   },
   {
    "duration": 4368,
    "start_time": "2023-05-06T10:15:24.023Z"
   },
   {
    "duration": 793,
    "start_time": "2023-05-06T10:17:55.931Z"
   },
   {
    "duration": 4585,
    "start_time": "2023-05-06T10:19:59.767Z"
   },
   {
    "duration": 1400,
    "start_time": "2023-05-06T10:22:12.675Z"
   },
   {
    "duration": 2,
    "start_time": "2023-05-06T10:22:14.077Z"
   },
   {
    "duration": 215,
    "start_time": "2023-05-06T10:22:14.081Z"
   },
   {
    "duration": 4,
    "start_time": "2023-05-06T10:22:14.299Z"
   },
   {
    "duration": 54,
    "start_time": "2023-05-06T10:22:14.304Z"
   },
   {
    "duration": 404,
    "start_time": "2023-05-06T10:22:14.361Z"
   },
   {
    "duration": 77,
    "start_time": "2023-05-06T10:22:14.767Z"
   },
   {
    "duration": 417,
    "start_time": "2023-05-06T10:22:14.845Z"
   },
   {
    "duration": 39,
    "start_time": "2023-05-06T10:22:15.264Z"
   },
   {
    "duration": 23,
    "start_time": "2023-05-06T10:22:15.305Z"
   },
   {
    "duration": 314,
    "start_time": "2023-05-06T10:22:15.330Z"
   },
   {
    "duration": 30,
    "start_time": "2023-05-06T10:22:15.646Z"
   },
   {
    "duration": 302,
    "start_time": "2023-05-06T10:22:15.694Z"
   },
   {
    "duration": 49,
    "start_time": "2023-05-06T10:22:15.997Z"
   },
   {
    "duration": 255,
    "start_time": "2023-05-06T10:22:16.047Z"
   },
   {
    "duration": 29,
    "start_time": "2023-05-06T10:22:16.303Z"
   },
   {
    "duration": 24,
    "start_time": "2023-05-06T10:22:16.333Z"
   },
   {
    "duration": 72,
    "start_time": "2023-05-06T10:22:16.359Z"
   },
   {
    "duration": 7,
    "start_time": "2023-05-06T10:22:16.433Z"
   },
   {
    "duration": 8,
    "start_time": "2023-05-06T10:22:16.441Z"
   },
   {
    "duration": 10,
    "start_time": "2023-05-06T10:22:16.451Z"
   },
   {
    "duration": 5477,
    "start_time": "2023-05-06T10:22:16.462Z"
   },
   {
    "duration": 5516,
    "start_time": "2023-05-06T10:22:21.940Z"
   },
   {
    "duration": 12457,
    "start_time": "2023-05-06T10:22:27.458Z"
   },
   {
    "duration": 28233,
    "start_time": "2023-05-06T10:22:39.917Z"
   },
   {
    "duration": 5,
    "start_time": "2023-05-06T10:23:08.152Z"
   },
   {
    "duration": 927,
    "start_time": "2023-05-06T10:23:08.158Z"
   },
   {
    "duration": 821,
    "start_time": "2023-05-06T10:23:09.088Z"
   },
   {
    "duration": 5,
    "start_time": "2023-05-06T10:23:09.910Z"
   },
   {
    "duration": 1654,
    "start_time": "2023-05-06T10:23:09.916Z"
   },
   {
    "duration": 1378,
    "start_time": "2023-05-06T10:23:11.572Z"
   },
   {
    "duration": 16,
    "start_time": "2023-05-06T10:23:12.952Z"
   },
   {
    "duration": 9,
    "start_time": "2023-05-06T10:23:12.970Z"
   },
   {
    "duration": 47,
    "start_time": "2023-05-06T10:23:12.980Z"
   },
   {
    "duration": 4,
    "start_time": "2023-05-06T10:23:13.028Z"
   },
   {
    "duration": 41,
    "start_time": "2023-05-06T10:23:13.034Z"
   },
   {
    "duration": 4267,
    "start_time": "2023-05-06T10:23:13.076Z"
   },
   {
    "duration": 10,
    "start_time": "2023-05-06T10:23:17.345Z"
   },
   {
    "duration": 318,
    "start_time": "2023-05-06T10:23:17.356Z"
   },
   {
    "duration": 6,
    "start_time": "2023-05-06T10:23:17.675Z"
   },
   {
    "duration": 219,
    "start_time": "2023-05-06T10:23:17.682Z"
   },
   {
    "duration": 1351,
    "start_time": "2023-05-06T10:26:30.054Z"
   },
   {
    "duration": 3,
    "start_time": "2023-05-06T10:26:31.407Z"
   },
   {
    "duration": 217,
    "start_time": "2023-05-06T10:26:31.411Z"
   },
   {
    "duration": 3,
    "start_time": "2023-05-06T10:26:31.630Z"
   },
   {
    "duration": 68,
    "start_time": "2023-05-06T10:26:31.634Z"
   },
   {
    "duration": 434,
    "start_time": "2023-05-06T10:26:31.703Z"
   },
   {
    "duration": 81,
    "start_time": "2023-05-06T10:26:32.139Z"
   },
   {
    "duration": 453,
    "start_time": "2023-05-06T10:26:32.221Z"
   },
   {
    "duration": 40,
    "start_time": "2023-05-06T10:26:32.675Z"
   },
   {
    "duration": 27,
    "start_time": "2023-05-06T10:26:32.718Z"
   },
   {
    "duration": 325,
    "start_time": "2023-05-06T10:26:32.747Z"
   },
   {
    "duration": 37,
    "start_time": "2023-05-06T10:26:33.073Z"
   },
   {
    "duration": 327,
    "start_time": "2023-05-06T10:26:33.111Z"
   },
   {
    "duration": 77,
    "start_time": "2023-05-06T10:26:33.440Z"
   },
   {
    "duration": 268,
    "start_time": "2023-05-06T10:26:33.520Z"
   },
   {
    "duration": 29,
    "start_time": "2023-05-06T10:26:33.790Z"
   },
   {
    "duration": 5,
    "start_time": "2023-05-06T10:26:33.821Z"
   },
   {
    "duration": 80,
    "start_time": "2023-05-06T10:26:33.828Z"
   },
   {
    "duration": 7,
    "start_time": "2023-05-06T10:26:33.910Z"
   },
   {
    "duration": 8,
    "start_time": "2023-05-06T10:26:33.919Z"
   },
   {
    "duration": 7,
    "start_time": "2023-05-06T10:26:33.928Z"
   },
   {
    "duration": 5934,
    "start_time": "2023-05-06T10:26:33.936Z"
   },
   {
    "duration": 5419,
    "start_time": "2023-05-06T10:26:39.872Z"
   },
   {
    "duration": 11237,
    "start_time": "2023-05-06T10:26:45.294Z"
   },
   {
    "duration": 27505,
    "start_time": "2023-05-06T10:26:56.533Z"
   },
   {
    "duration": 4,
    "start_time": "2023-05-06T10:27:24.040Z"
   },
   {
    "duration": 978,
    "start_time": "2023-05-06T10:27:24.046Z"
   },
   {
    "duration": 845,
    "start_time": "2023-05-06T10:27:25.028Z"
   },
   {
    "duration": 4,
    "start_time": "2023-05-06T10:27:25.875Z"
   },
   {
    "duration": 1770,
    "start_time": "2023-05-06T10:27:25.881Z"
   },
   {
    "duration": 1348,
    "start_time": "2023-05-06T10:27:27.653Z"
   },
   {
    "duration": 17,
    "start_time": "2023-05-06T10:27:29.003Z"
   },
   {
    "duration": 21,
    "start_time": "2023-05-06T10:27:29.022Z"
   },
   {
    "duration": 52,
    "start_time": "2023-05-06T10:27:29.045Z"
   },
   {
    "duration": 5,
    "start_time": "2023-05-06T10:27:29.099Z"
   },
   {
    "duration": 50,
    "start_time": "2023-05-06T10:27:29.105Z"
   },
   {
    "duration": 4507,
    "start_time": "2023-05-06T10:27:29.157Z"
   },
   {
    "duration": 4,
    "start_time": "2023-05-06T10:27:33.665Z"
   },
   {
    "duration": 12,
    "start_time": "2023-05-06T10:27:33.671Z"
   },
   {
    "duration": 334,
    "start_time": "2023-05-06T10:27:33.684Z"
   },
   {
    "duration": 8,
    "start_time": "2023-05-06T10:27:34.021Z"
   },
   {
    "duration": 368,
    "start_time": "2023-05-06T10:27:34.032Z"
   },
   {
    "duration": 10909,
    "start_time": "2023-05-06T13:11:16.534Z"
   },
   {
    "duration": 190,
    "start_time": "2023-05-06T13:11:27.444Z"
   },
   {
    "duration": 2600,
    "start_time": "2023-05-06T13:11:36.134Z"
   },
   {
    "duration": 6,
    "start_time": "2023-05-06T13:11:38.934Z"
   },
   {
    "duration": 324,
    "start_time": "2023-05-06T13:11:40.116Z"
   },
   {
    "duration": 4211,
    "start_time": "2023-05-06T13:11:41.334Z"
   },
   {
    "duration": 706,
    "start_time": "2023-05-06T13:11:46.734Z"
   },
   {
    "duration": 5098,
    "start_time": "2023-05-06T13:11:47.444Z"
   },
   {
    "duration": 497,
    "start_time": "2023-05-06T13:11:52.545Z"
   },
   {
    "duration": 297,
    "start_time": "2023-05-06T13:11:53.044Z"
   },
   {
    "duration": 3204,
    "start_time": "2023-05-06T13:11:53.435Z"
   },
   {
    "duration": 199,
    "start_time": "2023-05-06T13:12:06.738Z"
   },
   {
    "duration": 3202,
    "start_time": "2023-05-06T13:12:07.534Z"
   },
   {
    "duration": 597,
    "start_time": "2023-05-06T13:12:10.741Z"
   },
   {
    "duration": 2505,
    "start_time": "2023-05-06T13:12:11.340Z"
   },
   {
    "duration": 295,
    "start_time": "2023-05-06T13:12:13.847Z"
   },
   {
    "duration": 89,
    "start_time": "2023-05-06T13:12:14.151Z"
   },
   {
    "duration": 695,
    "start_time": "2023-05-06T13:12:14.243Z"
   },
   {
    "duration": 99,
    "start_time": "2023-05-06T13:12:15.038Z"
   },
   {
    "duration": 107,
    "start_time": "2023-05-06T13:12:16.334Z"
   },
   {
    "duration": 199,
    "start_time": "2023-05-06T13:12:16.934Z"
   },
   {
    "duration": 55303,
    "start_time": "2023-05-06T13:12:17.834Z"
   },
   {
    "duration": 56097,
    "start_time": "2023-05-06T13:13:13.139Z"
   },
   {
    "duration": 117309,
    "start_time": "2023-05-06T13:14:09.334Z"
   },
   {
    "duration": 276996,
    "start_time": "2023-05-06T13:16:06.645Z"
   },
   {
    "duration": 99,
    "start_time": "2023-05-06T13:20:43.644Z"
   },
   {
    "duration": 7991,
    "start_time": "2023-05-06T13:20:43.745Z"
   },
   {
    "duration": 8899,
    "start_time": "2023-05-06T13:20:51.746Z"
   },
   {
    "duration": 6,
    "start_time": "2023-05-06T13:21:00.736Z"
   },
   {
    "duration": 18593,
    "start_time": "2023-05-06T13:21:00.744Z"
   },
   {
    "duration": 15703,
    "start_time": "2023-05-06T13:21:19.437Z"
   },
   {
    "duration": 291,
    "start_time": "2023-05-06T13:21:35.143Z"
   },
   {
    "duration": 102,
    "start_time": "2023-05-06T13:21:35.436Z"
   },
   {
    "duration": 410,
    "start_time": "2023-05-06T13:21:35.633Z"
   },
   {
    "duration": 12,
    "start_time": "2023-05-06T13:21:36.134Z"
   },
   {
    "duration": 407,
    "start_time": "2023-05-06T13:21:36.234Z"
   },
   {
    "duration": 193,
    "start_time": "2023-05-06T13:21:36.643Z"
   },
   {
    "duration": 0,
    "start_time": "2023-05-06T13:21:36.839Z"
   },
   {
    "duration": 0,
    "start_time": "2023-05-06T13:21:36.840Z"
   },
   {
    "duration": 0,
    "start_time": "2023-05-06T13:21:36.840Z"
   },
   {
    "duration": 101,
    "start_time": "2023-05-06T18:28:40.035Z"
   },
   {
    "duration": 1104,
    "start_time": "2023-05-06T18:28:44.234Z"
   },
   {
    "duration": 7,
    "start_time": "2023-05-06T18:29:35.234Z"
   },
   {
    "duration": 6,
    "start_time": "2023-05-06T18:29:35.633Z"
   },
   {
    "duration": 1716,
    "start_time": "2023-05-06T18:29:36.034Z"
   },
   {
    "duration": 4,
    "start_time": "2023-05-06T18:29:37.834Z"
   },
   {
    "duration": 398,
    "start_time": "2023-05-06T18:29:37.840Z"
   },
   {
    "duration": 3507,
    "start_time": "2023-05-06T18:29:38.240Z"
   },
   {
    "duration": 1395,
    "start_time": "2023-05-06T18:29:41.749Z"
   },
   {
    "duration": 3091,
    "start_time": "2023-05-06T18:29:43.147Z"
   },
   {
    "duration": 404,
    "start_time": "2023-05-06T18:29:46.240Z"
   },
   {
    "duration": 295,
    "start_time": "2023-05-06T18:29:46.648Z"
   },
   {
    "duration": 2498,
    "start_time": "2023-05-06T18:29:46.945Z"
   },
   {
    "duration": 299,
    "start_time": "2023-05-06T18:29:49.445Z"
   },
   {
    "duration": 2502,
    "start_time": "2023-05-06T18:29:49.746Z"
   },
   {
    "duration": 589,
    "start_time": "2023-05-06T18:29:52.250Z"
   },
   {
    "duration": 2199,
    "start_time": "2023-05-06T18:29:52.937Z"
   },
   {
    "duration": 307,
    "start_time": "2023-05-06T18:29:55.238Z"
   },
   {
    "duration": 7,
    "start_time": "2023-05-06T18:29:55.634Z"
   },
   {
    "duration": 697,
    "start_time": "2023-05-06T18:29:55.643Z"
   },
   {
    "duration": 11,
    "start_time": "2023-05-06T18:29:56.435Z"
   },
   {
    "duration": 90,
    "start_time": "2023-05-06T18:29:58.152Z"
   },
   {
    "duration": 98,
    "start_time": "2023-05-06T18:29:59.034Z"
   },
   {
    "duration": 46700,
    "start_time": "2023-05-06T18:30:00.234Z"
   },
   {
    "duration": 44800,
    "start_time": "2023-05-06T18:30:46.936Z"
   },
   {
    "duration": 97695,
    "start_time": "2023-05-06T18:31:31.739Z"
   },
   {
    "duration": 232900,
    "start_time": "2023-05-06T18:33:09.437Z"
   },
   {
    "duration": 90,
    "start_time": "2023-05-06T18:37:02.344Z"
   },
   {
    "duration": 8303,
    "start_time": "2023-05-06T18:37:02.436Z"
   },
   {
    "duration": 7394,
    "start_time": "2023-05-06T18:37:10.742Z"
   },
   {
    "duration": 5,
    "start_time": "2023-05-06T18:37:18.138Z"
   },
   {
    "duration": 13098,
    "start_time": "2023-05-06T18:37:18.234Z"
   },
   {
    "duration": 12502,
    "start_time": "2023-05-06T18:37:31.336Z"
   },
   {
    "duration": 194,
    "start_time": "2023-05-06T18:37:43.840Z"
   },
   {
    "duration": 211,
    "start_time": "2023-05-06T18:37:44.036Z"
   },
   {
    "duration": 390,
    "start_time": "2023-05-06T18:37:44.249Z"
   },
   {
    "duration": 6,
    "start_time": "2023-05-06T18:37:44.641Z"
   },
   {
    "duration": 393,
    "start_time": "2023-05-06T18:37:44.648Z"
   },
   {
    "duration": 191,
    "start_time": "2023-05-06T18:37:45.044Z"
   },
   {
    "duration": 0,
    "start_time": "2023-05-06T18:37:45.237Z"
   },
   {
    "duration": 1,
    "start_time": "2023-05-06T18:37:45.237Z"
   },
   {
    "duration": 0,
    "start_time": "2023-05-06T18:37:45.238Z"
   },
   {
    "duration": 99,
    "start_time": "2023-05-07T17:52:10.792Z"
   }
  ],
  "kernelspec": {
   "display_name": "Python 3 (ipykernel)",
   "language": "python",
   "name": "python3"
  },
  "language_info": {
   "codemirror_mode": {
    "name": "ipython",
    "version": 3
   },
   "file_extension": ".py",
   "mimetype": "text/x-python",
   "name": "python",
   "nbconvert_exporter": "python",
   "pygments_lexer": "ipython3",
   "version": "3.9.7"
  },
  "toc": {
   "base_numbering": 1,
   "nav_menu": {},
   "number_sections": true,
   "sideBar": true,
   "skip_h1_title": true,
   "title_cell": "Table of Contents",
   "title_sidebar": "Contents",
   "toc_cell": false,
   "toc_position": {},
   "toc_section_display": true,
   "toc_window_display": false
  }
 },
 "nbformat": 4,
 "nbformat_minor": 2
}
